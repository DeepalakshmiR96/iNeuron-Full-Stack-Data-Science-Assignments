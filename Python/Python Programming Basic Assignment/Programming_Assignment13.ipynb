{
  "nbformat": 4,
  "nbformat_minor": 0,
  "metadata": {
    "colab": {
      "name": "Programming_Assignment13.ipynb",
      "provenance": []
    },
    "kernelspec": {
      "name": "python3",
      "display_name": "Python 3"
    },
    "language_info": {
      "name": "python"
    }
  },
  "cells": [
    {
      "cell_type": "markdown",
      "source": [
        "1.Write a program that calculates and prints the value according to the given formula:\n",
        "Q = Square root of [(2 * C * D)/H]\n",
        "Following are the fixed values of C and H:\n",
        "C is 50. H is 30.\n",
        "D is the variable whose values should be input to your program in a comma-separated\n",
        "sequence.\n",
        "Example\n",
        "Let us assume the following comma separated input sequence is given to the program:\n",
        "100,150,180\n",
        "The output of the program should be:\n",
        "18,22,24"
      ],
      "metadata": {
        "id": "JKEueSaZVNKm"
      }
    },
    {
      "cell_type": "code",
      "execution_count": 11,
      "metadata": {
        "id": "SP2uyJYeVK3Z",
        "colab": {
          "base_uri": "https://localhost:8080/",
          "height": 53
        },
        "outputId": "9842a033-c67a-4c77-e1a0-5c77c28d54ee"
      },
      "outputs": [
        {
          "name": "stdout",
          "output_type": "stream",
          "text": [
            "enter nums : 100,150,180\n"
          ]
        },
        {
          "output_type": "execute_result",
          "data": {
            "text/plain": [
              "'18,22,24'"
            ],
            "application/vnd.google.colaboratory.intrinsic+json": {
              "type": "string"
            }
          },
          "metadata": {},
          "execution_count": 11
        }
      ],
      "source": [
        "from math import sqrt\n",
        "def calculate():\n",
        "  ip = [i for i in input('enter nums : ').split(',')]\n",
        "  C = 50\n",
        "  H = 30\n",
        "  out = []\n",
        "  for i in ip:\n",
        "    Q = str(int(sqrt((2*C*int(i))/H)))\n",
        "    out.append(Q)\n",
        "  return ','.join(out)\n",
        "\n",
        "calculate()"
      ]
    },
    {
      "cell_type": "markdown",
      "source": [
        "2.Write a program which takes 2 digits, X,Y as input and generates a 2-dimensional array. The\n",
        "element value in the i-th row and j-th column of the array should be i*j.\n",
        "Note: i=0,1.., X-1; j=0,1,¡Y-1.\n",
        "Example\n",
        "Suppose the following inputs are given to the program:\n",
        "3,5\n",
        "Then, the output of the program should be:\n",
        "[[0, 0, 0, 0, 0], [0, 1, 2, 3, 4], [0, 2, 4, 6, 8]]"
      ],
      "metadata": {
        "id": "1DkN1z94V6lh"
      }
    },
    {
      "cell_type": "code",
      "source": [
        "def createMat(m,n):\n",
        "  t = []\n",
        "  for i in range(m):\n",
        "    row = []\n",
        "    for j in range(n):\n",
        "      row.append(i*j)\n",
        "    t.append(row)\n",
        "  return t\n",
        "\n",
        "createMat(3,5)\n"
      ],
      "metadata": {
        "colab": {
          "base_uri": "https://localhost:8080/"
        },
        "id": "3RjdeysLFzef",
        "outputId": "98c54de0-5836-4d00-9ecd-48ce2e553c5b"
      },
      "execution_count": 12,
      "outputs": [
        {
          "output_type": "execute_result",
          "data": {
            "text/plain": [
              "[[0, 0, 0, 0, 0], [0, 1, 2, 3, 4], [0, 2, 4, 6, 8]]"
            ]
          },
          "metadata": {},
          "execution_count": 12
        }
      ]
    },
    {
      "cell_type": "markdown",
      "source": [
        "3.Write a program that accepts a comma separated sequence of words as input and prints the\n",
        "words in a comma-separated sequence after sorting them alphabetically.\n",
        "Suppose the following input is supplied to the program:\n",
        "without,hello,bag,world\n",
        "Then, the output should be:\n",
        "bag,hello,without,world"
      ],
      "metadata": {
        "id": "OFROzBf5WBR9"
      }
    },
    {
      "cell_type": "code",
      "source": [
        "def sorting():\n",
        "  ip = [i for i in input('enter words : ').split(',')]\n",
        "  print(\",\".join(sorted(ip)))\n",
        "\n",
        "sorting()"
      ],
      "metadata": {
        "colab": {
          "base_uri": "https://localhost:8080/"
        },
        "id": "o-9TKCzTKPSS",
        "outputId": "4000f95c-edfe-4262-e6f0-4e4a520b5a11"
      },
      "execution_count": 20,
      "outputs": [
        {
          "output_type": "stream",
          "name": "stdout",
          "text": [
            "enter words : without,hello,bag,world\n",
            "bag,hello,without,world\n"
          ]
        }
      ]
    },
    {
      "cell_type": "markdown",
      "source": [
        "4.Write a program that accepts a sequence of whitespace separated words as input and prints\n",
        "the words after removing all duplicate words and sorting them alphanumerically.\n",
        "Suppose the following input is supplied to the program:\n",
        "hello world and practice makes perfect and hello world again\n",
        "Then, the output should be:\n",
        "again and hello makes perfect practice world"
      ],
      "metadata": {
        "id": "AY8lNCzZWFpJ"
      }
    },
    {
      "cell_type": "code",
      "source": [
        "def sortAlpha(sent):\n",
        "  return ' '.join(sorted(set(sent.split(' '))))\n",
        "\n",
        "s1 = input('enter string : ')\n",
        "sortAlpha(s1)"
      ],
      "metadata": {
        "colab": {
          "base_uri": "https://localhost:8080/",
          "height": 53
        },
        "id": "LsmXaWTMZC7g",
        "outputId": "6d7513d3-41a6-408e-c88f-d17d08ae6d34"
      },
      "execution_count": 23,
      "outputs": [
        {
          "name": "stdout",
          "output_type": "stream",
          "text": [
            "enter string : hello world and practice makes perfect and hello world again\n"
          ]
        },
        {
          "output_type": "execute_result",
          "data": {
            "text/plain": [
              "'again and hello makes perfect practice world'"
            ],
            "application/vnd.google.colaboratory.intrinsic+json": {
              "type": "string"
            }
          },
          "metadata": {},
          "execution_count": 23
        }
      ]
    },
    {
      "cell_type": "markdown",
      "source": [
        "5.Write a program that accepts a sentence and calculate the number of letters and digits.\n",
        "Suppose the following input is supplied to the program:\n",
        "hello world! 123\n",
        "Then, the output should be:\n",
        "LETTERS 10\n",
        "\n",
        "DIGITS 3"
      ],
      "metadata": {
        "id": "UUL5qpZ2WIST"
      }
    },
    {
      "cell_type": "code",
      "source": [
        "def countLettersDig(ip):\n",
        "  letters = 0\n",
        "  digits = 0\n",
        "  for i in ip:\n",
        "    if i.isalpha():\n",
        "      letters += 1\n",
        "    elif i.isdigit():\n",
        "      digits += 1\n",
        "  print('LETTERS {} \\nDIGITS {}'.format(letters,digits))\n",
        "s1 = input('enter string : ')\n",
        "countLettersDig(s1)"
      ],
      "metadata": {
        "colab": {
          "base_uri": "https://localhost:8080/"
        },
        "id": "mOTdaXs1cb0J",
        "outputId": "74e780c2-7be2-4d67-bce1-315dce1877e1"
      },
      "execution_count": 25,
      "outputs": [
        {
          "output_type": "stream",
          "name": "stdout",
          "text": [
            "enter string : hello world! 123\n",
            "LETTERS 10 \n",
            "DIGITS 3\n"
          ]
        }
      ]
    },
    {
      "cell_type": "markdown",
      "source": [
        "6.A website requires the users to input username and password to register. Write a program to\n",
        "check the validity of password input by users.\n",
        "Following are the criteria for checking the password:\n",
        "1. At least 1 letter between [a-z]\n",
        "2. At least 1 number between [0-9]\n",
        "1. At least 1 letter between [A-Z]\n",
        "3. At least 1 character from [$#@]\n",
        "4. Minimum length of transaction password: 6\n",
        "5. Maximum length of transaction password: 12\n",
        "Your program should accept a sequence of comma separated passwords and will check them\n",
        "according to the above criteria. Passwords that match the criteria are to be printed, each\n",
        "separated by a comma.\n",
        "Example\n",
        "If the following passwords are given as input to the program:\n",
        "ABd1234@1,a F1#,2w3E*,2We3345\n",
        "Then, the output of the program should be:\n",
        "ABd1234@1"
      ],
      "metadata": {
        "id": "KLu8HdUlWSZu"
      }
    },
    {
      "cell_type": "code",
      "source": [
        "def checkPasswords():\n",
        "  ip = [i for i in input(\"enter passwords : \").split(',')]\n",
        "  for ele in ip:\n",
        "    if len(ele)>=6 and len(ele)<=12:\n",
        "      if any(i.isupper() for i in ele):\n",
        "        if any(i.islower() for i in ele):\n",
        "          if any(i.isdigit() for i in ele):\n",
        "            if any(i for i in ele if i in '''$#@'''):\n",
        "               print(ele)\n",
        "              \n",
        "checkPasswords()"
      ],
      "metadata": {
        "colab": {
          "base_uri": "https://localhost:8080/"
        },
        "id": "nprmVJ4rdoFb",
        "outputId": "7a49aa00-c444-4df6-8cea-b4c657ca9a51"
      },
      "execution_count": 28,
      "outputs": [
        {
          "output_type": "stream",
          "name": "stdout",
          "text": [
            "enter passwords : ABd1234@1,a F1#,2w3E*,2We3345\n",
            "ABd1234@1\n"
          ]
        }
      ]
    }
  ]
}