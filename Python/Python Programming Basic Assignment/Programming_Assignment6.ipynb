{
  "nbformat": 4,
  "nbformat_minor": 0,
  "metadata": {
    "colab": {
      "name": "Programming_Assignment6.ipynb",
      "provenance": []
    },
    "kernelspec": {
      "name": "python3",
      "display_name": "Python 3"
    },
    "language_info": {
      "name": "python"
    }
  },
  "cells": [
    {
      "cell_type": "markdown",
      "source": [
        "1.Write a Python Program to Display Fibonacci Sequence Using Recursion?"
      ],
      "metadata": {
        "id": "uztJPaX8_H3K"
      }
    },
    {
      "cell_type": "code",
      "execution_count": 10,
      "metadata": {
        "colab": {
          "base_uri": "https://localhost:8080/"
        },
        "id": "fVGz4Uy0-sn9",
        "outputId": "8b815725-5ef1-4d72-ae05-95f82d089b83"
      },
      "outputs": [
        {
          "output_type": "stream",
          "name": "stdout",
          "text": [
            "enter the length of series : 10\n",
            "0,1,1,2,3,5,8,13,21,34,"
          ]
        }
      ],
      "source": [
        "\n",
        "def fibnacci(n, a,b):\n",
        "  if n == 0:\n",
        "    return \n",
        "  else:\n",
        "    sum = a+b\n",
        "    print(sum,end=',')\n",
        "    fibnacci(n-1,b,sum)\n",
        "n1 = int(input('enter the length of series : '))\n",
        "print('0,1',end=',')\n",
        "fibnacci(n1-2,0,1)"
      ]
    },
    {
      "cell_type": "markdown",
      "source": [
        "2.Write a Python Program to Find Factorial of Number Using Recursion?"
      ],
      "metadata": {
        "id": "I3rmnA-F_KQh"
      }
    },
    {
      "cell_type": "code",
      "source": [
        "def factorial(n):\n",
        "  if n == 0:\n",
        "    return 1\n",
        "  else:\n",
        "    return n*factorial(n-1)\n",
        "\n",
        "n = int(input(\"enter num : \"))\n",
        "factorial(n)"
      ],
      "metadata": {
        "colab": {
          "base_uri": "https://localhost:8080/"
        },
        "id": "0W_zofkn_WU2",
        "outputId": "a5465793-4552-4ad2-c26b-b7e258f3467f"
      },
      "execution_count": 13,
      "outputs": [
        {
          "name": "stdout",
          "output_type": "stream",
          "text": [
            "enter num : 5\n"
          ]
        },
        {
          "output_type": "execute_result",
          "data": {
            "text/plain": [
              "120"
            ]
          },
          "metadata": {},
          "execution_count": 13
        }
      ]
    },
    {
      "cell_type": "markdown",
      "source": [
        "3.Write a Python Program to calculate your Body Mass Index?"
      ],
      "metadata": {
        "id": "kuYs_e1e_NK4"
      }
    },
    {
      "cell_type": "code",
      "source": [
        "def bmiCal(w,h):\n",
        "  bmi = w/pow(h,2)\n",
        "  if bmi<18.5:\n",
        "    print('under weight')\n",
        "  elif 18.5<=bmi<=24.9:\n",
        "    print(\"Normal weight\")\n",
        "  elif 5<=bmi<=29.9:\n",
        "    print(\"Overweight\")\n",
        "  elif bmi>=30:\n",
        "    print('Obesity')\n",
        "\n",
        "w = float(input(\"Enter weight in kg: \"))\n",
        "h = float(input(\"Enter height in m: \"))\n",
        "bmiCal(w,h)\n",
        "  "
      ],
      "metadata": {
        "colab": {
          "base_uri": "https://localhost:8080/"
        },
        "id": "WSHtK9eS_W7D",
        "outputId": "0dc3ca90-354e-4a78-e7be-f3bdb38ed90c"
      },
      "execution_count": 15,
      "outputs": [
        {
          "output_type": "stream",
          "name": "stdout",
          "text": [
            "Enter weight in kg: 45\n",
            "Enter height in m: 5.0\n",
            "under weight\n"
          ]
        }
      ]
    },
    {
      "cell_type": "markdown",
      "source": [
        "4.Write a Python Program to calculate the natural logarithm of any number?"
      ],
      "metadata": {
        "id": "NmjKrYf__QH0"
      }
    },
    {
      "cell_type": "code",
      "source": [
        "import math\n",
        "num = float(input(\"enter number : \"))\n",
        "print(math.log(num))"
      ],
      "metadata": {
        "colab": {
          "base_uri": "https://localhost:8080/"
        },
        "id": "mG_RuR5D_XdO",
        "outputId": "821003eb-0690-4674-ea3b-bc945e537315"
      },
      "execution_count": 18,
      "outputs": [
        {
          "output_type": "stream",
          "name": "stdout",
          "text": [
            "enter number : 5\n",
            "1.6094379124341003\n"
          ]
        }
      ]
    },
    {
      "cell_type": "markdown",
      "source": [
        "5.Write a Python Program for cube sum of first n natural numbers?"
      ],
      "metadata": {
        "id": "Pr7s7sN-_Sxk"
      }
    },
    {
      "cell_type": "code",
      "source": [
        "def sumCube(n):\n",
        "  sum =0\n",
        "  for i in range(n+1):\n",
        "    sum += pow(i,3)\n",
        "  return sum\n",
        "\n",
        "n = int(input(\"enter number : \"))\n",
        "sumCube(n)"
      ],
      "metadata": {
        "colab": {
          "base_uri": "https://localhost:8080/"
        },
        "id": "W02fMzhS_YEf",
        "outputId": "92725d6a-9c61-4199-8a61-43b5173b1855"
      },
      "execution_count": 23,
      "outputs": [
        {
          "name": "stdout",
          "output_type": "stream",
          "text": [
            "enter number : 5\n"
          ]
        },
        {
          "output_type": "execute_result",
          "data": {
            "text/plain": [
              "225"
            ]
          },
          "metadata": {},
          "execution_count": 23
        }
      ]
    }
  ]
}