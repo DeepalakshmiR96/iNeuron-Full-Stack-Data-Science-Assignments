{
  "nbformat": 4,
  "nbformat_minor": 0,
  "metadata": {
    "colab": {
      "name": "Programming_Assignment14.ipynb",
      "provenance": []
    },
    "kernelspec": {
      "name": "python3",
      "display_name": "Python 3"
    },
    "language_info": {
      "name": "python"
    }
  },
  "cells": [
    {
      "cell_type": "markdown",
      "source": [
        "1.Define a class with a generator which can iterate the numbers, which are divisible by\n",
        "7, between a given range 0 and n."
      ],
      "metadata": {
        "id": "1P488tr8siXk"
      }
    },
    {
      "cell_type": "code",
      "execution_count": null,
      "metadata": {
        "colab": {
          "base_uri": "https://localhost:8080/"
        },
        "id": "lsGLmfC5oChn",
        "outputId": "accf62f3-a7a7-4a7a-978a-f3faa9651807"
      },
      "outputs": [
        {
          "output_type": "stream",
          "name": "stdout",
          "text": [
            "enter last no : 100\n",
            "0,7,14,21,28,35,42,49,56,63,70,77,84,91,98,"
          ]
        }
      ],
      "source": [
        "def gene(n):\n",
        "  for i in range(0,n):\n",
        "    if i%7 == 0:\n",
        "      yield(i)\n",
        "ip = int(input(\"enter last no : \"))\n",
        "no = gene(ip)\n",
        "for i in no:\n",
        "  print(i, end=',')"
      ]
    },
    {
      "cell_type": "markdown",
      "source": [
        "2.Write a program to compute the frequency of the words from the input. The output\n",
        "should output after sorting the key alphanumerically.\n",
        "Suppose the following input is supplied to the program:\n",
        "New to Python or choosing between Python 2 and Python 3? Read Python 2 or\n",
        "Python 3.\n",
        "Then, the output should be:\n",
        "2:2\n",
        "3.:1\n",
        "3?:1\n",
        "New:1\n",
        "Python:5\n",
        "Read:1\n",
        "and:1\n",
        "between:1\n",
        "choosing:1\n",
        "or:2\n",
        "to:1"
      ],
      "metadata": {
        "id": "eo_vuO3NslRf"
      }
    },
    {
      "cell_type": "code",
      "source": [
        "def freq():\n",
        "  ip = [i for i in input('enter string : ').split(' ')]\n",
        "  frequency = {}\n",
        "  for i in ip:\n",
        "    if(frequency.get(i) == None):\n",
        "      frequency[i] = 1\n",
        "    else:\n",
        "      frequency[i] += 1\n",
        "  for ele in sorted(frequency):\n",
        "    print(f'{ele}:{frequency[ele]}')\n",
        "freq()"
      ],
      "metadata": {
        "colab": {
          "base_uri": "https://localhost:8080/"
        },
        "id": "JrLWya1aHmt9",
        "outputId": "c5e6b1c8-5764-4ccf-e8ab-c0e519584ee4"
      },
      "execution_count": null,
      "outputs": [
        {
          "output_type": "stream",
          "name": "stdout",
          "text": [
            "enter string : New to Python or choosing between Python 2 and Python 3? Read Python 2 or Python 3.\n",
            "2:2\n",
            "3.:1\n",
            "3?:1\n",
            "New:1\n",
            "Python:5\n",
            "Read:1\n",
            "and:1\n",
            "between:1\n",
            "choosing:1\n",
            "or:2\n",
            "to:1\n"
          ]
        }
      ]
    },
    {
      "cell_type": "markdown",
      "source": [
        "3.Define a class Person and its two child classes: Male and Female. All classes have a\n",
        "method &quot;getGender&quot; which can print &quot;Male&quot; for Male class and &quot;Female&quot; for Female\n",
        "class."
      ],
      "metadata": {
        "id": "OhZ3SljPssTm"
      }
    },
    {
      "cell_type": "code",
      "source": [
        "class Person():\n",
        "  def getGender(self):\n",
        "    pass\n",
        "\n",
        "class Male(Person):\n",
        "  def getGender(self):\n",
        "    print('Male')\n",
        "\n",
        "class Female(Person):\n",
        "  def getGender(self):\n",
        "    print('Female')\n",
        "\n",
        "fe = Female()\n",
        "fe.getGender()\n",
        "ma = Male()\n",
        "ma.getGender()"
      ],
      "metadata": {
        "colab": {
          "base_uri": "https://localhost:8080/"
        },
        "id": "IHdny0vSRfa3",
        "outputId": "c3481856-5fc9-4067-b133-5586792580d8"
      },
      "execution_count": null,
      "outputs": [
        {
          "output_type": "stream",
          "name": "stdout",
          "text": [
            "Female\n",
            "Male\n"
          ]
        }
      ]
    },
    {
      "cell_type": "markdown",
      "source": [
        "4.Please write a program to generate all sentences where subject is in [&quot;I&quot;, &quot;You&quot;] and\n",
        "verb is in [&quot;Play&quot;, &quot;Love&quot;] and the object is in [&quot;Hockey&quot;,&quot;Football&quot;]."
      ],
      "metadata": {
        "id": "ZovBhNdKs0io"
      }
    },
    {
      "cell_type": "code",
      "source": [
        "sub = [\"I\", \"You\"]\n",
        "verb = [\"Play\", \"Love\"]\n",
        "obj = [\"Hockey\",\"Football\"]\n",
        "for i in sub:\n",
        "  for j in verb:\n",
        "    for k in obj:\n",
        "      print(i,j,k)\n"
      ],
      "metadata": {
        "colab": {
          "base_uri": "https://localhost:8080/"
        },
        "id": "cecr0u3UTRbc",
        "outputId": "728503c6-053c-4db7-cbfc-f623aeea8dd2"
      },
      "execution_count": null,
      "outputs": [
        {
          "output_type": "stream",
          "name": "stdout",
          "text": [
            "I Play Hockey\n",
            "I Play Football\n",
            "I Love Hockey\n",
            "I Love Football\n",
            "You Play Hockey\n",
            "You Play Football\n",
            "You Love Hockey\n",
            "You Love Football\n"
          ]
        }
      ]
    },
    {
      "cell_type": "markdown",
      "source": [
        "5.Please write a program to compress and decompress the string &quot;hello world!hello\n",
        "world!hello world!hello world!&quot;."
      ],
      "metadata": {
        "id": "LDEKu_L-s4zR"
      }
    },
    {
      "cell_type": "code",
      "source": [
        "import zlib\n",
        "a = \"hello world!hello world!hello world!hello world!\"\n",
        "a = zlib.compress(a.encode())\n",
        "print(a)\n",
        "print(zlib.decompress(a).decode())"
      ],
      "metadata": {
        "id": "oCHS_N6XULH9",
        "colab": {
          "base_uri": "https://localhost:8080/"
        },
        "outputId": "17d50349-cc59-4477-87cd-927502e05c8d"
      },
      "execution_count": 3,
      "outputs": [
        {
          "output_type": "stream",
          "name": "stdout",
          "text": [
            "b'x\\x9c\\xcbH\\xcd\\xc9\\xc9W(\\xcf/\\xcaIQ\\xcc \\x82\\r\\x00\\xbd[\\x11\\xf5'\n",
            "hello world!hello world!hello world!hello world!\n"
          ]
        }
      ]
    },
    {
      "cell_type": "markdown",
      "source": [
        "6.Please write a binary search function which searches an item in a sorted list. The\n",
        "function should return the index of element to be searched in the list."
      ],
      "metadata": {
        "id": "vnkKgSGztDay"
      }
    },
    {
      "cell_type": "code",
      "source": [
        "def binary_search(l,n):\n",
        "  low = 0\n",
        "  high = len(l)-1\n",
        "  while low <= high:\n",
        "    mid = (low+high)//2\n",
        "    if l[mid]<n:\n",
        "      low = mid+1\n",
        "    elif l[mid]>n:\n",
        "      high = mid-1\n",
        "    else:\n",
        "      return mid\n",
        "  return 'no element'\n",
        "\n",
        "l = [1,2,3,4,5,6,7,8,9,10]\n",
        "print(binary_search(sorted(l),9))"
      ],
      "metadata": {
        "colab": {
          "base_uri": "https://localhost:8080/"
        },
        "id": "QhX9m-LfQSmV",
        "outputId": "66f9e467-ab41-4f47-abea-2b7d595f7503"
      },
      "execution_count": 4,
      "outputs": [
        {
          "output_type": "stream",
          "name": "stdout",
          "text": [
            "8\n"
          ]
        }
      ]
    }
  ]
}