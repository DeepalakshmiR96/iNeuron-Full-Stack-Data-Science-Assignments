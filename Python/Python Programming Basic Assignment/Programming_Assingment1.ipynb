{
  "nbformat": 4,
  "nbformat_minor": 0,
  "metadata": {
    "colab": {
      "name": "Programming_Assingment1.ipynb",
      "provenance": []
    },
    "kernelspec": {
      "name": "python3",
      "display_name": "Python 3"
    },
    "language_info": {
      "name": "python"
    }
  },
  "cells": [
    {
      "cell_type": "markdown",
      "source": [
        "1.Write a Python program to print &quot;Hello Python&quot;?"
      ],
      "metadata": {
        "id": "oKfDSIGi6_JG"
      }
    },
    {
      "cell_type": "code",
      "source": [
        "print('Hello Python')"
      ],
      "metadata": {
        "colab": {
          "base_uri": "https://localhost:8080/"
        },
        "id": "380ZJxQp7btY",
        "outputId": "9e01397f-34f7-48be-c059-35d88f019ba2"
      },
      "execution_count": 1,
      "outputs": [
        {
          "output_type": "stream",
          "name": "stdout",
          "text": [
            "Hello Python\n"
          ]
        }
      ]
    },
    {
      "cell_type": "markdown",
      "source": [
        "2.Write a Python program to do arithmetical operations addition and division.?"
      ],
      "metadata": {
        "id": "N4pJGHiX7Ajk"
      }
    },
    {
      "cell_type": "code",
      "source": [
        "def operation(a,b,op):\n",
        "  if op == 1:\n",
        "    return a+b\n",
        "  elif op == 2:\n",
        "    return a/b\n",
        "  else:\n",
        "    return 'wrong operator'\n",
        "\n",
        "a = int(input('enter num 1 : '))\n",
        "b = int(input('enter num 2 : '))\n",
        "op = int(input(' enter 1 for add \\n 2 for division'))\n",
        "operation(a,b,op)"
      ],
      "metadata": {
        "colab": {
          "base_uri": "https://localhost:8080/"
        },
        "id": "1r3sUeYA7gRI",
        "outputId": "5eb00b35-7e05-4e00-d328-3dca5dbe335e"
      },
      "execution_count": 9,
      "outputs": [
        {
          "name": "stdout",
          "output_type": "stream",
          "text": [
            "enter num 1 : 1\n",
            "enter num 2 : 5\n",
            " enter 1 for add \n",
            " 2 for division1\n"
          ]
        },
        {
          "output_type": "execute_result",
          "data": {
            "text/plain": [
              "6"
            ]
          },
          "metadata": {},
          "execution_count": 9
        }
      ]
    },
    {
      "cell_type": "markdown",
      "source": [
        "3.Write a Python program to find the area of a triangle?"
      ],
      "metadata": {
        "id": "ezKjnnbZ7Ey8"
      }
    },
    {
      "cell_type": "code",
      "source": [
        "def area(height,base):\n",
        "  return 0.5*height*base\n",
        "\n",
        "a = int(input('enter height : '))\n",
        "b = int(input('enter  base : '))\n",
        "area(a,b)\n"
      ],
      "metadata": {
        "colab": {
          "base_uri": "https://localhost:8080/"
        },
        "id": "xY4bDNgJArmb",
        "outputId": "b0cf4cbd-b2ed-45f6-efc6-bf644f09e8ad"
      },
      "execution_count": 5,
      "outputs": [
        {
          "name": "stdout",
          "output_type": "stream",
          "text": [
            "enter height : 3\n",
            "enter  base : 5\n"
          ]
        },
        {
          "output_type": "execute_result",
          "data": {
            "text/plain": [
              "7.5"
            ]
          },
          "metadata": {},
          "execution_count": 5
        }
      ]
    },
    {
      "cell_type": "markdown",
      "source": [
        "4.Write a Python program to swap two variables?"
      ],
      "metadata": {
        "id": "q8EmkAIM7HRz"
      }
    },
    {
      "cell_type": "code",
      "source": [
        "num_1 = int(input(\"Enter First Number: \"))\n",
        "num_2 = int(input(\"Enter Second Number: \"))\n",
        "num_1, num_2 = num_2, num_1\n",
        "print(num_1, num_2)"
      ],
      "metadata": {
        "colab": {
          "base_uri": "https://localhost:8080/"
        },
        "id": "VDnt47WDBXSL",
        "outputId": "1a3ada26-875a-406b-eb34-b71e1f3909b8"
      },
      "execution_count": 10,
      "outputs": [
        {
          "output_type": "stream",
          "name": "stdout",
          "text": [
            "Enter First Number: 1\n",
            "Enter Second Number: 2\n",
            "2 1\n"
          ]
        }
      ]
    },
    {
      "cell_type": "markdown",
      "source": [
        "5.Write a Python program to generate a random number?"
      ],
      "metadata": {
        "id": "XrbEias07Jug"
      }
    },
    {
      "cell_type": "code",
      "source": [
        "from random import randint\n",
        "start = int(input(\"Enter start Number: \"))\n",
        "end = int(input(\"Enter end Number: \"))\n",
        "randint(start,end)"
      ],
      "metadata": {
        "colab": {
          "base_uri": "https://localhost:8080/"
        },
        "id": "F99AcDCJCLNF",
        "outputId": "be631525-fd45-4fc6-87c3-4b3f5c18f1bc"
      },
      "execution_count": 13,
      "outputs": [
        {
          "name": "stdout",
          "output_type": "stream",
          "text": [
            "Enter start Number: 1\n",
            "Enter end Number: 10\n"
          ]
        },
        {
          "output_type": "execute_result",
          "data": {
            "text/plain": [
              "9"
            ]
          },
          "metadata": {},
          "execution_count": 13
        }
      ]
    }
  ]
}