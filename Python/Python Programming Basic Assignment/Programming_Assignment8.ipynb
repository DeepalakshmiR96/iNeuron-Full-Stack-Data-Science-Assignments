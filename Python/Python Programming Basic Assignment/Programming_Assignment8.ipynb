{
  "nbformat": 4,
  "nbformat_minor": 0,
  "metadata": {
    "colab": {
      "name": "Programming_Assignment8.ipynb",
      "provenance": [],
      "collapsed_sections": []
    },
    "kernelspec": {
      "name": "python3",
      "display_name": "Python 3"
    },
    "language_info": {
      "name": "python"
    }
  },
  "cells": [
    {
      "cell_type": "markdown",
      "source": [
        "1.Write a Python Program to Add Two Matrices?"
      ],
      "metadata": {
        "id": "GO5-0vIy_IRV"
      }
    },
    {
      "cell_type": "code",
      "source": [
        "def sum(a,b):\n",
        "  print(\"a : {}\".format(a))\n",
        "  print(\"b : {}\".format(b))\n",
        "  if len(a) == len(b):\n",
        "    final = []\n",
        "    for i in range(len(a)):\n",
        "      row = []\n",
        "      if len(a[i]) == len(b[i]):\n",
        "        for j in range(len(a[i])):\n",
        "          row.append(a[i][j]+b[i][j])\n",
        "        final.append(row)\n",
        "    return final\n",
        "\n",
        "def matrix(m,n):\n",
        "  a = []\n",
        "  print(\"enter for matrix a : \")\n",
        "  for i in range(m):\n",
        "    row = []\n",
        "    for j in range(n):\n",
        "      ele = int(input())\n",
        "      row.append(ele)\n",
        "    a.append(row)\n",
        "  print(\"enter for matrix b : \")\n",
        "  b = []\n",
        "  for i in range(m):\n",
        "    row = []\n",
        "    for j in range(n):\n",
        "      ele = int(input())\n",
        "      row.append(ele)\n",
        "    b.append(row)\n",
        "  added = sum(a,b)\n",
        "  return added\n",
        "\n",
        "print(\"added matrix : {} \".format(matrix(3,3)))\n",
        "\n"
      ],
      "metadata": {
        "colab": {
          "base_uri": "https://localhost:8080/"
        },
        "id": "T9IrxBPRvQuf",
        "outputId": "dac8792d-6688-401b-d115-73e85bf5219d"
      },
      "execution_count": null,
      "outputs": [
        {
          "output_type": "stream",
          "name": "stdout",
          "text": [
            "enter for matrix a : \n",
            "1\n",
            "2\n",
            "3\n",
            "4\n",
            "5\n",
            "6\n",
            "7\n",
            "8\n",
            "9\n",
            "enter for matrix b : \n",
            "1\n",
            "2\n",
            "3\n",
            "4\n",
            "5\n",
            "6\n",
            "7\n",
            "8\n",
            "9\n",
            "a : [[1, 2, 3], [4, 5, 6], [7, 8, 9]]\n",
            "b : [[1, 2, 3], [4, 5, 6], [7, 8, 9]]\n",
            "added matrix : [[2, 4, 6], [8, 10, 12], [14, 16, 18]] \n"
          ]
        }
      ]
    },
    {
      "cell_type": "markdown",
      "source": [
        "2.Write a Python Program to Multiply Two Matrices?"
      ],
      "metadata": {
        "id": "vrGoJbuv_Ldn"
      }
    },
    {
      "cell_type": "code",
      "source": [
        "def multiply(m,n):\n",
        "  o = [] \n",
        "  print(\"a : {}\".format(m))\n",
        "  print(\"b : {}\".format(n))\n",
        "  if len(m[0]) == len(n):\n",
        "    for i in range(len(m)):\n",
        "      o.append([ 0 for ele in range(len(n[0]))])\n",
        "  print(o)\n",
        "  for i in range(len(m)):\n",
        "    for k in range(len(n[0])):\n",
        "      for j in range(len(n)):\n",
        "        o[i][k] += m[i][j]*n[j][k]\n",
        "  return o\n",
        "\n",
        "def matrix(m,n,t,k):\n",
        "  a = []\n",
        "  print(\"enter for matrix a : \")\n",
        "  for i in range(m):\n",
        "    row = []\n",
        "    for j in range(n):\n",
        "      ele = int(input())\n",
        "      row.append(ele)\n",
        "    a.append(row)\n",
        "  print(\"enter for matrix b : \")\n",
        "  b = []\n",
        "  for i in range(t):\n",
        "    row = []\n",
        "    for j in range(k):\n",
        "      ele = int(input())\n",
        "      row.append(ele)\n",
        "    b.append(row)\n",
        "  multi = multiply(a,b)\n",
        "  return multi\n",
        "\n",
        "print(\"multi matrix : {} \".format(matrix(3,3,3,3)))"
      ],
      "metadata": {
        "colab": {
          "base_uri": "https://localhost:8080/"
        },
        "id": "6MZJyHGG4Wuy",
        "outputId": "a4e0caea-88df-4805-ce32-984abc417a61"
      },
      "execution_count": null,
      "outputs": [
        {
          "output_type": "stream",
          "name": "stdout",
          "text": [
            "enter for matrix a : \n",
            "a : [[12, 7, 3], [4, 5, 6], [7, 8, 9]]\n",
            "b : [[5, 8, 1, 2], [6, 7, 3, 0], [4, 5, 9, 1]]\n",
            "[[0, 0, 0, 0], [0, 0, 0, 0], [0, 0, 0, 0]]\n",
            "multi matrix : [[114, 160, 60, 27], [74, 97, 73, 14], [119, 157, 112, 23]] \n"
          ]
        }
      ]
    },
    {
      "cell_type": "markdown",
      "source": [
        "3.Write a Python Program to Transpose a Matrix?"
      ],
      "metadata": {
        "id": "Ibgv1FIb_One"
      }
    },
    {
      "cell_type": "code",
      "source": [
        "def transpose(a):\n",
        "  t = []\n",
        "  print(\"a : {}\".format(a))\n",
        "  for i in range(len(a[0])):\n",
        "    t.append([0 for ele in range(len(a))])\n",
        "  for i in range(len(a)):\n",
        "    for j in range(len(a[0])):\n",
        "      t[j][i] += a[i][j]\n",
        "  return t\n",
        "\n",
        "def matrix(m,n):\n",
        "  a = []\n",
        "  print(\"enter for matrix : \")\n",
        "  for i in range(m):\n",
        "    row = []\n",
        "    for j in range(n):\n",
        "      ele = int(input())\n",
        "      row.append(ele)\n",
        "    a.append(row)\n",
        "  t = transpose(a)\n",
        "  return t\n",
        "\n",
        "print(\"transpose matrix : {} \".format(matrix(3,3)))"
      ],
      "metadata": {
        "colab": {
          "base_uri": "https://localhost:8080/"
        },
        "id": "pCh6LOA7zzXY",
        "outputId": "ccdd9f38-75e2-4f10-cb5d-ebe0d71d53d7"
      },
      "execution_count": null,
      "outputs": [
        {
          "output_type": "stream",
          "name": "stdout",
          "text": [
            "enter for matrix : \n",
            "1\n",
            "2\n",
            "3\n",
            "4\n",
            "5\n",
            "6\n",
            "7\n",
            "8\n",
            "9\n",
            "a : [[1, 2, 3], [4, 5, 6], [7, 8, 9]]\n",
            "transpose matrix : [[1, 4, 7], [2, 5, 8], [3, 6, 9]] \n"
          ]
        }
      ]
    },
    {
      "cell_type": "markdown",
      "source": [
        "4.Write a Python Program to Sort Words in Alphabetic Order?"
      ],
      "metadata": {
        "id": "N32Cywc3_RzR"
      }
    },
    {
      "cell_type": "code",
      "source": [
        "def sortWords():\n",
        "  ip = str(input(\"enter string : \"))\n",
        "  sortip = ' '.join(sorted(ip.split(' ')))\n",
        "  return sortip\n",
        "\n",
        "sortWords()"
      ],
      "metadata": {
        "colab": {
          "base_uri": "https://localhost:8080/",
          "height": 53
        },
        "id": "h71XIdeKHVPW",
        "outputId": "ad094548-e7dd-420c-c9c4-b9a90a3dedb8"
      },
      "execution_count": null,
      "outputs": [
        {
          "name": "stdout",
          "output_type": "stream",
          "text": [
            "enter string : i neuron data science\n"
          ]
        },
        {
          "output_type": "execute_result",
          "data": {
            "text/plain": [
              "'data i neuron science'"
            ],
            "application/vnd.google.colaboratory.intrinsic+json": {
              "type": "string"
            }
          },
          "metadata": {},
          "execution_count": 14
        }
      ]
    },
    {
      "cell_type": "markdown",
      "source": [
        "5.Write a Python Program to Remove Punctuation From a String?"
      ],
      "metadata": {
        "id": "GlC1Pf40_Vtm"
      }
    },
    {
      "cell_type": "code",
      "source": [
        "def removePunc():\n",
        "  ip = str(input(\"enter string : \"))\n",
        "  punctuations = '''!()-[]{};:'\"\\,<>./?@#$%^&*_~'''\n",
        "  final = ''\n",
        "  for ele in ip:\n",
        "    if ele not in punctuations:\n",
        "      final += ele\n",
        "  return final\n",
        "\n",
        "removePunc()"
      ],
      "metadata": {
        "colab": {
          "base_uri": "https://localhost:8080/",
          "height": 53
        },
        "id": "SCF_ezchJhxz",
        "outputId": "b6c64097-fe25-40e8-8c2c-01ca4a36bdb5"
      },
      "execution_count": null,
      "outputs": [
        {
          "name": "stdout",
          "output_type": "stream",
          "text": [
            "enter string : -- programming assignment @8 >>\n"
          ]
        },
        {
          "output_type": "execute_result",
          "data": {
            "text/plain": [
              "' programming assignment 8 '"
            ],
            "application/vnd.google.colaboratory.intrinsic+json": {
              "type": "string"
            }
          },
          "metadata": {},
          "execution_count": 16
        }
      ]
    }
  ]
}