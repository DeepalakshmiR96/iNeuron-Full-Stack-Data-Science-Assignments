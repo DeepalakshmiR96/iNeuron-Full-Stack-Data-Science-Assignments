{
  "nbformat": 4,
  "nbformat_minor": 0,
  "metadata": {
    "colab": {
      "name": "Programming_Assignment7.ipynb",
      "provenance": []
    },
    "kernelspec": {
      "name": "python3",
      "display_name": "Python 3"
    },
    "language_info": {
      "name": "python"
    }
  },
  "cells": [
    {
      "cell_type": "markdown",
      "source": [
        "1.Write a Python Program to find sum of array?"
      ],
      "metadata": {
        "id": "jQBmlfZyOWbB"
      }
    },
    {
      "cell_type": "code",
      "source": [
        "def sumArray(args):\n",
        "  sum = 0\n",
        "  for i in args:\n",
        "    sum += i\n",
        "  return sum\n",
        "arr = []\n",
        "n = int(input('enter number of elements : '))\n",
        "for i in range(n):\n",
        "  ele = int(input())\n",
        "  arr.append(ele)\n",
        "\n",
        "sumArray(arr)"
      ],
      "metadata": {
        "id": "NjALh0zGOzi9",
        "colab": {
          "base_uri": "https://localhost:8080/"
        },
        "outputId": "6cd25471-f9a0-4c4f-cf34-8b71756c5b53"
      },
      "execution_count": 6,
      "outputs": [
        {
          "name": "stdout",
          "output_type": "stream",
          "text": [
            "enter number of elements : 5\n",
            "5\n",
            "2\n",
            "7\n",
            "8\n",
            "4\n"
          ]
        },
        {
          "output_type": "execute_result",
          "data": {
            "text/plain": [
              "26"
            ]
          },
          "metadata": {},
          "execution_count": 6
        }
      ]
    },
    {
      "cell_type": "markdown",
      "source": [
        "2.Write a Python Program to find largest element in an array?"
      ],
      "metadata": {
        "id": "-HjQRJIROZS0"
      }
    },
    {
      "cell_type": "code",
      "source": [
        "def largest(args):\n",
        "  max = args[0]\n",
        "  for i in args:\n",
        "    if max < i:\n",
        "      max = i\n",
        "  return max\n",
        "arr = []\n",
        "n = int(input('enter number of elements : '))\n",
        "for i in range(n):\n",
        "  ele = int(input())\n",
        "  arr.append(ele)\n",
        "print(\"largest no. : {}\".format(largest(arr)))"
      ],
      "metadata": {
        "colab": {
          "base_uri": "https://localhost:8080/"
        },
        "id": "WYIILOI7cmYb",
        "outputId": "4062891c-2cd2-4e47-f26c-d075eb888444"
      },
      "execution_count": 9,
      "outputs": [
        {
          "output_type": "stream",
          "name": "stdout",
          "text": [
            "enter number of elements : 4\n",
            "4\n",
            "22\n",
            "1\n",
            "2\n",
            "largest no. : 22\n"
          ]
        }
      ]
    },
    {
      "cell_type": "markdown",
      "source": [
        "3.Write a Python Program for array rotation?"
      ],
      "metadata": {
        "id": "7QztjfMTOdAx"
      }
    },
    {
      "cell_type": "code",
      "source": [
        "def rotation(args):\n",
        "  # t = len(args)\n",
        "  # temp = [0]*t\n",
        "  # for i in args:\n",
        "  #   t -= 1\n",
        "  #   temp[t] = i\n",
        "  # return temp\n",
        "  return list(args[::-1])\n",
        "arr = []\n",
        "n = int(input('enter number of elements : '))\n",
        "for i in range(n):\n",
        "  ele = int(input())\n",
        "  arr.append(ele)\n",
        "print(\"roatated : {}\".format(rotation(arr)))"
      ],
      "metadata": {
        "id": "5if9HIR0fXs0",
        "colab": {
          "base_uri": "https://localhost:8080/"
        },
        "outputId": "2d560ee5-9978-4816-8214-4e90c73a026a"
      },
      "execution_count": 10,
      "outputs": [
        {
          "output_type": "stream",
          "name": "stdout",
          "text": [
            "enter number of elements : 3\n",
            "3\n",
            "2\n",
            "1\n",
            "roatated : [1, 2, 3]\n"
          ]
        }
      ]
    },
    {
      "cell_type": "markdown",
      "source": [
        "4.Write a Python Program to Split the array and add the first part to the end?"
      ],
      "metadata": {
        "id": "lonYgw4lOfnI"
      }
    },
    {
      "cell_type": "code",
      "source": [
        "def arrayPart(args):\n",
        "  middle = len(args)//2\n",
        "  firstpart = args[:middle]\n",
        "  secondpart = args[middle:]\n",
        "  return list(secondpart+firstpart)\n",
        "arr = []\n",
        "n = int(input('enter number of elements : '))\n",
        "for i in range(n):\n",
        "  ele = int(input())\n",
        "  arr.append(ele)\n",
        "print(\"final op : {}\".format(arrayPart(arr)))"
      ],
      "metadata": {
        "colab": {
          "base_uri": "https://localhost:8080/"
        },
        "id": "nnmtytYB7fIE",
        "outputId": "ae6173c8-c75b-4dfe-f927-8b8d2245ab4c"
      },
      "execution_count": 12,
      "outputs": [
        {
          "output_type": "stream",
          "name": "stdout",
          "text": [
            "enter number of elements : 4\n",
            "3\n",
            "4\n",
            "1\n",
            "2\n",
            "final op : [1, 2, 3, 4]\n"
          ]
        }
      ]
    },
    {
      "cell_type": "markdown",
      "source": [
        "5.Write a Python Program to check if given array is Monotonic?"
      ],
      "metadata": {
        "id": "fU12K-JWOiPk"
      }
    },
    {
      "cell_type": "code",
      "source": [
        "def monotonic(args):\n",
        "  return(all(args[i] <= args[i+1] for i in range(len(args)-1)) or all(args[i] >= args[i+1] for i in range(len(args)-1)))\n",
        "arr = []\n",
        "n = int(input('enter number of elements : '))\n",
        "for i in range(n):\n",
        "  ele = int(input())\n",
        "  arr.append(ele)\n",
        "print(\"is Monotonic : {}\".format(monotonic(arr)))"
      ],
      "metadata": {
        "colab": {
          "base_uri": "https://localhost:8080/"
        },
        "id": "67Xx1rMe9Rgd",
        "outputId": "ffce3d89-785e-4bf0-8cbb-c7114d6f6aa4"
      },
      "execution_count": 13,
      "outputs": [
        {
          "output_type": "stream",
          "name": "stdout",
          "text": [
            "enter number of elements : 5\n",
            "1\n",
            "2\n",
            "3\n",
            "4\n",
            "5\n",
            "is Monotonic : True\n"
          ]
        }
      ]
    }
  ]
}