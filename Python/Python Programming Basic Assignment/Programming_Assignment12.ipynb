{
  "nbformat": 4,
  "nbformat_minor": 0,
  "metadata": {
    "colab": {
      "name": "Programming_Assignment12.ipynb",
      "provenance": [],
      "collapsed_sections": []
    },
    "kernelspec": {
      "name": "python3",
      "display_name": "Python 3"
    },
    "language_info": {
      "name": "python"
    }
  },
  "cells": [
    {
      "cell_type": "markdown",
      "source": [
        "1.Write a Python program to Extract Unique values dictionary values?"
      ],
      "metadata": {
        "id": "7COpeo-6mpKk"
      }
    },
    {
      "cell_type": "code",
      "source": [
        "def unqVal(dit):\n",
        "  d = []\n",
        "  for i in dit.values():\n",
        "    if i not in d:\n",
        "      d.append(i)\n",
        "  return d\n",
        "\n",
        "unqVal({\"1\":'1',\"2\":'1','3':'2','4':'3'})"
      ],
      "metadata": {
        "colab": {
          "base_uri": "https://localhost:8080/"
        },
        "id": "MihahiUt0L6X",
        "outputId": "3c842917-272c-4ae4-f8a6-c35c87b6d959"
      },
      "execution_count": 3,
      "outputs": [
        {
          "output_type": "execute_result",
          "data": {
            "text/plain": [
              "['1', '2', '3']"
            ]
          },
          "metadata": {},
          "execution_count": 3
        }
      ]
    },
    {
      "cell_type": "markdown",
      "source": [
        "2.Write a Python program to find the sum of all items in a dictionary?"
      ],
      "metadata": {
        "id": "NeiSbc3UmrUM"
      }
    },
    {
      "cell_type": "code",
      "source": [
        "def sumDic(dit):\n",
        "  sum = 0\n",
        "  for i in dit.values():\n",
        "    sum += i\n",
        "  return sum\n",
        "\n",
        "sumDic({'Apple':10,'Mango':20,'Banana':30,'Guava':40,'PineApple':200})"
      ],
      "metadata": {
        "colab": {
          "base_uri": "https://localhost:8080/"
        },
        "id": "hWMuBB-Z3AM4",
        "outputId": "6b228a94-e175-43a6-fee6-e1cdb90c9621"
      },
      "execution_count": 4,
      "outputs": [
        {
          "output_type": "execute_result",
          "data": {
            "text/plain": [
              "300"
            ]
          },
          "metadata": {},
          "execution_count": 4
        }
      ]
    },
    {
      "cell_type": "markdown",
      "source": [
        "3.Write a Python program to Merging two Dictionaries?"
      ],
      "metadata": {
        "id": "BOp33Bg9muDn"
      }
    },
    {
      "cell_type": "code",
      "source": [
        "d1 = {'one':'1','two':'2'}\n",
        "d2 = {'three':'3','four':'4'}\n",
        "d1.update(d2)\n",
        "print(d1)"
      ],
      "metadata": {
        "colab": {
          "base_uri": "https://localhost:8080/"
        },
        "id": "jrCUIVU75Kbj",
        "outputId": "50439579-8734-4ebb-d74d-f453846a3694"
      },
      "execution_count": 6,
      "outputs": [
        {
          "output_type": "stream",
          "name": "stdout",
          "text": [
            "{'one': '1', 'two': '2', 'three': '3', 'four': '4'}\n"
          ]
        }
      ]
    },
    {
      "cell_type": "markdown",
      "source": [
        "4.Write a Python program to convert key-values list to flat dictionary?"
      ],
      "metadata": {
        "id": "d-VyteMQmwTI"
      }
    },
    {
      "cell_type": "code",
      "source": [
        "l = ['a',100,'b',200,'c',300,'d',400,'e',500,'f',600]\n",
        "d = {}\n",
        "for i in range(0,len(l),2):\n",
        "    d[l[i]] = l[i+1]\n",
        "print(d)"
      ],
      "metadata": {
        "colab": {
          "base_uri": "https://localhost:8080/"
        },
        "id": "zGA26WfA5sA_",
        "outputId": "ada064cb-30e3-4ed1-8f6c-74bed7239d6d"
      },
      "execution_count": 29,
      "outputs": [
        {
          "output_type": "stream",
          "name": "stdout",
          "text": [
            "{'a': 100, 'b': 200, 'c': 300, 'd': 400, 'e': 500, 'f': 600}\n"
          ]
        }
      ]
    },
    {
      "cell_type": "markdown",
      "source": [
        "5.Write a Python program to insertion at the beginning in OrderedDict?"
      ],
      "metadata": {
        "id": "DOQ3lkhYmzih"
      }
    },
    {
      "cell_type": "code",
      "source": [
        "from collections import OrderedDict\n",
        "ordDic = OrderedDict([('one',1), ('two',2)])\n",
        "ordDic.update({'t':1})\n",
        "print(ordDic)\n",
        "ordDic.move_to_end('t',last=False)\n",
        "print(ordDic)"
      ],
      "metadata": {
        "colab": {
          "base_uri": "https://localhost:8080/"
        },
        "id": "YqPK1TnMIQcN",
        "outputId": "8c192cd8-9abe-46ce-d655-7e762df99582"
      },
      "execution_count": 36,
      "outputs": [
        {
          "output_type": "stream",
          "name": "stdout",
          "text": [
            "OrderedDict([('one', 1), ('two', 2), ('t', 1)])\n",
            "OrderedDict([('t', 1), ('one', 1), ('two', 2)])\n"
          ]
        }
      ]
    },
    {
      "cell_type": "markdown",
      "source": [
        "6.Write a Python program to check order of character in string using OrderedDict()?"
      ],
      "metadata": {
        "id": "vcKxeGiMm1_6"
      }
    },
    {
      "cell_type": "code",
      "source": [
        "from collections import OrderedDict\n",
        "\n",
        "unord = {'a': 1000, 'f': 200, 'd': 300, 'c': 400, 'b': 500, 'e': 600}\n",
        "OrderedDict(sorted(unord.items()))"
      ],
      "metadata": {
        "colab": {
          "base_uri": "https://localhost:8080/"
        },
        "id": "pxAF1az_PlWj",
        "outputId": "92f36a75-a22b-414c-8042-a0fc4de0b3f8"
      },
      "execution_count": 40,
      "outputs": [
        {
          "output_type": "execute_result",
          "data": {
            "text/plain": [
              "OrderedDict([('a', 1000),\n",
              "             ('b', 500),\n",
              "             ('c', 400),\n",
              "             ('d', 300),\n",
              "             ('e', 600),\n",
              "             ('f', 200)])"
            ]
          },
          "metadata": {},
          "execution_count": 40
        }
      ]
    },
    {
      "cell_type": "markdown",
      "source": [
        "7.Write a Python program to sort Python Dictionaries by Key or Value?"
      ],
      "metadata": {
        "id": "wZZbQeo_m4ql"
      }
    },
    {
      "cell_type": "code",
      "source": [
        "dit = {'a': 1000, 'f': 200, 'd': 300, 'c': 400, 'b': 500, 'e': 600}\n",
        "def sortDic(dit, stype):\n",
        "  if stype == 'key':\n",
        "    return dict(sorted(dit.items(), key=lambda x: x[0], reverse=False))\n",
        "  else:\n",
        "    return dict(sorted(dit.items(), key=lambda x: x[1], reverse=False))\n",
        "\n",
        "print(sortDic(dit,'key'))"
      ],
      "metadata": {
        "colab": {
          "base_uri": "https://localhost:8080/"
        },
        "id": "RZe2TifuR4Tx",
        "outputId": "9930a946-d8fd-406d-c1bf-f594902be3ac"
      },
      "execution_count": 43,
      "outputs": [
        {
          "output_type": "stream",
          "name": "stdout",
          "text": [
            "{'a': 1000, 'b': 500, 'c': 400, 'd': 300, 'e': 600, 'f': 200}\n"
          ]
        }
      ]
    }
  ]
}