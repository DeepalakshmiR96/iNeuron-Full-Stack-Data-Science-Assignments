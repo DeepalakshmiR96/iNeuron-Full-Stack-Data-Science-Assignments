{
  "nbformat": 4,
  "nbformat_minor": 0,
  "metadata": {
    "colab": {
      "name": "Programming_Assignment11.ipynb",
      "provenance": [],
      "collapsed_sections": []
    },
    "kernelspec": {
      "name": "python3",
      "display_name": "Python 3"
    },
    "language_info": {
      "name": "python"
    }
  },
  "cells": [
    {
      "cell_type": "markdown",
      "source": [
        "1.Write a Python program to find words which are greater than given length k?"
      ],
      "metadata": {
        "id": "mGIjhGZGZYAF"
      }
    },
    {
      "cell_type": "code",
      "execution_count": 3,
      "metadata": {
        "colab": {
          "base_uri": "https://localhost:8080/"
        },
        "id": "SdW8P5LBZGkX",
        "outputId": "39eaf80d-7962-49d2-c3d1-8f5a2e4f0009"
      },
      "outputs": [
        {
          "name": "stdout",
          "output_type": "stream",
          "text": [
            "enter the string : hello i am python\n",
            "enter the length : 2\n"
          ]
        },
        {
          "output_type": "execute_result",
          "data": {
            "text/plain": [
              "['hello', 'python']"
            ]
          },
          "metadata": {},
          "execution_count": 3
        }
      ],
      "source": [
        "def greaterthanlen(sent,k):\n",
        "  words = sent.split(' ')\n",
        "  final = []\n",
        "  for i in words:\n",
        "    if len(i) > k:\n",
        "      final.append(i)\n",
        "  return final\n",
        "\n",
        "sent = input(\"enter the string : \")\n",
        "k = int(input(\"enter the length : \"))\n",
        "greaterthanlen(sent,k)"
      ]
    },
    {
      "cell_type": "markdown",
      "source": [
        "2.Write a Python program for removing i-th character from a string?"
      ],
      "metadata": {
        "id": "J6DqWVyDZb0A"
      }
    },
    {
      "cell_type": "code",
      "source": [
        "def removing(string,i):\n",
        "  fin = ''\n",
        "  for k in range(len(string)):\n",
        "    if k != i:\n",
        "      fin += string[k]\n",
        "  return fin\n",
        "\n",
        "sent = input(\"enter the string : \")\n",
        "k = int(input(\"enter the i-th character : \"))\n",
        "removing(sent,k)\n"
      ],
      "metadata": {
        "colab": {
          "base_uri": "https://localhost:8080/",
          "height": 70
        },
        "id": "ut4wOMycrLss",
        "outputId": "3a4b0160-e3b6-4b2c-e0e3-4cd15ea9b551"
      },
      "execution_count": 9,
      "outputs": [
        {
          "name": "stdout",
          "output_type": "stream",
          "text": [
            "enter the string : this is python\n",
            "enter the i-th character : 4\n"
          ]
        },
        {
          "output_type": "execute_result",
          "data": {
            "text/plain": [
              "'thisis python'"
            ],
            "application/vnd.google.colaboratory.intrinsic+json": {
              "type": "string"
            }
          },
          "metadata": {},
          "execution_count": 9
        }
      ]
    },
    {
      "cell_type": "markdown",
      "source": [
        "3.Write a Python program to split and join a string?"
      ],
      "metadata": {
        "id": "jgv1n4HQZgkn"
      }
    },
    {
      "cell_type": "code",
      "source": [
        "def splitJoin(string):\n",
        "  sp = string.split(' ')\n",
        "  print(\"split : {}\".format(sp))\n",
        "  jn = ' '.join(sp)\n",
        "  print(\"join : {}\".format(jn))\n",
        "\n",
        "sent = input(\"enter the string : \")\n",
        "splitJoin(sent)"
      ],
      "metadata": {
        "colab": {
          "base_uri": "https://localhost:8080/"
        },
        "id": "3s7e3V-auVE_",
        "outputId": "68559689-c7b7-427c-82df-9957621c8d0c"
      },
      "execution_count": 10,
      "outputs": [
        {
          "output_type": "stream",
          "name": "stdout",
          "text": [
            "enter the string : this is python\n",
            "split : ['this', 'is', 'python']\n",
            "join : this is python\n"
          ]
        }
      ]
    },
    {
      "cell_type": "markdown",
      "source": [
        "4.Write a Python to check if a given string is binary string or not?"
      ],
      "metadata": {
        "id": "h5BrwQ0XZiwS"
      }
    },
    {
      "cell_type": "code",
      "source": [
        "def checkBinary(string):\n",
        "  flag = 1\n",
        "  for i in range(len(string)):\n",
        "    if string[i] not in ['0','1']:\n",
        "      flag = 0\n",
        "      print('not binary')\n",
        "      break\n",
        "    else:\n",
        "      flag = 1\n",
        "      continue\n",
        "  if flag == 1:\n",
        "    print(\"binary\")\n",
        "\n",
        "st = input('enter string : ')\n",
        "checkBinary(st)"
      ],
      "metadata": {
        "colab": {
          "base_uri": "https://localhost:8080/"
        },
        "id": "aurxIaBuvPnj",
        "outputId": "e523b24c-1655-4553-8b56-10a8694a2ae7"
      },
      "execution_count": 17,
      "outputs": [
        {
          "output_type": "stream",
          "name": "stdout",
          "text": [
            "enter string : 0\n",
            "binary\n"
          ]
        }
      ]
    },
    {
      "cell_type": "markdown",
      "source": [
        "5.Write a Python program to find uncommon words from two Strings?"
      ],
      "metadata": {
        "id": "G59keyIPZk1X"
      }
    },
    {
      "cell_type": "code",
      "source": [
        "def common(st1, st2):\n",
        "  st1 = st1.split(' ')\n",
        "  st2 = st2.split(' ')\n",
        "  words = {}\n",
        "  for i in st1:\n",
        "    if i in words.keys():\n",
        "      words[i] += 1\n",
        "    else:\n",
        "      words[i] = 1\n",
        "\n",
        "  for i in st2:\n",
        "    if i in words.keys():\n",
        "      words[i] += 1\n",
        "    else:\n",
        "      words[i] = 1\n",
        "  return [word for word in words.keys() if words[word] == 1]\n",
        "st1 = input('enter string : ')\n",
        "st2 = input('enter string : ')\n",
        "common(st1, st2)"
      ],
      "metadata": {
        "colab": {
          "base_uri": "https://localhost:8080/"
        },
        "id": "_9vkNgILHY_j",
        "outputId": "02f29333-7142-4127-a920-5f7298fb9eae"
      },
      "execution_count": 34,
      "outputs": [
        {
          "name": "stdout",
          "output_type": "stream",
          "text": [
            "enter string : i am deepa\n",
            "enter string : i am python\n"
          ]
        },
        {
          "output_type": "execute_result",
          "data": {
            "text/plain": [
              "['deepa', 'python']"
            ]
          },
          "metadata": {},
          "execution_count": 34
        }
      ]
    },
    {
      "cell_type": "markdown",
      "source": [
        "6.Write a Python to find all duplicate characters in string?"
      ],
      "metadata": {
        "id": "gd2LsgFUZnVY"
      }
    },
    {
      "cell_type": "code",
      "source": [
        "def duplic(string):\n",
        "  dup = []\n",
        "  for i in string:\n",
        "    if string.count(i) > 1:\n",
        "      if i not in dup:\n",
        "        dup.append(i)\n",
        "  return dup\n",
        "st = input('enter string : ')\n",
        "duplic(st)"
      ],
      "metadata": {
        "colab": {
          "base_uri": "https://localhost:8080/"
        },
        "id": "4Tc4md0EP4Cm",
        "outputId": "e8808c70-80d6-49d0-c06f-e1da5aa77537"
      },
      "execution_count": 35,
      "outputs": [
        {
          "name": "stdout",
          "output_type": "stream",
          "text": [
            "enter string : deepa\n"
          ]
        },
        {
          "output_type": "execute_result",
          "data": {
            "text/plain": [
              "['e']"
            ]
          },
          "metadata": {},
          "execution_count": 35
        }
      ]
    },
    {
      "cell_type": "markdown",
      "source": [
        "7.Write a Python Program to check if a string contains any special character?"
      ],
      "metadata": {
        "id": "vZC8jgUYZqEE"
      }
    },
    {
      "cell_type": "code",
      "source": [
        "def checkSpecial(string):\n",
        "  for i in string:\n",
        "    if i in '[@_!#$%^&*()<>?/\\|}{~:]':\n",
        "      print('found special char - {}'.format(i))\n",
        "st = input('enter string : ')\n",
        "checkSpecial(st)"
      ],
      "metadata": {
        "colab": {
          "base_uri": "https://localhost:8080/"
        },
        "id": "IZZeGFpRh9g2",
        "outputId": "b10c4826-13ac-46f6-8665-915cb0814b85"
      },
      "execution_count": 37,
      "outputs": [
        {
          "output_type": "stream",
          "name": "stdout",
          "text": [
            "enter string : hello world!\n",
            "found special char - !\n"
          ]
        }
      ]
    }
  ]
}