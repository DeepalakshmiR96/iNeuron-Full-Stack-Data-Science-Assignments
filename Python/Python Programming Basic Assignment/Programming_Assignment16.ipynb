{
  "nbformat": 4,
  "nbformat_minor": 0,
  "metadata": {
    "colab": {
      "name": "Programming_Assignment16.ipynb",
      "provenance": []
    },
    "kernelspec": {
      "name": "python3",
      "display_name": "Python 3"
    },
    "language_info": {
      "name": "python"
    }
  },
  "cells": [
    {
      "cell_type": "markdown",
      "source": [
        "1.Write a function that stutters a word as if someone is struggling to read it. The\n",
        "first two letters are repeated twice with an ellipsis ... and space after each, and then the\n",
        "word is pronounced with a question mark ?.\n",
        "Examples\n",
        "stutter(&quot;incredible&quot;) ➞ &quot;in... in... incredible?&quot;\n",
        "stutter(&quot;enthusiastic&quot;) ➞ &quot;en... en... enthusiastic?&quot;\n",
        "stutter(&quot;outstanding&quot;) ➞ &quot;ou... ou... outstanding?&quot;\n",
        "\n",
        "Hint :- Assume all input is in lower case and at least two characters long."
      ],
      "metadata": {
        "id": "YhrrcsK9kdh8"
      }
    },
    {
      "cell_type": "code",
      "execution_count": 26,
      "metadata": {
        "colab": {
          "base_uri": "https://localhost:8080/",
          "height": 53
        },
        "id": "OGeEAMkZkcAm",
        "outputId": "ac160628-8c92-4997-bbd4-6ec313c5dd79"
      },
      "outputs": [
        {
          "name": "stdout",
          "output_type": "stream",
          "text": [
            "enter a word : outstanding\n"
          ]
        },
        {
          "output_type": "execute_result",
          "data": {
            "text/plain": [
              "'ou... ou... outstanding?'"
            ],
            "application/vnd.google.colaboratory.intrinsic+json": {
              "type": "string"
            }
          },
          "metadata": {},
          "execution_count": 26
        }
      ],
      "source": [
        "def stutter(ip):\n",
        "  stri = (ip[:2]+\"... \")*2+ip+'?'\n",
        "  return stri\n",
        "st = input(\"enter a word : \")\n",
        "stutter(st)"
      ]
    },
    {
      "cell_type": "markdown",
      "source": [
        "2.Create a function that takes an angle in radians and returns the corresponding\n",
        "angle in degrees rounded to one decimal place.\n",
        "Examples\n",
        "radians_to_degrees(1) ➞ 57.3\n",
        "radians_to_degrees(20) ➞ 1145.9\n",
        "radians_to_degrees(50) ➞ 2864.8"
      ],
      "metadata": {
        "id": "MqJ-D5EWkmLA"
      }
    },
    {
      "cell_type": "code",
      "source": [
        "import math\n",
        "def radians_to_degrees(n):\n",
        "  return round(n*180/math.pi,1)\n",
        "\n",
        "print(radians_to_degrees(1))\n",
        "print(radians_to_degrees(20))\n",
        "print(radians_to_degrees(50))"
      ],
      "metadata": {
        "colab": {
          "base_uri": "https://localhost:8080/"
        },
        "id": "XIsGkvginV1K",
        "outputId": "b8b07ad6-fbac-4cf7-e252-7f32233c3ad0"
      },
      "execution_count": 8,
      "outputs": [
        {
          "output_type": "stream",
          "name": "stdout",
          "text": [
            "57.3\n",
            "1145.9\n",
            "2864.8\n"
          ]
        }
      ]
    },
    {
      "cell_type": "markdown",
      "source": [
        "3.In this challenge, establish if a given integer num is a Curzon number. If 1 plus\n",
        "2 elevated to num is exactly divisible by 1 plus 2 multiplied by num, then num is a Curzon\n",
        "number.\n",
        "Given a non-negative integer num, implement a function that returns True if num is a Curzon\n",
        "number, or False otherwise.\n",
        "Examples\n",
        "is_curzon(5) ➞ True\n",
        "\\# 2 ** 5 + 1 = 33\n",
        "\n",
        "\\# 2 * 5 + 1 = 11\n",
        "\n",
        "\\# 33 is a multiple of 11\n",
        "is_curzon(10) ➞ False\n",
        "\n",
        "\\# 2 ** 10 + 1 = 1025\n",
        "\n",
        "\\# 2 * 10 + 1 = 21\n",
        "\n",
        "\\# 1025 is not a multiple of 21\n",
        "is_curzon(14) ➞ True\n",
        "\n",
        "\\# 2 ** 14 + 1 = 16385\n",
        "\n",
        "\\# 2 * 14 + 1 = 29\n",
        "\\# 16385 is a multiple of 29"
      ],
      "metadata": {
        "id": "rRBr3kZfkqNF"
      }
    },
    {
      "cell_type": "code",
      "source": [
        "def curzon(n):\n",
        "  a = pow(2,n)+1\n",
        "  b = (2*n)+1\n",
        "  if a%b == 0:\n",
        "    return True\n",
        "  else:\n",
        "    return False\n",
        "n = int(input('Enter a number : '))\n",
        "curzon(n)"
      ],
      "metadata": {
        "colab": {
          "base_uri": "https://localhost:8080/"
        },
        "id": "rQi3UFHLsAmv",
        "outputId": "cff27d68-b458-492d-8103-715a63856e6e"
      },
      "execution_count": 25,
      "outputs": [
        {
          "name": "stdout",
          "output_type": "stream",
          "text": [
            "Enter a number : 14\n"
          ]
        },
        {
          "output_type": "execute_result",
          "data": {
            "text/plain": [
              "True"
            ]
          },
          "metadata": {},
          "execution_count": 25
        }
      ]
    },
    {
      "cell_type": "markdown",
      "source": [
        "4.Given the side length x find the area of a hexagon.\n",
        "\n",
        "Examples\n",
        "area_of_hexagon(1) ➞ 2.6\n",
        "area_of_hexagon(2) ➞ 10.4\n",
        "area_of_hexagon(3) ➞ 23.4"
      ],
      "metadata": {
        "id": "rI7pPU1Gkuan"
      }
    },
    {
      "cell_type": "code",
      "source": [
        "import math\n",
        "def hexaArea(n):\n",
        "  return round((3*math.sqrt(3)*pow(n,2))/2,1)\n",
        "ip = int(input('Enter side length : '))\n",
        "hexaArea(ip)"
      ],
      "metadata": {
        "colab": {
          "base_uri": "https://localhost:8080/"
        },
        "id": "CyvSRFCetdZ_",
        "outputId": "3cbd0804-994e-47fc-e83e-94dad60f0e01"
      },
      "execution_count": 17,
      "outputs": [
        {
          "name": "stdout",
          "output_type": "stream",
          "text": [
            "Enter side length : 3\n"
          ]
        },
        {
          "output_type": "execute_result",
          "data": {
            "text/plain": [
              "23.4"
            ]
          },
          "metadata": {},
          "execution_count": 17
        }
      ]
    },
    {
      "cell_type": "markdown",
      "source": [
        "5.Create a function that returns a base-2 (binary) representation of a base-10\n",
        "(decimal) string number. To convert is simple: ((2) means base-2 and (10) means base-10)\n",
        "010101001(2) = 1 + 8 + 32 + 128.\n",
        "Going from right to left, the value of the most right bit is 1, now from that every bit to the left\n",
        "will be x2 the value, value of an 8 bit binary numbers are (256, 128, 64, 32, 16, 8, 4, 2, 1).\n",
        "Examples\n",
        "binary(1) ➞ &quot;1&quot;\n",
        "\n",
        "\\# 1*1 = 1\n",
        "binary(5) ➞ &quot;101&quot;\n",
        "\n",
        "\\# 1*1 + 1*4 = 5\n",
        "binary(10) ➞ &quot;1010&quot;\n",
        "\n",
        "\\# 1*2 + 1*8 = 10"
      ],
      "metadata": {
        "id": "z7N6M9UQlRzr"
      }
    },
    {
      "cell_type": "code",
      "source": [
        "def binary_no(ip):\n",
        "  return bin(ip).replace('0b','')\n",
        "\n",
        "ip = int(input('enter num : '))\n",
        "binary_no(ip)"
      ],
      "metadata": {
        "colab": {
          "base_uri": "https://localhost:8080/",
          "height": 53
        },
        "id": "qXncFhUFuOuE",
        "outputId": "ea627550-048e-4c95-eecf-7cb789f260d8"
      },
      "execution_count": 24,
      "outputs": [
        {
          "name": "stdout",
          "output_type": "stream",
          "text": [
            "enter num : 10\n"
          ]
        },
        {
          "output_type": "execute_result",
          "data": {
            "text/plain": [
              "'1010'"
            ],
            "application/vnd.google.colaboratory.intrinsic+json": {
              "type": "string"
            }
          },
          "metadata": {},
          "execution_count": 24
        }
      ]
    }
  ]
}