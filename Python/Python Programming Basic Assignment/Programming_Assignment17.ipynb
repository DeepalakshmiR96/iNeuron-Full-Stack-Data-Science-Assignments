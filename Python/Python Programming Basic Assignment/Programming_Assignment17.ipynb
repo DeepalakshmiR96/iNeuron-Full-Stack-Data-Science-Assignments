{
  "nbformat": 4,
  "nbformat_minor": 0,
  "metadata": {
    "colab": {
      "name": "Programming_Assignment17.ipynb",
      "provenance": []
    },
    "kernelspec": {
      "name": "python3",
      "display_name": "Python 3"
    },
    "language_info": {
      "name": "python"
    }
  },
  "cells": [
    {
      "cell_type": "markdown",
      "source": [
        "1.Create a function that takes three arguments a, b, c and returns the sum of the\n",
        "numbers that are evenly divided by c from the range a, b inclusive.\n",
        "Examples\n",
        "evenly_divisible(1, 10, 20) ➞ 0\n",
        "\\# No number between 1 and 10 can be evenly divided by 20.\n",
        "evenly_divisible(1, 10, 2) ➞ 30\n",
        "\\# 2 + 4 + 6 + 8 + 10 = 30\n",
        "evenly_divisible(1, 10,"
      ],
      "metadata": {
        "id": "ErURzVAjeP31"
      }
    },
    {
      "cell_type": "code",
      "execution_count": 6,
      "metadata": {
        "colab": {
          "base_uri": "https://localhost:8080/"
        },
        "id": "7B33bdBZeN-R",
        "outputId": "c109b39b-58a4-4321-8ce2-5e11e094cfef"
      },
      "outputs": [
        {
          "output_type": "execute_result",
          "data": {
            "text/plain": [
              "30"
            ]
          },
          "metadata": {},
          "execution_count": 6
        }
      ],
      "source": [
        "def evenly_divisible(a,b,c):\n",
        "  sum = 0\n",
        "  for i in range(a,b+1):\n",
        "    if i%c==0:\n",
        "      sum += i\n",
        "  return sum\n",
        "  \n",
        "evenly_divisible(1,10,2)"
      ]
    },
    {
      "cell_type": "markdown",
      "source": [
        "2.Create a function that returns True if a given inequality expression is correct and\n",
        "False otherwise.\n",
        "Examples\n",
        "correct_signs(&quot;3 &lt; 7 &lt; 11&quot;) ➞ True\n",
        "correct_signs(&quot;13 &gt; 44 &gt; 33 &gt; 1&quot;) ➞ False\n",
        "correct_signs(&quot;1 &lt; 2 &lt; 6 &lt; 9 &gt; 3&quot;) ➞ True"
      ],
      "metadata": {
        "id": "_LFWoMMyedL2"
      }
    },
    {
      "cell_type": "code",
      "source": [
        "def correct_signs(ip):\n",
        "  print(eval(ip))\n",
        "\n",
        "ip = input(\"enter a inequality expression : \")\n",
        "correct_signs(ip)"
      ],
      "metadata": {
        "colab": {
          "base_uri": "https://localhost:8080/"
        },
        "id": "IE2yk5fze0wu",
        "outputId": "542bdad6-265b-4ca2-fb3b-df49af58bfe4"
      },
      "execution_count": 24,
      "outputs": [
        {
          "output_type": "stream",
          "name": "stdout",
          "text": [
            "enter a inequality expression : 1 < 2 < 6 < 9 > 3\n",
            "True\n"
          ]
        }
      ]
    },
    {
      "cell_type": "markdown",
      "source": [
        "3.Create a function that replaces all the vowels in a string with a specified character.\n",
        "Examples\n",
        "replace_vowels(&quot;the aardvark&quot;, &quot;#&quot;) ➞ &quot;th# ##rdv#rk&quot;\n",
        "replace_vowels(&quot;minnie mouse&quot;, &quot;?&quot;) ➞ &quot;m?nn?? m??s?&quot;\n",
        "replace_vowels(&quot;shakespeare&quot;, &quot;*&quot;) ➞ &quot;sh*k*sp**r*&quot;"
      ],
      "metadata": {
        "id": "mrDtlo4Zeep1"
      }
    },
    {
      "cell_type": "code",
      "source": [
        "def replace_vowels(ip, replacing):\n",
        "  vowels = '''aeiouAEIOU'''\n",
        "  for i in ip:\n",
        "    if i in vowels:\n",
        "      ip = ip.replace(i,replacing)\n",
        "  return ip\n",
        "ip = input(\"enter string : \")\n",
        "replacing = input(\"enter a replacement character : \")\n",
        "replace_vowels(ip, replacing)"
      ],
      "metadata": {
        "colab": {
          "base_uri": "https://localhost:8080/",
          "height": 70
        },
        "id": "m4VSDQFje1WI",
        "outputId": "553c0e7f-1437-4158-b060-6d8d7693bdbd"
      },
      "execution_count": 23,
      "outputs": [
        {
          "name": "stdout",
          "output_type": "stream",
          "text": [
            "enter string : minnie mouse\n",
            "enter a replacement character : ?\n"
          ]
        },
        {
          "output_type": "execute_result",
          "data": {
            "text/plain": [
              "'m?nn?? m??s?'"
            ],
            "application/vnd.google.colaboratory.intrinsic+json": {
              "type": "string"
            }
          },
          "metadata": {},
          "execution_count": 23
        }
      ]
    },
    {
      "cell_type": "markdown",
      "source": [
        "4.Write a function that calculates the factorial of a number recursively.\n",
        "Examples\n",
        "factorial(5) ➞ 120\n",
        "factorial(3) ➞ 6\n",
        "factorial(1) ➞ 1\n",
        "factorial(0) ➞ 1"
      ],
      "metadata": {
        "id": "0QGnG51LeqxP"
      }
    },
    {
      "cell_type": "code",
      "source": [
        "def factorial(n):\n",
        "  while n>=0:\n",
        "    if n==0:\n",
        "      return 1\n",
        "    return n*factorial(n-1)\n",
        "\n",
        "n = int(input('enter a num : '))\n",
        "factorial(n)\n"
      ],
      "metadata": {
        "colab": {
          "base_uri": "https://localhost:8080/"
        },
        "id": "ewtCsQNge19M",
        "outputId": "af3218f4-8bae-4166-d138-cf8905a75c78"
      },
      "execution_count": 16,
      "outputs": [
        {
          "name": "stdout",
          "output_type": "stream",
          "text": [
            "enter a num : 5\n"
          ]
        },
        {
          "output_type": "execute_result",
          "data": {
            "text/plain": [
              "120"
            ]
          },
          "metadata": {},
          "execution_count": 16
        }
      ]
    },
    {
      "cell_type": "markdown",
      "source": [
        "5.Hamming distance is the number of characters that differ between two strings.\n",
        "To illustrate:\n",
        "String1: &quot;abcbba&quot;\n",
        "String2: &quot;abcbda&quot;\n",
        "Hamming Distance: 1 - &quot;b&quot; vs. &quot;d&quot; is the only difference.\n",
        "Create a function that computes the hamming distance between two strings.\n",
        "Examples\n",
        "hamming_distance(&quot;abcde&quot;, &quot;bcdef&quot;) ➞ 5\n",
        "hamming_distance(&quot;abcde&quot;, &quot;abcde&quot;) ➞ 0\n",
        "hamming_distance(&quot;strong&quot;, &quot;strung&quot;) ➞ 1"
      ],
      "metadata": {
        "id": "PcLBQkQrevMw"
      }
    },
    {
      "cell_type": "code",
      "source": [
        "def hamming_distance(st1,st2):\n",
        "  count = 0\n",
        "  if len(st1) == len(st2):\n",
        "    for i in range(len(st2)):\n",
        "      if st1[i] != st2[i]:\n",
        "        count += 1\n",
        "    return count\n",
        "  else:\n",
        "    print('not in same length')\n",
        "\n",
        "string_1 = input('Enter the String_1: ')\n",
        "string_2 = input('Enter the String_2: ')\n",
        "hamming_distance(string_1, string_2)\n"
      ],
      "metadata": {
        "colab": {
          "base_uri": "https://localhost:8080/"
        },
        "id": "MTwoVZVYe2vT",
        "outputId": "50c2684c-bf1d-495e-8bfa-5f7fbb64e7ce"
      },
      "execution_count": 22,
      "outputs": [
        {
          "name": "stdout",
          "output_type": "stream",
          "text": [
            "Enter the String_1: strong\n",
            "Enter the String_2: strung\n"
          ]
        },
        {
          "output_type": "execute_result",
          "data": {
            "text/plain": [
              "1"
            ]
          },
          "metadata": {},
          "execution_count": 22
        }
      ]
    }
  ]
}