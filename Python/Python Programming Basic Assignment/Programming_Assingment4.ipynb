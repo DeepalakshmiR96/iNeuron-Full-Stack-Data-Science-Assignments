{
  "nbformat": 4,
  "nbformat_minor": 0,
  "metadata": {
    "colab": {
      "name": "Programming_Assingment4.ipynb",
      "provenance": []
    },
    "kernelspec": {
      "name": "python3",
      "display_name": "Python 3"
    },
    "language_info": {
      "name": "python"
    }
  },
  "cells": [
    {
      "cell_type": "markdown",
      "source": [
        "1.Write a Python Program to Find the Factorial of a Number?"
      ],
      "metadata": {
        "id": "QUfSW6TwcOvS"
      }
    },
    {
      "cell_type": "code",
      "source": [
        "def factorial(num):\n",
        "  if num < 1:\n",
        "    return 1\n",
        "  else:\n",
        "    return num*factorial(num-1)\n",
        "\n",
        "num = int(input(\"enter num : \"))\n",
        "factorial(num)"
      ],
      "metadata": {
        "colab": {
          "base_uri": "https://localhost:8080/"
        },
        "id": "UfGX08CBcg9j",
        "outputId": "ce166018-ad9e-4260-85ab-34956af4ae59"
      },
      "execution_count": 51,
      "outputs": [
        {
          "name": "stdout",
          "output_type": "stream",
          "text": [
            "enter num : 5\n"
          ]
        },
        {
          "output_type": "execute_result",
          "data": {
            "text/plain": [
              "120"
            ]
          },
          "metadata": {},
          "execution_count": 51
        }
      ]
    },
    {
      "cell_type": "markdown",
      "source": [
        "2.Write a Python Program to Display the multiplication Table?"
      ],
      "metadata": {
        "id": "zE-aVO2-cPwR"
      }
    },
    {
      "cell_type": "code",
      "source": [
        "def table(num):\n",
        "  for i in range(1,11):\n",
        "    print(f'{i} X {num} = {num*i}')\n",
        "num = int(input(\"enter num :\"))\n",
        "table(num)"
      ],
      "metadata": {
        "colab": {
          "base_uri": "https://localhost:8080/"
        },
        "id": "_aydZli-mJYi",
        "outputId": "9e4e1a04-4d0b-435c-eeb5-6fc7d875ab39"
      },
      "execution_count": 3,
      "outputs": [
        {
          "output_type": "stream",
          "name": "stdout",
          "text": [
            "enter num :10\n",
            "1 X 10 = 10\n",
            "2 X 10 = 20\n",
            "3 X 10 = 30\n",
            "4 X 10 = 40\n",
            "5 X 10 = 50\n",
            "6 X 10 = 60\n",
            "7 X 10 = 70\n",
            "8 X 10 = 80\n",
            "9 X 10 = 90\n",
            "10 X 10 = 100\n"
          ]
        }
      ]
    },
    {
      "cell_type": "markdown",
      "source": [
        "3.Write a Python Program to Print the Fibonacci sequence?"
      ],
      "metadata": {
        "id": "312r4ARncSK9"
      }
    },
    {
      "cell_type": "code",
      "source": [
        "f = [0,1]\n",
        "def fib(num):\n",
        "  if num < 0:\n",
        "    print(\" No negative num\")\n",
        "  elif (num > 0 and num <=2):\n",
        "    return f\n",
        "  for i in range(num):\n",
        "    if i >= 2:\n",
        "      f.append(f[i-1]+ f[i-2])\n",
        "  return f\n",
        "num = int(input(\"enter num :\"))\n",
        "fib(num)\n"
      ],
      "metadata": {
        "colab": {
          "base_uri": "https://localhost:8080/"
        },
        "id": "_I8Q1qS7ofLv",
        "outputId": "9d39692b-8af6-4d08-d21a-b8ad7c172378"
      },
      "execution_count": 31,
      "outputs": [
        {
          "name": "stdout",
          "output_type": "stream",
          "text": [
            "enter num :10\n"
          ]
        },
        {
          "output_type": "execute_result",
          "data": {
            "text/plain": [
              "[0, 1, 1, 2, 3, 5, 8, 13, 21, 34]"
            ]
          },
          "metadata": {},
          "execution_count": 31
        }
      ]
    },
    {
      "cell_type": "markdown",
      "source": [
        "4.Write a Python Program to Check Armstrong Number?"
      ],
      "metadata": {
        "id": "C-3Okxr5cUe_"
      }
    },
    {
      "cell_type": "code",
      "source": [
        "def armstrong(num):\n",
        "  temp = num\n",
        "  sum = 0\n",
        "  rem = 0\n",
        "  while temp > 0:\n",
        "    sum += (temp%10) ** len(str(num))\n",
        "    temp = temp//10\n",
        "  if num == sum:\n",
        "    print(\"Armstrong num\")\n",
        "  else:\n",
        "    print(\"not armstrong\")\n",
        "num = int(input(\"enter num :\"))\n",
        "armstrong(num)"
      ],
      "metadata": {
        "colab": {
          "base_uri": "https://localhost:8080/"
        },
        "id": "9LQTjxz40vcE",
        "outputId": "3a1722c4-9a15-4771-ed26-22f2e0fa36e7"
      },
      "execution_count": 43,
      "outputs": [
        {
          "output_type": "stream",
          "name": "stdout",
          "text": [
            "enter num :1634\n",
            "Armstrong num\n"
          ]
        }
      ]
    },
    {
      "cell_type": "markdown",
      "source": [
        "5.Write a Python Program to Find Armstrong Number in an Interval?"
      ],
      "metadata": {
        "id": "7DGy09SGcanq"
      }
    },
    {
      "cell_type": "code",
      "source": [
        "def armstrong(start, end):\n",
        "  for num in range(start, end+1):\n",
        "    temp = num\n",
        "    rem = 0\n",
        "    sum = 0\n",
        "    while temp > 0:\n",
        "      sum += (temp%10) ** len(str(num))\n",
        "      temp = temp//10\n",
        "    if num == sum:\n",
        "      print(num)\n",
        "start = int(input(\"enter start num :\"))\n",
        "end = int(input(\"enter end num :\"))\n",
        "armstrong(start, end)"
      ],
      "metadata": {
        "colab": {
          "base_uri": "https://localhost:8080/"
        },
        "id": "dZFdmLhaOBys",
        "outputId": "668898d8-e003-4c8a-f86f-09bd3905d693"
      },
      "execution_count": 46,
      "outputs": [
        {
          "output_type": "stream",
          "name": "stdout",
          "text": [
            "enter start num :100\n",
            "enter end num :2000\n",
            "153\n",
            "370\n",
            "371\n",
            "407\n",
            "1634\n"
          ]
        }
      ]
    },
    {
      "cell_type": "markdown",
      "source": [
        "6.Write a Python Program to Find the Sum of Natural Numbers?"
      ],
      "metadata": {
        "id": "1qKE-X77cdb-"
      }
    },
    {
      "cell_type": "code",
      "source": [
        "def sumNat(num):\n",
        "  return num*(num+1)/2\n",
        "\n",
        "num = int(input(\"enter start num :\"))\n",
        "sumNat(num)"
      ],
      "metadata": {
        "colab": {
          "base_uri": "https://localhost:8080/"
        },
        "id": "06xQMYsfYF2l",
        "outputId": "6c035ca4-1acf-4ce2-bc04-5aa2430b107c"
      },
      "execution_count": 48,
      "outputs": [
        {
          "name": "stdout",
          "output_type": "stream",
          "text": [
            "enter start num :10\n"
          ]
        },
        {
          "output_type": "execute_result",
          "data": {
            "text/plain": [
              "55.0"
            ]
          },
          "metadata": {},
          "execution_count": 48
        }
      ]
    }
  ]
}