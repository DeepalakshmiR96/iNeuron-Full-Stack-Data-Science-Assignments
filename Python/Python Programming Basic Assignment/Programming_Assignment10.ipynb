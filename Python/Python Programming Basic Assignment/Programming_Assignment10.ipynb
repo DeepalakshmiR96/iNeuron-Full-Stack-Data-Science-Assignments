{
  "nbformat": 4,
  "nbformat_minor": 0,
  "metadata": {
    "colab": {
      "name": "Programming_Assignment10.ipynb",
      "provenance": []
    },
    "kernelspec": {
      "name": "python3",
      "display_name": "Python 3"
    },
    "language_info": {
      "name": "python"
    }
  },
  "cells": [
    {
      "cell_type": "markdown",
      "source": [
        "1.Write a Python program to find sum of elements in list?"
      ],
      "metadata": {
        "id": "4k_Gt2pMPRRE"
      }
    },
    {
      "cell_type": "code",
      "source": [
        "def sumList(l):\n",
        "  sum = 0\n",
        "  for i in l:\n",
        "    sum += i\n",
        "  return sum\n",
        "\n",
        "size = int(input('array size : '))\n",
        "arr = []\n",
        "for i in range(size):\n",
        "  ele = int(input())\n",
        "  arr.append(ele)\n",
        "print(\"sum of list : {}\".format(sumList(arr)))"
      ],
      "metadata": {
        "colab": {
          "base_uri": "https://localhost:8080/"
        },
        "id": "ONdL5u4iQEw6",
        "outputId": "03adc711-db31-44b4-bc42-c82d49c10452"
      },
      "execution_count": null,
      "outputs": [
        {
          "output_type": "stream",
          "name": "stdout",
          "text": [
            "array size : 5\n",
            "1\n",
            "2\n",
            "3\n",
            "4\n",
            "5\n",
            "sum of list : 15\n"
          ]
        }
      ]
    },
    {
      "cell_type": "markdown",
      "source": [
        "2.Write a Python program to Multiply all numbers in the list?"
      ],
      "metadata": {
        "id": "T_hRfg0_P6pR"
      }
    },
    {
      "cell_type": "code",
      "source": [
        "def multipy(l):\n",
        "  mul = 1\n",
        "  for i in l:\n",
        "    mul = mul*i\n",
        "  return mul\n",
        "\n",
        "size = int(input('array size : '))\n",
        "arr = []\n",
        "for i in range(size):\n",
        "  ele = int(input())\n",
        "  arr.append(ele)\n",
        "print(\"Multiply all numbers in the list : {}\".format(multipy(arr)))"
      ],
      "metadata": {
        "colab": {
          "base_uri": "https://localhost:8080/"
        },
        "id": "WXUL6NNVQ1Gy",
        "outputId": "801d9d88-c347-44bb-d069-0d1f5f88791c"
      },
      "execution_count": null,
      "outputs": [
        {
          "output_type": "stream",
          "name": "stdout",
          "text": [
            "array size : 5\n",
            "1\n",
            "2\n",
            "3\n",
            "4\n",
            "5\n",
            "Multiply all numbers in the list : 120\n"
          ]
        }
      ]
    },
    {
      "cell_type": "markdown",
      "source": [
        "3.Write a Python program to find smallest number in a list?"
      ],
      "metadata": {
        "id": "J4Xrt56BP9bz"
      }
    },
    {
      "cell_type": "code",
      "source": [
        "def smallest(l):\n",
        "  small = l[0]\n",
        "  for i in l:\n",
        "    if small > i:\n",
        "      small = i\n",
        "  return small\n",
        "  # return sorted(l)[0]\n",
        "\n",
        "size = int(input('array size : '))\n",
        "arr = []\n",
        "for i in range(size):\n",
        "  ele = int(input())\n",
        "  arr.append(ele)\n",
        "print(\"smallest number in the list : {}\".format(smallest(arr)))"
      ],
      "metadata": {
        "colab": {
          "base_uri": "https://localhost:8080/"
        },
        "id": "8xJvElEBQ1rT",
        "outputId": "5fb0130a-0f19-4b76-ee7f-5f7bb9add9b4"
      },
      "execution_count": null,
      "outputs": [
        {
          "output_type": "stream",
          "name": "stdout",
          "text": [
            "array size : 5\n",
            "1\n",
            "2\n",
            "1\n",
            "3\n",
            "4\n",
            "smallest number in the list : 1\n"
          ]
        }
      ]
    },
    {
      "cell_type": "markdown",
      "source": [
        "4.Write a Python program to find largest number in a list?"
      ],
      "metadata": {
        "id": "6xSA9E6xQhVS"
      }
    },
    {
      "cell_type": "code",
      "source": [
        "def largest(l):\n",
        "  large = l[0]\n",
        "  for i in l:\n",
        "    if large < i:\n",
        "      large = i\n",
        "  return large\n",
        "  # return sorted(l)[-1]\n",
        "\n",
        "size = int(input('array size : '))\n",
        "arr = []\n",
        "for i in range(size):\n",
        "  ele = int(input())\n",
        "  arr.append(ele)\n",
        "print(\"largest number in the list : {}\".format(largest(arr)))"
      ],
      "metadata": {
        "colab": {
          "base_uri": "https://localhost:8080/"
        },
        "id": "4781KTBeSgy1",
        "outputId": "a49e5eca-a952-4c86-9bbe-b9f525e6aad2"
      },
      "execution_count": null,
      "outputs": [
        {
          "output_type": "stream",
          "name": "stdout",
          "text": [
            "array size : 5\n",
            "8\n",
            "7\n",
            "10\n",
            "2\n",
            "3\n",
            "largest number in the list : 10\n"
          ]
        }
      ]
    },
    {
      "cell_type": "markdown",
      "source": [
        "5.Write a Python program to find second largest number in a list?"
      ],
      "metadata": {
        "id": "R2QJcVcgQkFg"
      }
    },
    {
      "cell_type": "code",
      "source": [
        "def largest(l):\n",
        "  large = l[0]\n",
        "  second = 0\n",
        "  for i in l:\n",
        "    if large < i:\n",
        "      second = large\n",
        "      large = i\n",
        "    elif second<i<large:\n",
        "      second = i\n",
        "  return second\n",
        "  # return sorted(l)[-2]\n",
        "\n",
        "size = int(input('array size : '))\n",
        "arr = []\n",
        "for i in range(size):\n",
        "  ele = int(input())\n",
        "  arr.append(ele)\n",
        "print(\"second largest number in the list : {}\".format(largest(arr)))"
      ],
      "metadata": {
        "colab": {
          "base_uri": "https://localhost:8080/"
        },
        "id": "b8xE8hk5TAim",
        "outputId": "d1517b05-a202-4ac7-a2a2-3a0be21dcea4"
      },
      "execution_count": null,
      "outputs": [
        {
          "output_type": "stream",
          "name": "stdout",
          "text": [
            "array size : 9\n",
            "10\n",
            "11\n",
            "5\n",
            "3\n",
            "2\n",
            "1\n",
            "9\n",
            "6\n",
            "12\n",
            "second largest number in the list : 11\n"
          ]
        }
      ]
    },
    {
      "cell_type": "markdown",
      "source": [
        "6.Write a Python program to find N largest elements from a list?"
      ],
      "metadata": {
        "id": "Yw7Pd_T8Qm1k"
      }
    },
    {
      "cell_type": "code",
      "source": [
        "def sort(l,n):\n",
        "  final = []\n",
        "  for i in range(0,n):\n",
        "    max = 0\n",
        "    for i in l:\n",
        "      if max < i:\n",
        "        max = i\n",
        "    l.remove(max)\n",
        "    final.append(max)\n",
        "  return final\n",
        "\n",
        "\n",
        "\n",
        "size = int(input('array size : '))\n",
        "arr = []\n",
        "for i in range(size):\n",
        "  ele = int(input())\n",
        "  arr.append(ele)\n",
        "findEle = int(input('enter number to find : '))\n",
        "print(\"{} largest number in the list : {}\".format(findEle,sort(arr,findEle)))"
      ],
      "metadata": {
        "colab": {
          "base_uri": "https://localhost:8080/"
        },
        "id": "KBmamCWIVFaR",
        "outputId": "1f32c2bf-c2fd-43f4-bf64-e85b545b4fa1"
      },
      "execution_count": null,
      "outputs": [
        {
          "output_type": "stream",
          "name": "stdout",
          "text": [
            "array size : 5\n",
            "1\n",
            "2\n",
            "3\n",
            "4\n",
            "5\n",
            "enter number to find : 3\n",
            "3 largest number in the list : [5, 4, 3]\n"
          ]
        }
      ]
    },
    {
      "cell_type": "markdown",
      "source": [
        "7.Write a Python program to print even numbers in a list?"
      ],
      "metadata": {
        "id": "aWLyU-XKQpW7"
      }
    },
    {
      "cell_type": "code",
      "source": [
        "def evenno(l):\n",
        "  return [i for i in l if i%2 == 0]\n",
        "\n",
        "size = int(input('array size : '))\n",
        "arr = []\n",
        "for i in range(size):\n",
        "  ele = int(input())\n",
        "  arr.append(ele)\n",
        "print(\"second largest number in the list : {}\".format(evenno(arr)))"
      ],
      "metadata": {
        "colab": {
          "base_uri": "https://localhost:8080/"
        },
        "id": "hUyTWnEIZ4cg",
        "outputId": "2566eb7c-4ad5-4102-d7ad-ff9a8d88510c"
      },
      "execution_count": null,
      "outputs": [
        {
          "output_type": "stream",
          "name": "stdout",
          "text": [
            "array size : 5\n",
            "1\n",
            "2\n",
            "3\n",
            "4\n",
            "5\n",
            "second largest number in the list : [2, 4]\n"
          ]
        }
      ]
    },
    {
      "cell_type": "markdown",
      "source": [
        "8.Write a Python program to print odd numbers in a List?"
      ],
      "metadata": {
        "id": "0teIeVPHQrlY"
      }
    },
    {
      "cell_type": "code",
      "source": [
        "def oddno(l):\n",
        "  return [i for i in l if i%2 != 0]\n",
        "\n",
        "size = int(input('array size : '))\n",
        "arr = []\n",
        "for i in range(size):\n",
        "  ele = int(input())\n",
        "  arr.append(ele)\n",
        "print(\"second largest number in the list : {}\".format(oddno(arr)))"
      ],
      "metadata": {
        "colab": {
          "base_uri": "https://localhost:8080/"
        },
        "id": "6pLlB-hcaPxB",
        "outputId": "eea1eed6-5e96-4120-f57b-13f2f648a43d"
      },
      "execution_count": null,
      "outputs": [
        {
          "output_type": "stream",
          "name": "stdout",
          "text": [
            "array size : 5\n",
            "1\n",
            "2\n",
            "3\n",
            "4\n",
            "5\n",
            "second largest number in the list : [1, 3, 5]\n"
          ]
        }
      ]
    },
    {
      "cell_type": "markdown",
      "source": [
        "9.Write a Python program to Remove empty List from List?"
      ],
      "metadata": {
        "id": "jS2WLMpTQuA6"
      }
    },
    {
      "cell_type": "code",
      "source": [
        "def removeEmpty(l):\n",
        "  if [] in l:\n",
        "    l.remove([])\n",
        "  return l\n",
        "\n",
        "removeEmpty([1,2,3,4,5,[],6,7,8,9,0])"
      ],
      "metadata": {
        "colab": {
          "base_uri": "https://localhost:8080/"
        },
        "id": "jFqmYHysaYLl",
        "outputId": "28a310de-a0dd-462c-c0bb-b2b553c70546"
      },
      "execution_count": null,
      "outputs": [
        {
          "output_type": "execute_result",
          "data": {
            "text/plain": [
              "[1, 2, 3, 4, 5, 6, 7, 8, 9, 0]"
            ]
          },
          "metadata": {},
          "execution_count": 55
        }
      ]
    },
    {
      "cell_type": "markdown",
      "source": [
        "10.Write a Python program to Cloning or Copying a list?"
      ],
      "metadata": {
        "id": "vmbeDerTQwYT"
      }
    },
    {
      "cell_type": "code",
      "source": [
        "def cloning(l):\n",
        "  cop = l[:]\n",
        "  return cop\n",
        "\n",
        "cloning([1,2,3,4,5])"
      ],
      "metadata": {
        "colab": {
          "base_uri": "https://localhost:8080/"
        },
        "id": "1WplaGG_bMJ0",
        "outputId": "ea703d19-b504-40fb-cdb3-4c3208e0aaba"
      },
      "execution_count": null,
      "outputs": [
        {
          "output_type": "execute_result",
          "data": {
            "text/plain": [
              "[1, 2, 3, 4, 5]"
            ]
          },
          "metadata": {},
          "execution_count": 58
        }
      ]
    },
    {
      "cell_type": "markdown",
      "source": [
        "11.Write a Python program to Count occurrences of an element in a list?"
      ],
      "metadata": {
        "id": "j_QTI4EFQykP"
      }
    },
    {
      "cell_type": "code",
      "source": [
        "def countOcc(l,n):\n",
        "  count = 0\n",
        "  if n in l:\n",
        "    for i in l:\n",
        "      if i == n:\n",
        "        count += 1\n",
        "  return count\n",
        "\n",
        "findEle = int(input('enter the element to find : '))\n",
        "size = int(input('array size : '))\n",
        "arr = []\n",
        "for i in range(size):\n",
        "  ele = int(input())\n",
        "  arr.append(ele)\n",
        "print(\"occured in {} places\".format(countOcc(arr, findEle)))"
      ],
      "metadata": {
        "colab": {
          "base_uri": "https://localhost:8080/"
        },
        "id": "g82WuZHcS_5Z",
        "outputId": "c451681b-8f6e-4df7-cd31-1efcd95d034e"
      },
      "execution_count": null,
      "outputs": [
        {
          "output_type": "stream",
          "name": "stdout",
          "text": [
            "enter the element to find : 5\n",
            "array size : 5\n",
            "5\n",
            "1\n",
            "5\n",
            "2\n",
            "2\n",
            "occured in 2 places\n"
          ]
        }
      ]
    }
  ]
}