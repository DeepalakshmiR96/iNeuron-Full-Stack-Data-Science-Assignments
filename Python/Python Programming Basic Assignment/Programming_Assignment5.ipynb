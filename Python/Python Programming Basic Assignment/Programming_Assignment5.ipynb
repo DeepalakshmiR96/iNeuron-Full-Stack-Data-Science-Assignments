{
  "nbformat": 4,
  "nbformat_minor": 0,
  "metadata": {
    "colab": {
      "name": "Programming_Assignment5.ipynb",
      "provenance": []
    },
    "kernelspec": {
      "name": "python3",
      "display_name": "Python 3"
    },
    "language_info": {
      "name": "python"
    }
  },
  "cells": [
    {
      "cell_type": "markdown",
      "source": [
        "1.Write a Python Program to Find LCM?"
      ],
      "metadata": {
        "id": "rbRHXUFCZDUJ"
      }
    },
    {
      "cell_type": "code",
      "execution_count": null,
      "metadata": {
        "colab": {
          "base_uri": "https://localhost:8080/"
        },
        "id": "XzXRRsD1Y6aF",
        "outputId": "3d58b9cb-94fa-4c7f-f521-d788a420465f"
      },
      "outputs": [
        {
          "name": "stdout",
          "output_type": "stream",
          "text": [
            "enter num1 : 2\n",
            "enter num2 : 3\n"
          ]
        },
        {
          "output_type": "execute_result",
          "data": {
            "text/plain": [
              "6"
            ]
          },
          "metadata": {},
          "execution_count": 4
        }
      ],
      "source": [
        "def lcm(num1,num2):\n",
        "  if num1>num2:\n",
        "    greater = num1\n",
        "  else:\n",
        "    greater = num2\n",
        "  while True:\n",
        "    if (greater%num1 == 0 and greater%num2==0):\n",
        "      lcm = greater\n",
        "      break\n",
        "    greater += 1\n",
        "  return lcm\n",
        "\n",
        "num1 = int(input('enter num1 : '))\n",
        "num2 = int(input('enter num2 : '))\n",
        "lcm(num1,num2)\n",
        "  "
      ]
    },
    {
      "cell_type": "markdown",
      "source": [
        "2.Write a Python Program to Find HCF?"
      ],
      "metadata": {
        "id": "TYN8vDz5ZHXl"
      }
    },
    {
      "cell_type": "code",
      "source": [
        "def hcm(num1,num2):\n",
        "  if num1<num2:\n",
        "    smallest = num1\n",
        "  else:\n",
        "    smallest = num2\n",
        "  op = 0\n",
        "  for i in range(1,smallest+1):\n",
        "    if((num1 % i == 0) and (num2 % i==0)):\n",
        "      op = i\n",
        "  return op\n",
        "\n",
        "num1 = int(input('enter num1 : '))\n",
        "num2 = int(input('enter num2 : '))\n",
        "hcm(num1,num2)"
      ],
      "metadata": {
        "colab": {
          "base_uri": "https://localhost:8080/"
        },
        "id": "AXsO124batro",
        "outputId": "00901498-b1b8-44fc-e2cc-e266f774e922"
      },
      "execution_count": null,
      "outputs": [
        {
          "name": "stdout",
          "output_type": "stream",
          "text": [
            "enter num1 : 8\n",
            "enter num2 : 12\n"
          ]
        },
        {
          "output_type": "execute_result",
          "data": {
            "text/plain": [
              "4"
            ]
          },
          "metadata": {},
          "execution_count": 1
        }
      ]
    },
    {
      "cell_type": "markdown",
      "source": [
        "3.Write a Python Program to Convert Decimal to Binary, Octal and Hexadecimal?"
      ],
      "metadata": {
        "id": "JC6MTFrhZKyV"
      }
    },
    {
      "cell_type": "code",
      "source": [
        "def decimalCon(num):\n",
        "  binary = bin(num)\n",
        "  octal = oct(num)\n",
        "  hexadeci = hex(num)\n",
        "  return binary,octal, hexadeci\n",
        "\n",
        "num = int(input('enter num : '))\n",
        "decimalCon(num)"
      ],
      "metadata": {
        "id": "izIJ55vJaukz",
        "colab": {
          "base_uri": "https://localhost:8080/"
        },
        "outputId": "0b2f9a92-0783-42d5-d519-de9ec8c19d5e"
      },
      "execution_count": null,
      "outputs": [
        {
          "name": "stdout",
          "output_type": "stream",
          "text": [
            "enter num : 4\n"
          ]
        },
        {
          "output_type": "execute_result",
          "data": {
            "text/plain": [
              "('0b100', '0o4', '0x4')"
            ]
          },
          "metadata": {},
          "execution_count": 3
        }
      ]
    },
    {
      "cell_type": "markdown",
      "source": [
        "4.Write a Python Program To Find ASCII value of a character?"
      ],
      "metadata": {
        "id": "aj5beDSzZNpN"
      }
    },
    {
      "cell_type": "code",
      "source": [
        "def aschiiValue(char):\n",
        "  if len(char) > 1:\n",
        "    print('enter single character only')\n",
        "  else:\n",
        "    return ord(char)\n",
        "\n",
        "char = input('Enter character : ')\n",
        "aschiiValue(char)"
      ],
      "metadata": {
        "id": "ihhb_J9Yaveg",
        "colab": {
          "base_uri": "https://localhost:8080/"
        },
        "outputId": "cb471d9a-ccad-4d38-c1fe-3ea368e405b9"
      },
      "execution_count": null,
      "outputs": [
        {
          "name": "stdout",
          "output_type": "stream",
          "text": [
            "Enter character : b\n"
          ]
        },
        {
          "output_type": "execute_result",
          "data": {
            "text/plain": [
              "98"
            ]
          },
          "metadata": {},
          "execution_count": 9
        }
      ]
    },
    {
      "cell_type": "markdown",
      "source": [
        "5.Write a Python Program to Make a Simple Calculator with 4 basic mathematical operations?"
      ],
      "metadata": {
        "id": "uERmpcwvZQPN"
      }
    },
    {
      "cell_type": "code",
      "source": [
        "import operator\n",
        "ops = {\n",
        "    '+': operator.add,\n",
        "    '-': operator.sub,\n",
        "    '*': operator.mul,\n",
        "    '/': operator.truediv\n",
        "}\n",
        "def calculator(num1, num2, op):\n",
        "  if op in ['+','-','*','/']:\n",
        "    return ops[op]\n",
        "    (num1,num2)\n",
        "  else:\n",
        "    print('wrong operator')\n",
        "num1 = int(input('Enter num1 : '))\n",
        "num2 = int(input('Enter num2 : '))\n",
        "op = input('Enter operator like +,-,*,/  : ')\n",
        "calculator(num1, num2, op)"
      ],
      "metadata": {
        "colab": {
          "base_uri": "https://localhost:8080/"
        },
        "id": "d0xdP_5fwjKL",
        "outputId": "371ac0f3-7be2-4d5d-c9c7-812126ca4489"
      },
      "execution_count": 1,
      "outputs": [
        {
          "name": "stdout",
          "output_type": "stream",
          "text": [
            "Enter num1 : 3\n",
            "Enter num2 : 4\n",
            "Enter operator like +,-,*,/  : *\n"
          ]
        },
        {
          "output_type": "execute_result",
          "data": {
            "text/plain": [
              "<function _operator.mul>"
            ]
          },
          "metadata": {},
          "execution_count": 1
        }
      ]
    }
  ]
}