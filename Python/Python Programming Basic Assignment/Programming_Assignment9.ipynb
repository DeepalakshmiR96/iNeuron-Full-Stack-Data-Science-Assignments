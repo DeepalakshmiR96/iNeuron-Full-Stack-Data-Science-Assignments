{
  "nbformat": 4,
  "nbformat_minor": 0,
  "metadata": {
    "colab": {
      "name": "Programming_Assignment9.ipynb",
      "provenance": []
    },
    "kernelspec": {
      "name": "python3",
      "display_name": "Python 3"
    },
    "language_info": {
      "name": "python"
    }
  },
  "cells": [
    {
      "cell_type": "markdown",
      "source": [
        "1.Write a Python program to check if the given number is a Disarium Number?"
      ],
      "metadata": {
        "id": "_cC2XOrFOJlN"
      }
    },
    {
      "cell_type": "code",
      "source": [
        "def disarium():\n",
        "  num = input(\"enter a num : \")\n",
        "  length = len(str(num))\n",
        "  sum = 0\n",
        "  for i in range(length):\n",
        "    sum += int(num[i])**(i+1)\n",
        "  if sum == int(num):\n",
        "    print(f\"{num} is a disarium num\")\n",
        "  else:\n",
        "    print(f\"{num} is not a disarium num\")\n",
        "\n",
        "disarium()"
      ],
      "metadata": {
        "colab": {
          "base_uri": "https://localhost:8080/"
        },
        "id": "YoAyB4SLOdm8",
        "outputId": "26ba4ad4-5ad3-428c-8b3b-67f4902e3313"
      },
      "execution_count": null,
      "outputs": [
        {
          "output_type": "stream",
          "name": "stdout",
          "text": [
            "enter a num : 135\n",
            "135 is a disarium num\n"
          ]
        }
      ]
    },
    {
      "cell_type": "markdown",
      "source": [
        "2.Write a Python program to print all disarium numbers between 1 to 100?"
      ],
      "metadata": {
        "id": "sfLUlybgONN2"
      }
    },
    {
      "cell_type": "code",
      "source": [
        "def disarium(start,end):\n",
        "  for num in range(start,end):\n",
        "    length = len(str(num))\n",
        "    sum = 0\n",
        "    for i in range(length):\n",
        "      sum += int(str(num)[i])**(i+1)\n",
        "    if sum == num:\n",
        "      print(sum, end=',')\n",
        "\n",
        "disarium(1,100)"
      ],
      "metadata": {
        "colab": {
          "base_uri": "https://localhost:8080/"
        },
        "id": "YZS7MIWqZbX5",
        "outputId": "1d8218d8-558b-4801-97cd-68a4ebfe4fae"
      },
      "execution_count": null,
      "outputs": [
        {
          "output_type": "stream",
          "name": "stdout",
          "text": [
            "1,2,3,4,5,6,7,8,9,89,"
          ]
        }
      ]
    },
    {
      "cell_type": "markdown",
      "source": [
        "3.Write a Python program to check if the given number is Happy Number?"
      ],
      "metadata": {
        "id": "G3XPe1BuOQFP"
      }
    },
    {
      "cell_type": "code",
      "source": [
        "def sumSq(n):\n",
        "  sum =0\n",
        "  while n > 0:\n",
        "    rem = n%10\n",
        "    sum += rem**2\n",
        "    n = n//10\n",
        "  return sum\n",
        "\n",
        "def happy(num):\n",
        "  l = set()\n",
        "  while True:\n",
        "    if num != 1 and num not in l:\n",
        "      l.add(num)\n",
        "      num = sumSq(num)\n",
        "    elif num in l:\n",
        "      print('not happy nnumber')\n",
        "      break\n",
        "    else:\n",
        "      print('happy nnumber')\n",
        "      break\n",
        "happy(19)"
      ],
      "metadata": {
        "id": "SLfjNOBWbDwr",
        "colab": {
          "base_uri": "https://localhost:8080/"
        },
        "outputId": "a8ddb6d4-4399-4fab-fa31-29cb4fa3dc53"
      },
      "execution_count": null,
      "outputs": [
        {
          "output_type": "stream",
          "name": "stdout",
          "text": [
            "happy nnumber\n"
          ]
        }
      ]
    },
    {
      "cell_type": "markdown",
      "source": [
        "4.Write a Python program to print all happy numbers between 1 and 100?"
      ],
      "metadata": {
        "id": "_n7pS_NDOSty"
      }
    },
    {
      "cell_type": "code",
      "source": [
        "def sumSq(n):\n",
        "  sum = 0\n",
        "  while n >0:\n",
        "    rem = n%10\n",
        "    sum += rem**2\n",
        "    n = n//10\n",
        "  return sum\n",
        "\n",
        "def happy(start,end):\n",
        "  happyList = []\n",
        "  for t in range(start, end+1):\n",
        "    num = t\n",
        "    l = set()\n",
        "    while True:\n",
        "      if num != 1 and num not in l:\n",
        "        l.add(num)\n",
        "        num = sumSq(num)\n",
        "      elif num in l:\n",
        "        # print('not happy nnumber')\n",
        "        break\n",
        "      else:\n",
        "        happyList.append(t)\n",
        "        break\n",
        "  return happyList\n",
        "\n",
        "happy(1,100)"
      ],
      "metadata": {
        "colab": {
          "base_uri": "https://localhost:8080/"
        },
        "id": "ikvZ0iugAC2r",
        "outputId": "0a818d47-aef0-4fdc-d16a-4d28c2b16590"
      },
      "execution_count": null,
      "outputs": [
        {
          "output_type": "execute_result",
          "data": {
            "text/plain": [
              "[1, 7, 10, 13, 19, 23, 28, 31, 32, 44, 49, 68, 70, 79, 82, 86, 91, 94, 97, 100]"
            ]
          },
          "metadata": {},
          "execution_count": 32
        }
      ]
    },
    {
      "cell_type": "markdown",
      "source": [
        "5.Write a Python program to determine whether the given number is a Harshad Number?"
      ],
      "metadata": {
        "id": "KoETxTWOOXDe"
      }
    },
    {
      "cell_type": "code",
      "source": [
        "def harshadNo(num):\n",
        "  length = len(str(num))\n",
        "  sum = 0\n",
        "  for i in range(length):\n",
        "    sum += int(str(num)[i])\n",
        "  if num%sum == 0:\n",
        "    return True\n",
        "  else:\n",
        "    return False\n",
        "\n",
        "num = int(input('enter a num : '))\n",
        "harshadNo(num)"
      ],
      "metadata": {
        "colab": {
          "base_uri": "https://localhost:8080/"
        },
        "id": "82gz_kKRHLsx",
        "outputId": "eff9a2d5-a043-4993-c474-81e8986d6d49"
      },
      "execution_count": null,
      "outputs": [
        {
          "name": "stdout",
          "output_type": "stream",
          "text": [
            "enter a num : 156\n"
          ]
        },
        {
          "output_type": "execute_result",
          "data": {
            "text/plain": [
              "True"
            ]
          },
          "metadata": {},
          "execution_count": 38
        }
      ]
    },
    {
      "cell_type": "markdown",
      "source": [
        " 6.Write a Python program to print all pronic numbers between 1 and 100?"
      ],
      "metadata": {
        "id": "2PXV-0JQOZ3q"
      }
    },
    {
      "cell_type": "code",
      "source": [
        "def pronic(start,end):\n",
        "  res = []\n",
        "  for i in range(start, end+1):\n",
        "    t = i*(i+1)\n",
        "    if t < end+1:\n",
        "      res.append(t)\n",
        "  return res\n",
        "\n",
        "pronic(1,100)"
      ],
      "metadata": {
        "colab": {
          "base_uri": "https://localhost:8080/"
        },
        "id": "fh5taPvLKy9k",
        "outputId": "404dd842-64a0-4afd-af43-dcc5b53534f1"
      },
      "execution_count": null,
      "outputs": [
        {
          "output_type": "execute_result",
          "data": {
            "text/plain": [
              "[2, 6, 12, 20, 30, 42, 56, 72, 90]"
            ]
          },
          "metadata": {},
          "execution_count": 46
        }
      ]
    }
  ]
}