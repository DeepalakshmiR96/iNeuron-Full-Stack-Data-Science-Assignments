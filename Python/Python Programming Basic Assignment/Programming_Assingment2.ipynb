{
  "nbformat": 4,
  "nbformat_minor": 0,
  "metadata": {
    "colab": {
      "name": "Programming_Assingment2.ipynb",
      "provenance": []
    },
    "kernelspec": {
      "name": "python3",
      "display_name": "Python 3"
    },
    "language_info": {
      "name": "python"
    }
  },
  "cells": [
    {
      "cell_type": "markdown",
      "source": [
        "1.Write a Python program to convert kilometers to miles?"
      ],
      "metadata": {
        "id": "eL3gn0D8Fu3_"
      }
    },
    {
      "cell_type": "code",
      "source": [
        "km = float(input('enter miles : '))\n",
        "m = km*0.621\n",
        "print(m)\n"
      ],
      "metadata": {
        "colab": {
          "base_uri": "https://localhost:8080/"
        },
        "id": "rpDUEtPGGYzb",
        "outputId": "e2bc1b12-a0d7-4099-f6b5-ac6702f3795a"
      },
      "execution_count": 4,
      "outputs": [
        {
          "output_type": "stream",
          "name": "stdout",
          "text": [
            "enter miles : 4\n",
            "2.484\n"
          ]
        }
      ]
    },
    {
      "cell_type": "markdown",
      "source": [
        "2.Write a Python program to convert Celsius to Fahrenheit?"
      ],
      "metadata": {
        "id": "YWlVUjM8GKQd"
      }
    },
    {
      "cell_type": "code",
      "source": [
        "celsius = int(input('enter temperature in celsius : '))\n",
        "Farenheit = (celsius*(9/5))+32\n",
        "print(Farenheit)"
      ],
      "metadata": {
        "colab": {
          "base_uri": "https://localhost:8080/"
        },
        "id": "AbI6tdKWKPJA",
        "outputId": "34c5f377-5000-4755-e8ed-54148a6313aa"
      },
      "execution_count": 6,
      "outputs": [
        {
          "output_type": "stream",
          "name": "stdout",
          "text": [
            "enter temperature in celsius : 100\n",
            "212.0\n"
          ]
        }
      ]
    },
    {
      "cell_type": "markdown",
      "source": [
        "3.Write a Python program to display calendar?"
      ],
      "metadata": {
        "id": "uURjzcZaGPSr"
      }
    },
    {
      "cell_type": "code",
      "source": [
        "import calendar\n",
        "year = int(input('Enter year : '))\n",
        "print(calendar.calendar(year), end='')"
      ],
      "metadata": {
        "colab": {
          "base_uri": "https://localhost:8080/"
        },
        "id": "4NJJzZ0QMZpd",
        "outputId": "797f5ce0-8930-4780-b221-9aaffd297818"
      },
      "execution_count": 9,
      "outputs": [
        {
          "output_type": "stream",
          "name": "stdout",
          "text": [
            "Enter year : 2030\n",
            "                                  2030\n",
            "\n",
            "      January                   February                   March\n",
            "Mo Tu We Th Fr Sa Su      Mo Tu We Th Fr Sa Su      Mo Tu We Th Fr Sa Su\n",
            "    1  2  3  4  5  6                   1  2  3                   1  2  3\n",
            " 7  8  9 10 11 12 13       4  5  6  7  8  9 10       4  5  6  7  8  9 10\n",
            "14 15 16 17 18 19 20      11 12 13 14 15 16 17      11 12 13 14 15 16 17\n",
            "21 22 23 24 25 26 27      18 19 20 21 22 23 24      18 19 20 21 22 23 24\n",
            "28 29 30 31               25 26 27 28               25 26 27 28 29 30 31\n",
            "\n",
            "       April                      May                       June\n",
            "Mo Tu We Th Fr Sa Su      Mo Tu We Th Fr Sa Su      Mo Tu We Th Fr Sa Su\n",
            " 1  2  3  4  5  6  7             1  2  3  4  5                      1  2\n",
            " 8  9 10 11 12 13 14       6  7  8  9 10 11 12       3  4  5  6  7  8  9\n",
            "15 16 17 18 19 20 21      13 14 15 16 17 18 19      10 11 12 13 14 15 16\n",
            "22 23 24 25 26 27 28      20 21 22 23 24 25 26      17 18 19 20 21 22 23\n",
            "29 30                     27 28 29 30 31            24 25 26 27 28 29 30\n",
            "\n",
            "        July                     August                  September\n",
            "Mo Tu We Th Fr Sa Su      Mo Tu We Th Fr Sa Su      Mo Tu We Th Fr Sa Su\n",
            " 1  2  3  4  5  6  7                1  2  3  4                         1\n",
            " 8  9 10 11 12 13 14       5  6  7  8  9 10 11       2  3  4  5  6  7  8\n",
            "15 16 17 18 19 20 21      12 13 14 15 16 17 18       9 10 11 12 13 14 15\n",
            "22 23 24 25 26 27 28      19 20 21 22 23 24 25      16 17 18 19 20 21 22\n",
            "29 30 31                  26 27 28 29 30 31         23 24 25 26 27 28 29\n",
            "                                                    30\n",
            "\n",
            "      October                   November                  December\n",
            "Mo Tu We Th Fr Sa Su      Mo Tu We Th Fr Sa Su      Mo Tu We Th Fr Sa Su\n",
            "    1  2  3  4  5  6                   1  2  3                         1\n",
            " 7  8  9 10 11 12 13       4  5  6  7  8  9 10       2  3  4  5  6  7  8\n",
            "14 15 16 17 18 19 20      11 12 13 14 15 16 17       9 10 11 12 13 14 15\n",
            "21 22 23 24 25 26 27      18 19 20 21 22 23 24      16 17 18 19 20 21 22\n",
            "28 29 30 31               25 26 27 28 29 30         23 24 25 26 27 28 29\n",
            "                                                    30 31\n"
          ]
        }
      ]
    },
    {
      "cell_type": "markdown",
      "source": [
        "4.Write a Python program to solve quadratic equation?"
      ],
      "metadata": {
        "id": "2L9DnEQbGSY2"
      }
    },
    {
      "cell_type": "code",
      "source": [
        "# ax^2+bx+c=0\n",
        "a = int(input(\"Enter num_1: \"))\n",
        "b = int(input(\"Enter num_2: \"))\n",
        "c = int(input(\"Enter num_3: \"))\n",
        "\n",
        "print(\"Quadratic Equation is: {}x^2+{}x+{}=0\".format(a,b,c))\n",
        "\n",
        "if a==0:\n",
        "    print(\"a should not be equal to Zero\")\n",
        "else:\n",
        "    r = b**2 - 4*a*c\n",
        "    x1 = (((-b) + r**0.5)/(2*a))\n",
        "    x2 = (((-b) - r**0.5)/(2*a))\n",
        "    print(\"Two possible values of our quadratic equation are {} and {}\".format(x1,x2))"
      ],
      "metadata": {
        "colab": {
          "base_uri": "https://localhost:8080/"
        },
        "id": "WFxyZRpUPCNW",
        "outputId": "f33708ee-5b29-4a08-8638-4de60c2abe2b"
      },
      "execution_count": 16,
      "outputs": [
        {
          "output_type": "stream",
          "name": "stdout",
          "text": [
            "Enter num_1: 1\n",
            "Enter num_2: 3\n",
            "Enter num_3: 7\n",
            "Quadratic Equation is: 1x^2+3x+7=0\n",
            "Two possible values of our quadratic equation are (-1.4999999999999998+2.179449471770337j) and (-1.5000000000000002-2.179449471770337j)\n"
          ]
        }
      ]
    },
    {
      "cell_type": "markdown",
      "source": [
        "5.Write a Python program to swap two variables without temp variable?"
      ],
      "metadata": {
        "id": "OKouhgCuGVaB"
      }
    },
    {
      "cell_type": "code",
      "source": [
        "def swap(a,b):\n",
        "  a,b = b,a\n",
        "  print('After swapping a is {}, b is {}'.format(a,b))\n",
        "\n",
        "a = int(input('enter a : '))\n",
        "b = int(input('enter b : '))\n",
        "\n",
        "swap(a,b)"
      ],
      "metadata": {
        "colab": {
          "base_uri": "https://localhost:8080/"
        },
        "id": "wcEiaHuFSDVi",
        "outputId": "59c762db-925a-4b47-c576-4ffeb4f967d7"
      },
      "execution_count": 15,
      "outputs": [
        {
          "output_type": "stream",
          "name": "stdout",
          "text": [
            "enter a : 1\n",
            "enter b : 2\n",
            "After swapping a is 2, b is 1\n"
          ]
        }
      ]
    }
  ]
}