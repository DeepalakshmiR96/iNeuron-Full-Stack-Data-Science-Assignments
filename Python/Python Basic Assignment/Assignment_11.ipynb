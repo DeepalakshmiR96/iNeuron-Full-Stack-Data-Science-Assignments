{
  "nbformat": 4,
  "nbformat_minor": 0,
  "metadata": {
    "colab": {
      "name": "Assignment_11.ipynb",
      "provenance": []
    },
    "kernelspec": {
      "name": "python3",
      "display_name": "Python 3"
    },
    "language_info": {
      "name": "python"
    }
  },
  "cells": [
    {
      "cell_type": "markdown",
      "source": [
        "**Assignment - 11**"
      ],
      "metadata": {
        "id": "DvQjypLd_K9W"
      }
    },
    {
      "cell_type": "markdown",
      "source": [
        "1.Create an assert statement that throws an AssertionError if the variable spam is a negative\n",
        "integer."
      ],
      "metadata": {
        "id": "iloGVPx8_OwP"
      }
    },
    {
      "cell_type": "code",
      "source": [
        "spam = -1\n",
        "assert spam >= 0, 'should be positive integer'"
      ],
      "metadata": {
        "colab": {
          "base_uri": "https://localhost:8080/",
          "height": 182
        },
        "id": "pf6dgK-IcdcF",
        "outputId": "4b9ceb09-fd3c-4058-a95f-b20911a40385"
      },
      "execution_count": 1,
      "outputs": [
        {
          "output_type": "error",
          "ename": "AssertionError",
          "evalue": "ignored",
          "traceback": [
            "\u001b[0;31m---------------------------------------------------------------------------\u001b[0m",
            "\u001b[0;31mAssertionError\u001b[0m                            Traceback (most recent call last)",
            "\u001b[0;32m<ipython-input-1-9b7f30d18a37>\u001b[0m in \u001b[0;36m<module>\u001b[0;34m()\u001b[0m\n\u001b[1;32m      1\u001b[0m \u001b[0mspam\u001b[0m \u001b[0;34m=\u001b[0m \u001b[0;34m-\u001b[0m\u001b[0;36m1\u001b[0m\u001b[0;34m\u001b[0m\u001b[0;34m\u001b[0m\u001b[0m\n\u001b[0;32m----> 2\u001b[0;31m \u001b[0;32massert\u001b[0m \u001b[0mspam\u001b[0m \u001b[0;34m>=\u001b[0m \u001b[0;36m0\u001b[0m\u001b[0;34m,\u001b[0m \u001b[0;34m'should be positive integer'\u001b[0m\u001b[0;34m\u001b[0m\u001b[0;34m\u001b[0m\u001b[0m\n\u001b[0m",
            "\u001b[0;31mAssertionError\u001b[0m: should be positive integer"
          ]
        }
      ]
    },
    {
      "cell_type": "markdown",
      "source": [
        "2.Write an assert statement that triggers an AssertionError if the variables eggs and bacon contain\n",
        "strings that are the same as each other, even if their cases are different (that is, &#39;hello&#39; and &#39;hello&#39; are\n",
        "considered the same, and &#39;goodbye&#39; and &#39;GOODbye&#39; are also considered the same)."
      ],
      "metadata": {
        "id": "OOq3jBmw_RHm"
      }
    },
    {
      "cell_type": "code",
      "source": [
        "def checkSame(eggs, bacon):\n",
        "  assert eggs.lower() != bacon.lower(), \"its should be different\""
      ],
      "metadata": {
        "id": "oZWtZV3PevLx"
      },
      "execution_count": 3,
      "outputs": []
    },
    {
      "cell_type": "code",
      "source": [
        "checkSame('hello','hello')"
      ],
      "metadata": {
        "colab": {
          "base_uri": "https://localhost:8080/",
          "height": 234
        },
        "id": "XD_gZVwpfiPB",
        "outputId": "cdc8a786-68e5-4da8-ce7f-07f1f4dd641c"
      },
      "execution_count": 4,
      "outputs": [
        {
          "output_type": "error",
          "ename": "AssertionError",
          "evalue": "ignored",
          "traceback": [
            "\u001b[0;31m---------------------------------------------------------------------------\u001b[0m",
            "\u001b[0;31mAssertionError\u001b[0m                            Traceback (most recent call last)",
            "\u001b[0;32m<ipython-input-4-991b1f688ee1>\u001b[0m in \u001b[0;36m<module>\u001b[0;34m()\u001b[0m\n\u001b[0;32m----> 1\u001b[0;31m \u001b[0mcheckSame\u001b[0m\u001b[0;34m(\u001b[0m\u001b[0;34m'hello'\u001b[0m\u001b[0;34m,\u001b[0m\u001b[0;34m'hello'\u001b[0m\u001b[0;34m)\u001b[0m\u001b[0;34m\u001b[0m\u001b[0;34m\u001b[0m\u001b[0m\n\u001b[0m",
            "\u001b[0;32m<ipython-input-3-10f70dfc82dd>\u001b[0m in \u001b[0;36mcheckSame\u001b[0;34m(eggs, bacon)\u001b[0m\n\u001b[1;32m      1\u001b[0m \u001b[0;32mdef\u001b[0m \u001b[0mcheckSame\u001b[0m\u001b[0;34m(\u001b[0m\u001b[0meggs\u001b[0m\u001b[0;34m,\u001b[0m \u001b[0mbacon\u001b[0m\u001b[0;34m)\u001b[0m\u001b[0;34m:\u001b[0m\u001b[0;34m\u001b[0m\u001b[0;34m\u001b[0m\u001b[0m\n\u001b[0;32m----> 2\u001b[0;31m   \u001b[0;32massert\u001b[0m \u001b[0meggs\u001b[0m\u001b[0;34m.\u001b[0m\u001b[0mlower\u001b[0m\u001b[0;34m(\u001b[0m\u001b[0;34m)\u001b[0m \u001b[0;34m!=\u001b[0m \u001b[0mbacon\u001b[0m\u001b[0;34m.\u001b[0m\u001b[0mlower\u001b[0m\u001b[0;34m(\u001b[0m\u001b[0;34m)\u001b[0m\u001b[0;34m,\u001b[0m \u001b[0;34m\"its should be different\"\u001b[0m\u001b[0;34m\u001b[0m\u001b[0;34m\u001b[0m\u001b[0m\n\u001b[0m",
            "\u001b[0;31mAssertionError\u001b[0m: its should be different"
          ]
        }
      ]
    },
    {
      "cell_type": "code",
      "source": [
        "checkSame('goodbye','GOODbye')"
      ],
      "metadata": {
        "colab": {
          "base_uri": "https://localhost:8080/",
          "height": 234
        },
        "id": "sd7fYFo1ftGf",
        "outputId": "02e82f22-87d2-461f-b2c5-f00eea254b17"
      },
      "execution_count": 5,
      "outputs": [
        {
          "output_type": "error",
          "ename": "AssertionError",
          "evalue": "ignored",
          "traceback": [
            "\u001b[0;31m---------------------------------------------------------------------------\u001b[0m",
            "\u001b[0;31mAssertionError\u001b[0m                            Traceback (most recent call last)",
            "\u001b[0;32m<ipython-input-5-6fe64f0d67f5>\u001b[0m in \u001b[0;36m<module>\u001b[0;34m()\u001b[0m\n\u001b[0;32m----> 1\u001b[0;31m \u001b[0mcheckSame\u001b[0m\u001b[0;34m(\u001b[0m\u001b[0;34m'goodbye'\u001b[0m\u001b[0;34m,\u001b[0m\u001b[0;34m'GOODbye'\u001b[0m\u001b[0;34m)\u001b[0m\u001b[0;34m\u001b[0m\u001b[0;34m\u001b[0m\u001b[0m\n\u001b[0m",
            "\u001b[0;32m<ipython-input-3-10f70dfc82dd>\u001b[0m in \u001b[0;36mcheckSame\u001b[0;34m(eggs, bacon)\u001b[0m\n\u001b[1;32m      1\u001b[0m \u001b[0;32mdef\u001b[0m \u001b[0mcheckSame\u001b[0m\u001b[0;34m(\u001b[0m\u001b[0meggs\u001b[0m\u001b[0;34m,\u001b[0m \u001b[0mbacon\u001b[0m\u001b[0;34m)\u001b[0m\u001b[0;34m:\u001b[0m\u001b[0;34m\u001b[0m\u001b[0;34m\u001b[0m\u001b[0m\n\u001b[0;32m----> 2\u001b[0;31m   \u001b[0;32massert\u001b[0m \u001b[0meggs\u001b[0m\u001b[0;34m.\u001b[0m\u001b[0mlower\u001b[0m\u001b[0;34m(\u001b[0m\u001b[0;34m)\u001b[0m \u001b[0;34m!=\u001b[0m \u001b[0mbacon\u001b[0m\u001b[0;34m.\u001b[0m\u001b[0mlower\u001b[0m\u001b[0;34m(\u001b[0m\u001b[0;34m)\u001b[0m\u001b[0;34m,\u001b[0m \u001b[0;34m\"its should be different\"\u001b[0m\u001b[0;34m\u001b[0m\u001b[0;34m\u001b[0m\u001b[0m\n\u001b[0m",
            "\u001b[0;31mAssertionError\u001b[0m: its should be different"
          ]
        }
      ]
    },
    {
      "cell_type": "markdown",
      "source": [
        "3.Create an assert statement that throws an AssertionError every time."
      ],
      "metadata": {
        "id": "t2jDTcqF_U1d"
      }
    },
    {
      "cell_type": "code",
      "source": [
        "assert False, \"throws an AssertionError every time\""
      ],
      "metadata": {
        "colab": {
          "base_uri": "https://localhost:8080/",
          "height": 165
        },
        "id": "xBy4HhBzf4Mr",
        "outputId": "7083480b-1711-4a4d-88b1-35161760c0f5"
      },
      "execution_count": 7,
      "outputs": [
        {
          "output_type": "error",
          "ename": "AssertionError",
          "evalue": "ignored",
          "traceback": [
            "\u001b[0;31m---------------------------------------------------------------------------\u001b[0m",
            "\u001b[0;31mAssertionError\u001b[0m                            Traceback (most recent call last)",
            "\u001b[0;32m<ipython-input-7-0884756350e9>\u001b[0m in \u001b[0;36m<module>\u001b[0;34m()\u001b[0m\n\u001b[0;32m----> 1\u001b[0;31m \u001b[0;32massert\u001b[0m \u001b[0;32mFalse\u001b[0m\u001b[0;34m,\u001b[0m \u001b[0;34m\"throws an AssertionError every time\"\u001b[0m\u001b[0;34m\u001b[0m\u001b[0;34m\u001b[0m\u001b[0m\n\u001b[0m",
            "\u001b[0;31mAssertionError\u001b[0m: throws an AssertionError every time"
          ]
        }
      ]
    },
    {
      "cell_type": "markdown",
      "source": [
        "4.What are the two lines that must be present in your software in order to call logging.debug()?"
      ],
      "metadata": {
        "id": "OKJGXK07_XSP"
      }
    },
    {
      "cell_type": "code",
      "source": [
        "import logging\n",
        "logging.basicConfig(filename='test.log',level=logging.DEBUG,format='%(asctime)s-%(levelname)s-%(message)s')"
      ],
      "metadata": {
        "id": "PiK0WsynguYc"
      },
      "execution_count": 14,
      "outputs": []
    },
    {
      "cell_type": "markdown",
      "source": [
        "5.What are the two lines that your program must have in order to have logging.debug() send a\n",
        "logging message to a file named programLog.txt?"
      ],
      "metadata": {
        "id": "x6C2Kuaj_aBF"
      }
    },
    {
      "cell_type": "code",
      "source": [
        "import logging\n",
        "logging.basicConfig(filename='programLog.txt',level=logging.DEBUG,format='%(asctime)s-%(levelname)s-%(message)s')"
      ],
      "metadata": {
        "id": "Hl6lftF4hTAM"
      },
      "execution_count": 13,
      "outputs": []
    },
    {
      "cell_type": "code",
      "source": [
        "logging.debug(\"test\")"
      ],
      "metadata": {
        "id": "GmhGQLb5h954"
      },
      "execution_count": 15,
      "outputs": []
    },
    {
      "cell_type": "markdown",
      "source": [
        "6.What are the five levels of logging?"
      ],
      "metadata": {
        "id": "KLeYWXRf_cUO"
      }
    },
    {
      "cell_type": "markdown",
      "source": [
        "Ans:\n",
        "\n",
        "1.   CRITICAL - 50\n",
        "2.   ERROR - 40\n",
        "3.   WARNING - 30\n",
        "4.   INFO - 20\n",
        "5.   DEBUG - 10\n",
        "6.   NOTSET - 0\n",
        "\n",
        "\n",
        "\n"
      ],
      "metadata": {
        "id": "59LdiLHSiM5j"
      }
    },
    {
      "cell_type": "markdown",
      "source": [
        "7.What line of code would you add to your software to disable all logging messages?"
      ],
      "metadata": {
        "id": "7L5ZiijV_eoW"
      }
    },
    {
      "cell_type": "code",
      "source": [
        "logging.disable = True"
      ],
      "metadata": {
        "id": "gKBikWHsjc_8"
      },
      "execution_count": 16,
      "outputs": []
    },
    {
      "cell_type": "markdown",
      "source": [
        "8.Why is using logging messages better than using print() to display the same message?"
      ],
      "metadata": {
        "id": "lWQTdlsm_hVQ"
      }
    },
    {
      "cell_type": "markdown",
      "source": [
        "Ans: Logging is critical if you want to diagnose problems or understand what’s happening with your Python application. Print is used when you want to display any particular message. Whereas logging is used to record all events like error, info, debug messages, timestamps.\n",
        "\n",
        "The Python logging library lets you:\n",
        "\n",
        "1. Control what’s emitted\n",
        "\n",
        "2. Define what types of information you want to include in your logs\n",
        "\n",
        "3. Configure how it looks when it’s emitted\n",
        "\n",
        "4. Most importantly, set the destination for your logs"
      ],
      "metadata": {
        "id": "_uPbITh2jjiz"
      }
    },
    {
      "cell_type": "markdown",
      "source": [
        "9.What are the differences between the Step Over, Step In, and Step Out buttons in the debugger?"
      ],
      "metadata": {
        "id": "AZ1a41Mn_jl_"
      }
    },
    {
      "cell_type": "markdown",
      "source": [
        "Ans: \n",
        "\n",
        "Step Over : This command lets the application execute the next action. If the action involves a call to an operation, it does not step into its implementation (it steps over it instead).\n",
        "\n",
        "Step In : This command lets the application execute the next action. If the action involves a call to an operation, it steps into its implementation and breaks the execution on the first action of that implementation.\n",
        "\n",
        "Step Out : This command lets the application execute until the currently executed operation implementation is returned."
      ],
      "metadata": {
        "id": "lIwODQaWlAQh"
      }
    },
    {
      "cell_type": "markdown",
      "source": [
        "10.After you click Continue, when will the debugger stop ?"
      ],
      "metadata": {
        "id": "T3F7H4I1_mNp"
      }
    },
    {
      "cell_type": "markdown",
      "source": [
        "Ans: This will cause the program to continue running normally, without pausing for debugging untill it stops or reaches a breakpoint."
      ],
      "metadata": {
        "id": "M2IzYlqfmG2b"
      }
    },
    {
      "cell_type": "markdown",
      "source": [
        "11.What is the concept of a breakpoint?"
      ],
      "metadata": {
        "id": "UW8mB5zs_osh"
      }
    },
    {
      "cell_type": "markdown",
      "source": [
        "Ans: A breakpoint is an intentional stopping or pausing place in a program, put in place for debugging purposes. It is also sometimes simply referred to as a pause."
      ],
      "metadata": {
        "id": "ZJz_y9iSmvCc"
      }
    }
  ]
}