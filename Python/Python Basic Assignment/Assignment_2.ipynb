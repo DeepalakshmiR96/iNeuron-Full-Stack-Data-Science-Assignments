{
  "nbformat": 4,
  "nbformat_minor": 0,
  "metadata": {
    "colab": {
      "name": "Assignment_2.ipynb",
      "provenance": []
    },
    "kernelspec": {
      "name": "python3",
      "display_name": "Python 3"
    },
    "language_info": {
      "name": "python"
    }
  },
  "cells": [
    {
      "cell_type": "markdown",
      "source": [
        "**Assignment 2**"
      ],
      "metadata": {
        "id": "sEWKv5x-3EN3"
      }
    },
    {
      "cell_type": "markdown",
      "source": [
        "1.What are the two values of the Boolean data type? How do you write them?"
      ],
      "metadata": {
        "id": "LH4SC6BY3Hpy"
      }
    },
    {
      "cell_type": "markdown",
      "source": [
        "**Ans:** True and False are two values of the boolen data types"
      ],
      "metadata": {
        "id": "GKHXY_9s4QVg"
      }
    },
    {
      "cell_type": "code",
      "source": [
        "a=True\n",
        "print(a,type(True))\n",
        "print(type(False))"
      ],
      "metadata": {
        "colab": {
          "base_uri": "https://localhost:8080/"
        },
        "id": "CBBqPRaj4U-G",
        "outputId": "3cd7a747-12d1-48d0-ae3e-fc7a6cd79ea0"
      },
      "execution_count": 1,
      "outputs": [
        {
          "output_type": "stream",
          "name": "stdout",
          "text": [
            "True <class 'bool'>\n",
            "<class 'bool'>\n"
          ]
        }
      ]
    },
    {
      "cell_type": "markdown",
      "source": [
        "2.What are the three different types of Boolean operators?"
      ],
      "metadata": {
        "id": "muHz66hA3M69"
      }
    },
    {
      "cell_type": "markdown",
      "source": [
        "**Ans:** and, or, not are the three different types of Boolean operators."
      ],
      "metadata": {
        "id": "xAI2DsYj4uuz"
      }
    },
    {
      "cell_type": "code",
      "source": [
        "print(True and True)\n",
        "print(20>10 or 10==9)\n",
        "print(not(20>10))"
      ],
      "metadata": {
        "colab": {
          "base_uri": "https://localhost:8080/"
        },
        "id": "Uhn-6Paz45KT",
        "outputId": "0a1598f1-16b1-470f-8c18-734fb74c0b0d"
      },
      "execution_count": 2,
      "outputs": [
        {
          "output_type": "stream",
          "name": "stdout",
          "text": [
            "True\n",
            "True\n",
            "False\n"
          ]
        }
      ]
    },
    {
      "cell_type": "markdown",
      "source": [
        "3.Make a list of each Boolean operator's truth tables (i.e. every possible combination of Boolean values for the operator and what it evaluate )."
      ],
      "metadata": {
        "id": "8bICD4hR3Tig"
      }
    },
    {
      "cell_type": "markdown",
      "source": [
        "**Ans:**\n",
        "\n",
        "True is 1\n",
        "\n",
        "False is 0\n",
        "**And operator:**\n",
        "\n",
        "1 and 1 -> 1\n",
        "\n",
        "1 and 0 -> 0\n",
        "\n",
        "0 and 1 -> 0\n",
        "\n",
        "0 and 0 -> 0\n",
        "\n",
        "**or operator**\n",
        "\n",
        "1 or 1 -> 1\n",
        "\n",
        "1 or 0 -> 1\n",
        "\n",
        "0 or 1 -> 1\n",
        "\n",
        "0 or 0 -> 0\n",
        "\n",
        "**not operator**\n",
        "\n",
        "not 1 -> 0\n",
        "\n",
        "not 0 -> 1"
      ],
      "metadata": {
        "id": "RXlRvjGH5Q1K"
      }
    },
    {
      "cell_type": "markdown",
      "source": [
        "4.What are the values of the following expressions?\n",
        "(5 > 4) and (3 == 5)\n",
        "not (5 > 4)\n",
        "(5 > 4) or (3 == 5)\n",
        "not ((5 > 4) or (3 == 5))\n",
        "(True and True) and (True == False)\n",
        "(not False) or (not True)"
      ],
      "metadata": {
        "id": "IER5fj8N3cpJ"
      }
    },
    {
      "cell_type": "code",
      "source": [
        "print((5>4)and(3==5)) # False\n",
        "print(not(5>4)) # False\n",
        "print((5>4)or(3==5)) # True\n",
        "print(not((5>4)or(3==5))) # False\n",
        "print((True and True)and(True==False)) # False\n",
        "print((not False)or(not True)) # True"
      ],
      "metadata": {
        "colab": {
          "base_uri": "https://localhost:8080/"
        },
        "id": "xy7wZnNK6pzS",
        "outputId": "e22d49a7-33d4-4a94-a2ee-5bb6a707107c"
      },
      "execution_count": 3,
      "outputs": [
        {
          "output_type": "stream",
          "name": "stdout",
          "text": [
            "False\n",
            "False\n",
            "True\n",
            "False\n",
            "False\n",
            "True\n"
          ]
        }
      ]
    },
    {
      "cell_type": "markdown",
      "source": [
        "5.What are the six comparison operators?"
      ],
      "metadata": {
        "id": "VGp0LpLL3gDq"
      }
    },
    {
      "cell_type": "markdown",
      "source": [
        "**Ans:** == , != , < , > , <= , =>"
      ],
      "metadata": {
        "id": "nSWGRPVX66l5"
      }
    },
    {
      "cell_type": "markdown",
      "source": [
        "6.How do you tell the difference between the equal to and assignment operators?Describe a condition and when you would use one."
      ],
      "metadata": {
        "id": "vw770yWh3jnJ"
      }
    },
    {
      "cell_type": "markdown",
      "source": [
        "**Ans:** equal to operator(==) compares two values and results to a Boolean. Assignment operator(=) takes values in a variable"
      ],
      "metadata": {
        "id": "VhtghTrj7YbQ"
      }
    },
    {
      "cell_type": "code",
      "source": [
        "a = 1 # assigning\n",
        "print(a==1) #equal to"
      ],
      "metadata": {
        "colab": {
          "base_uri": "https://localhost:8080/"
        },
        "id": "QF8fL7TO8Amr",
        "outputId": "0bcfdd88-a18e-4ecc-a2f1-091a3960ad5b"
      },
      "execution_count": 4,
      "outputs": [
        {
          "output_type": "stream",
          "name": "stdout",
          "text": [
            "True\n"
          ]
        }
      ]
    },
    {
      "cell_type": "markdown",
      "source": [
        "7.Identify the three blocks in this code:\n",
        "spam = 0\n",
        "if spam == 10:\n",
        "print('eggs')\n",
        "if spam > 5:\n",
        "print('bacon')\n",
        "else:\n",
        "print('ham')\n",
        "print('spam')\n",
        "print('spam')"
      ],
      "metadata": {
        "id": "zyBFAhUN3msC"
      }
    },
    {
      "cell_type": "code",
      "source": [
        "spam = 0  \n",
        "if spam == 10:  \n",
        "    print('eggs')  # block #1\n",
        "if spam > 5:  \n",
        "    print('bacon')  # block #2\n",
        "else:  \n",
        "    print('ham')  # block #3\n",
        "print('spam')  \n",
        "print('spam')"
      ],
      "metadata": {
        "colab": {
          "base_uri": "https://localhost:8080/"
        },
        "id": "nLelwe1Z8Xo6",
        "outputId": "8fa1245a-b325-4215-b28e-e759ab77f690"
      },
      "execution_count": 5,
      "outputs": [
        {
          "output_type": "stream",
          "name": "stdout",
          "text": [
            "ham\n",
            "spam\n",
            "spam\n"
          ]
        }
      ]
    },
    {
      "cell_type": "markdown",
      "source": [
        "8.Write code that prints Hello if 1 is stored in spam, prints Howdy if 2 is stored in spam, and prints Greetings! if anything else is stored in spam."
      ],
      "metadata": {
        "id": "9jEzsI963rei"
      }
    },
    {
      "cell_type": "code",
      "source": [
        "def spam(spam):\n",
        "    if spam == 1:\n",
        "        print('Hello')\n",
        "    elif spam == 2:\n",
        "        print('Howdy')\n",
        "    else:\n",
        "        print('Greetings!')\n",
        "        \n",
        "spam(1) \n",
        "spam(2)\n",
        "spam(3)"
      ],
      "metadata": {
        "colab": {
          "base_uri": "https://localhost:8080/"
        },
        "id": "R_6Gfow28kCF",
        "outputId": "df4ff3b0-2264-47fe-d886-89c11a08e4ea"
      },
      "execution_count": 6,
      "outputs": [
        {
          "output_type": "stream",
          "name": "stdout",
          "text": [
            "Hello\n",
            "Howdy\n",
            "Greetings!\n"
          ]
        }
      ]
    },
    {
      "cell_type": "markdown",
      "source": [
        "9.If your programme is stuck in an endless loop, what keys you’ll press?"
      ],
      "metadata": {
        "id": "e41oL2qX3vuk"
      }
    },
    {
      "cell_type": "markdown",
      "source": [
        "**Ans:** ctrl c"
      ],
      "metadata": {
        "id": "Tca_DIvR9G4N"
      }
    },
    {
      "cell_type": "markdown",
      "source": [
        "10.How can you tell the difference between break and continue?"
      ],
      "metadata": {
        "id": "MsnxZ0hR3wzP"
      }
    },
    {
      "cell_type": "markdown",
      "source": [
        "**Ans:** **break** statment will break the loop and execute ouside the loop if break condition mets. For **continue** statement will move execution to the start of the loop"
      ],
      "metadata": {
        "id": "tBB-2_fG9VKi"
      }
    },
    {
      "cell_type": "markdown",
      "source": [
        "11.In a for loop, what is the difference between range(10), range(0, 10), and range(0, 10, 1)?"
      ],
      "metadata": {
        "id": "eGrY2Muk32J8"
      }
    },
    {
      "cell_type": "markdown",
      "source": [
        "**Ans**:\n",
        "\n",
        "range(10) - range starts from 0 to 9\n",
        "\n",
        "range(0,10) - explicitly tells to start from 0 to 9\n",
        "\n",
        "range(0,10,1) - explicitly tells to start from 0 to 9 with step size 1 to increase by 1 on each iteration"
      ],
      "metadata": {
        "id": "y__nVWWI-I4q"
      }
    },
    {
      "cell_type": "markdown",
      "source": [
        "12.Write a short program that prints the numbers 1 to 10 using a for loop. Then write an equivalent program that prints the numbers 1 to 10 using a while loop."
      ],
      "metadata": {
        "id": "JGmL6q6V35PD"
      }
    },
    {
      "cell_type": "code",
      "source": [
        "for i in range(1,11):\n",
        "  print(i,end=\"\")\n",
        "print('\\n')\n",
        "n = 1\n",
        "while n <= 10:\n",
        "  print(n, end=\"\")\n",
        "  n += 1"
      ],
      "metadata": {
        "colab": {
          "base_uri": "https://localhost:8080/"
        },
        "id": "QVh-3i4H_-XS",
        "outputId": "30175397-44bd-4838-d0d0-00a9b3a82fc7"
      },
      "execution_count": 11,
      "outputs": [
        {
          "output_type": "stream",
          "name": "stdout",
          "text": [
            "12345678910\n",
            "\n",
            "12345678910"
          ]
        }
      ]
    },
    {
      "cell_type": "markdown",
      "source": [
        "13.If you had a function named bacon() inside a module named spam, how would you call it after importing spam?"
      ],
      "metadata": {
        "id": "YxsnWsNC37Fd"
      }
    },
    {
      "cell_type": "markdown",
      "source": [
        "**Ans:** spam.bacon()"
      ],
      "metadata": {
        "id": "Jkdhx82mAosy"
      }
    }
  ]
}