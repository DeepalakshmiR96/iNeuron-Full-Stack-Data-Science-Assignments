{
  "nbformat": 4,
  "nbformat_minor": 0,
  "metadata": {
    "colab": {
      "name": "Assignment_21.ipynb",
      "provenance": [],
      "collapsed_sections": []
    },
    "kernelspec": {
      "name": "python3",
      "display_name": "Python 3"
    },
    "language_info": {
      "name": "python"
    }
  },
  "cells": [
    {
      "cell_type": "markdown",
      "source": [
        "**Assignment - 21**"
      ],
      "metadata": {
        "id": "XcAT0BpwT_-7"
      }
    },
    {
      "cell_type": "markdown",
      "source": [
        "1.Add the current date to the text file today.txt as a string."
      ],
      "metadata": {
        "id": "sso26wHuUEfS"
      }
    },
    {
      "cell_type": "code",
      "source": [
        "from datetime import datetime\n",
        "f = open('today.txt','w+')\n",
        "now = datetime.now().strftime('%d-%m-%y')\n",
        "f.write(now)\n",
        "f.close()"
      ],
      "metadata": {
        "id": "ioTYlts0Uq6b"
      },
      "execution_count": 3,
      "outputs": []
    },
    {
      "cell_type": "markdown",
      "source": [
        "2.Read the text file today.txt into the string today_string"
      ],
      "metadata": {
        "id": "HLv3hNzFUKM3"
      }
    },
    {
      "cell_type": "code",
      "source": [
        "f = open('today.txt','r')\n",
        "today_string = f.read()"
      ],
      "metadata": {
        "id": "fG_36hghWMIH"
      },
      "execution_count": 4,
      "outputs": []
    },
    {
      "cell_type": "markdown",
      "source": [
        "3.Parse the date from today_string."
      ],
      "metadata": {
        "id": "a2FkGf0FUMlg"
      }
    },
    {
      "cell_type": "code",
      "source": [
        "print(datetime.strptime(today_string,'%d-%m-%y'))"
      ],
      "metadata": {
        "colab": {
          "base_uri": "https://localhost:8080/"
        },
        "id": "d4xSLYCZWXEm",
        "outputId": "fd89d5d0-2a41-4a57-bf02-e9c23f0c6852"
      },
      "execution_count": 6,
      "outputs": [
        {
          "output_type": "stream",
          "name": "stdout",
          "text": [
            "2022-04-27 00:00:00\n"
          ]
        }
      ]
    },
    {
      "cell_type": "markdown",
      "source": [
        "4.List the files in your current directory"
      ],
      "metadata": {
        "id": "1PFSyjv9UPDk"
      }
    },
    {
      "cell_type": "code",
      "source": [
        "import os\n",
        "for fold, subfold, files in os.walk(os.getcwd()):\n",
        "  for i in files:\n",
        "    print(i)"
      ],
      "metadata": {
        "colab": {
          "base_uri": "https://localhost:8080/"
        },
        "id": "uuW3Vm9IbQBQ",
        "outputId": "7e846b51-4207-43ab-aa02-aa8b747c0173"
      },
      "execution_count": 9,
      "outputs": [
        {
          "output_type": "stream",
          "name": "stdout",
          "text": [
            "today.txt\n",
            "active_config\n",
            ".metricsUUID\n",
            ".last_update_check.json\n",
            ".last_opt_in_prompt.yaml\n",
            ".last_survey_prompt.yaml\n",
            "config_sentinel\n",
            ".feature_flags_config.yaml\n",
            "gce\n",
            "config_default\n",
            "13.45.04.903240.log\n",
            "13.45.56.473227.log\n",
            "13.45.25.561751.log\n",
            "13.45.57.322566.log\n",
            "13.45.35.063887.log\n",
            "13.44.40.300129.log\n",
            "anscombe.json\n",
            "README.md\n",
            "california_housing_train.csv\n",
            "mnist_test.csv\n",
            "california_housing_test.csv\n",
            "mnist_train_small.csv\n"
          ]
        }
      ]
    },
    {
      "cell_type": "markdown",
      "source": [
        "5.Create a list of all of the files in your parent directory (minimum five files should be available)."
      ],
      "metadata": {
        "id": "6BKT63N8URh4"
      }
    },
    {
      "cell_type": "code",
      "source": [
        "import os\n",
        "os.listdir()"
      ],
      "metadata": {
        "colab": {
          "base_uri": "https://localhost:8080/"
        },
        "id": "3vQb4TMEb64w",
        "outputId": "1ae3b75d-02f3-4695-ab61-bcab5b39ab8d"
      },
      "execution_count": 11,
      "outputs": [
        {
          "output_type": "execute_result",
          "data": {
            "text/plain": [
              "['.config',\n",
              " 'Assignment_1.ipynb',\n",
              " 'today.txt',\n",
              " 'Assignment_20.ipynb',\n",
              " 'Assignment_2.ipynb',\n",
              " 'sample_data']"
            ]
          },
          "metadata": {},
          "execution_count": 11
        }
      ]
    },
    {
      "cell_type": "markdown",
      "source": [
        "6.Use multiprocessing to create three separate processes. Make each one wait a random number of\n",
        "seconds between one and five, print the current time, and then exit."
      ],
      "metadata": {
        "id": "8tocYNSHUUCZ"
      }
    },
    {
      "cell_type": "code",
      "source": [
        "import multiprocessing\n",
        "from random import randint\n",
        "from time import sleep\n",
        "\n",
        "def process1():\n",
        "  print('1 started sleep ', datetime.now())\n",
        "  delay = randint(1,5)\n",
        "  sleep(delay)\n",
        "  print('1 ended sleep ',datetime.now())\n",
        "\n",
        "def process2():\n",
        "  print('2 started sleep ', datetime.now())\n",
        "  delay = randint(1,5)\n",
        "  sleep(delay)\n",
        "  print('2 ended sleep ',datetime.now())\n",
        "\n",
        "def process3():\n",
        "  print('3 started sleep ', datetime.now())\n",
        "  delay = randint(1,5)\n",
        "  sleep(delay)\n",
        "  print('3 ended sleep ',datetime.now())\n",
        "\n",
        "p1 = multiprocessing.Process(target=process1)\n",
        "p2 = multiprocessing.Process(target=process2)\n",
        "p3 = multiprocessing.Process(target=process3)\n",
        "\n",
        "p1.start()\n",
        "p2.start()\n",
        "p3.start()\n",
        "\n",
        "p1.join()\n",
        "p2.join()\n",
        "p3.join()\n"
      ],
      "metadata": {
        "colab": {
          "base_uri": "https://localhost:8080/"
        },
        "id": "2SiWRR77cahJ",
        "outputId": "3abb925c-a270-4f41-e8a4-10f03aa1f024"
      },
      "execution_count": 14,
      "outputs": [
        {
          "output_type": "stream",
          "name": "stdout",
          "text": [
            "1 started sleep  2022-04-27 19:30:31.690978\n",
            "2 started sleep  2022-04-27 19:30:31.700717\n",
            "3 started sleep  2022-04-27 19:30:31.720343\n",
            "1 ended sleep  2022-04-27 19:30:32.696960\n",
            "2 ended sleep  2022-04-27 19:30:33.708693\n",
            "3 ended sleep  2022-04-27 19:30:33.729389\n"
          ]
        }
      ]
    },
    {
      "cell_type": "markdown",
      "source": [
        "7.Create a date object of your day of birth."
      ],
      "metadata": {
        "id": "GxhGQyQFUW4H"
      }
    },
    {
      "cell_type": "code",
      "source": [
        "from datetime import datetime\n",
        "dob = datetime.strptime('23-08-1996','%d-%m-%Y')\n",
        "print(dob, type(dob))"
      ],
      "metadata": {
        "colab": {
          "base_uri": "https://localhost:8080/"
        },
        "id": "rt0vZQIphfzp",
        "outputId": "df1c219c-b26d-49e9-9b19-ab9736367233"
      },
      "execution_count": 40,
      "outputs": [
        {
          "output_type": "stream",
          "name": "stdout",
          "text": [
            "1996-08-23 00:00:00 <class 'datetime.datetime'>\n"
          ]
        }
      ]
    },
    {
      "cell_type": "markdown",
      "source": [
        "8.What day of the week was your day of birth?"
      ],
      "metadata": {
        "id": "CjHb9Y18UZNe"
      }
    },
    {
      "cell_type": "code",
      "source": [
        "d = datetime.date(1996, 8, 23)\n",
        "d.strftime('%A')"
      ],
      "metadata": {
        "colab": {
          "base_uri": "https://localhost:8080/",
          "height": 35
        },
        "id": "NvHvYVVEjdcb",
        "outputId": "854d9f42-ada9-44ea-b680-c47567c1fe84"
      },
      "execution_count": 23,
      "outputs": [
        {
          "output_type": "execute_result",
          "data": {
            "text/plain": [
              "'Friday'"
            ],
            "application/vnd.google.colaboratory.intrinsic+json": {
              "type": "string"
            }
          },
          "metadata": {},
          "execution_count": 23
        }
      ]
    },
    {
      "cell_type": "markdown",
      "source": [
        "9.When will you be (or when were you) 10,000 days old?"
      ],
      "metadata": {
        "id": "OFn9H9T9UeA3"
      }
    },
    {
      "cell_type": "code",
      "source": [
        "from datetime import datetime, timedelta\n",
        "d = datetime.strptime('23-08-1996','%d-%m-%Y')\n",
        "day = d + timedelta(days = 10000)\n",
        "day"
      ],
      "metadata": {
        "colab": {
          "base_uri": "https://localhost:8080/"
        },
        "id": "wIEFai2slvAC",
        "outputId": "4d000e52-7db6-4d7b-c492-06825a628962"
      },
      "execution_count": 42,
      "outputs": [
        {
          "output_type": "execute_result",
          "data": {
            "text/plain": [
              "datetime.datetime(2024, 1, 9, 0, 0)"
            ]
          },
          "metadata": {},
          "execution_count": 42
        }
      ]
    }
  ]
}