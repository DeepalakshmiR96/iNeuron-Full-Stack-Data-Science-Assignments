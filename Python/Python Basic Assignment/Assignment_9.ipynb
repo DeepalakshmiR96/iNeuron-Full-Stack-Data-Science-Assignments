{
  "nbformat": 4,
  "nbformat_minor": 0,
  "metadata": {
    "colab": {
      "name": "Assignment_9.ipynb",
      "provenance": []
    },
    "kernelspec": {
      "name": "python3",
      "display_name": "Python 3"
    },
    "language_info": {
      "name": "python"
    }
  },
  "cells": [
    {
      "cell_type": "markdown",
      "source": [
        "**Assignment - 9**"
      ],
      "metadata": {
        "id": "f49AR0p-968l"
      }
    },
    {
      "cell_type": "markdown",
      "source": [
        "1.To what does a relative path refer?"
      ],
      "metadata": {
        "id": "ZOf8aRV19_GM"
      }
    },
    {
      "cell_type": "markdown",
      "source": [
        "Ans: The relative path is the path to some file with respect to your current working directory (PWD)"
      ],
      "metadata": {
        "id": "VRkQOlal-Bqg"
      }
    },
    {
      "cell_type": "code",
      "source": [
        "import os\n",
        "absolutepath = os.path.relpath('Assignment_9.ipynb')\n",
        "print(absolutepath)"
      ],
      "metadata": {
        "colab": {
          "base_uri": "https://localhost:8080/"
        },
        "id": "xDY2p4_UdNOa",
        "outputId": "b0d5f513-c13e-49c9-d311-e9e14a1f20a3"
      },
      "execution_count": 9,
      "outputs": [
        {
          "output_type": "stream",
          "name": "stdout",
          "text": [
            "Assignment_9.ipynb\n"
          ]
        }
      ]
    },
    {
      "cell_type": "markdown",
      "source": [
        "2.What does an absolute path start with your operating system?"
      ],
      "metadata": {
        "id": "J5iScSxp-CcL"
      }
    },
    {
      "cell_type": "markdown",
      "source": [
        "Ans: An absolute path is a path that contains the entire path to the file or directory that you need to access. This path will begin at the home directory of your computer and will end with the file or directory that you wish to access.\n",
        "\n",
        "PWD + relative path = absolute path"
      ],
      "metadata": {
        "id": "VOz_2T73-E8Q"
      }
    },
    {
      "cell_type": "code",
      "source": [
        "import os\n",
        "absolutepath = os.path.abspath('Assignment_9.ipynb')\n",
        "print(absolutepath)"
      ],
      "metadata": {
        "colab": {
          "base_uri": "https://localhost:8080/"
        },
        "id": "IayPs6wigYyc",
        "outputId": "2245a60d-b6fd-4493-8bda-ad80e43af2f0"
      },
      "execution_count": 8,
      "outputs": [
        {
          "output_type": "stream",
          "name": "stdout",
          "text": [
            "/content/Assignment_9.ipynb\n"
          ]
        }
      ]
    },
    {
      "cell_type": "markdown",
      "source": [
        "3.What do the functions os.getcwd() and os.chdir() do?"
      ],
      "metadata": {
        "id": "RgdqmlWo-Fp6"
      }
    },
    {
      "cell_type": "markdown",
      "source": [
        "Ans: os.getcwd() provide current working directory\n",
        "\n",
        "os.chdir() change the current directory to the specified path."
      ],
      "metadata": {
        "id": "sqog4uTD-IrB"
      }
    },
    {
      "cell_type": "code",
      "source": [
        "import os\n",
        "print(os.getcwd())\n",
        "os.chdir('/content')\n",
        "print(os.getcwd())"
      ],
      "metadata": {
        "colab": {
          "base_uri": "https://localhost:8080/"
        },
        "id": "58C7YXCoiaE_",
        "outputId": "8d801218-fea4-439c-d7c6-b4b4bd7cf7d7"
      },
      "execution_count": 16,
      "outputs": [
        {
          "output_type": "stream",
          "name": "stdout",
          "text": [
            "/content/sample_data\n",
            "/content\n"
          ]
        }
      ]
    },
    {
      "cell_type": "markdown",
      "source": [
        "4.What are the . and .. folders?"
      ],
      "metadata": {
        "id": "QTs9tI3h-JwN"
      }
    },
    {
      "cell_type": "markdown",
      "source": [
        "Ans:\n",
        "\n",
        ". represent current working directory\n",
        "\n",
        ".. represent the parent directory of current directory"
      ],
      "metadata": {
        "id": "is-l3ITZ-MdV"
      }
    },
    {
      "cell_type": "markdown",
      "source": [
        "5.In C:\\bacon\\eggs\\spam.txt, which part is the dir name, and which part is the base name?"
      ],
      "metadata": {
        "id": "CwCdenuB-NB_"
      }
    },
    {
      "cell_type": "markdown",
      "source": [
        "Ans:\n",
        "\n",
        "C:\\bacon\\eggs = directory name\n",
        "\n",
        "spam.txt = base name"
      ],
      "metadata": {
        "id": "gtDIRvuP-Pzc"
      }
    },
    {
      "cell_type": "code",
      "source": [
        "import os\n",
        "path = 'C:/bacon/eggs/spam.txt'\n",
        "dirname = os.path.dirname(path)\n",
        "print(dirname)\n",
        "print(os.path.basename(path))"
      ],
      "metadata": {
        "colab": {
          "base_uri": "https://localhost:8080/"
        },
        "id": "mocDqOcxkftP",
        "outputId": "58133857-327e-42bb-854b-1560d46feb00"
      },
      "execution_count": 29,
      "outputs": [
        {
          "output_type": "stream",
          "name": "stdout",
          "text": [
            "C:/bacon/eggs\n",
            "spam.txt\n"
          ]
        }
      ]
    },
    {
      "cell_type": "markdown",
      "source": [
        "6.What are the three “mode” arguments that can be passed to the open() function?"
      ],
      "metadata": {
        "id": "O0UK1-kI-REP"
      }
    },
    {
      "cell_type": "markdown",
      "source": [
        "Ans: open function takes two arguments filename and mode of operation (optional). If mode is not provided the default mode of opening is read mode.\n",
        "\n",
        "'r' = read mode\n",
        "'w' = write mode\n",
        "'a' = append mode"
      ],
      "metadata": {
        "id": "ESJw8jqN-U96"
      }
    },
    {
      "cell_type": "markdown",
      "source": [
        "7.What happens if an existing file is opened in write mode?"
      ],
      "metadata": {
        "id": "ruiVd1hr-WAB"
      }
    },
    {
      "cell_type": "markdown",
      "source": [
        "Ans: When mode “w” is specified, it creates an empty file for output operations. What if the file already exists? If a file with the same name already exists, its contents are discarded and the file is treated as a new empty file."
      ],
      "metadata": {
        "id": "_NPKR4vn-ZGP"
      }
    },
    {
      "cell_type": "markdown",
      "source": [
        "8.How do you tell the difference between read() and readlines()?"
      ],
      "metadata": {
        "id": "8mkOxbf7-aId"
      }
    },
    {
      "cell_type": "markdown",
      "source": [
        "Ans: read() will iterate over each character while readlines() only reads a single complete line of the file. readlines() used for reading files that are too big for the RAM. "
      ],
      "metadata": {
        "id": "MxpQ5G5h-c_j"
      }
    },
    {
      "cell_type": "markdown",
      "source": [
        "9.What data structure does a shelf value resemble?"
      ],
      "metadata": {
        "id": "Y5fEI9Po-dv8"
      }
    },
    {
      "cell_type": "markdown",
      "source": [
        "Ans: A shelf value resembles a dictionary value; it has keys and values, along with keys() and values() methods that work similarly to the dictionary methods of the same names."
      ],
      "metadata": {
        "id": "s1-ptqTUqLiX"
      }
    }
  ]
}