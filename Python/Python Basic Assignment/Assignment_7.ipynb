{
  "nbformat": 4,
  "nbformat_minor": 0,
  "metadata": {
    "colab": {
      "name": "Assignment_7.ipynb",
      "provenance": []
    },
    "kernelspec": {
      "name": "python3",
      "display_name": "Python 3"
    },
    "language_info": {
      "name": "python"
    }
  },
  "cells": [
    {
      "cell_type": "markdown",
      "source": [
        "**Assignment - 7**"
      ],
      "metadata": {
        "id": "abQNpTIRcsrX"
      }
    },
    {
      "cell_type": "markdown",
      "source": [
        "1.What is the name of the feature responsible for generating Regex objects?"
      ],
      "metadata": {
        "id": "XsXxWREccx62"
      }
    },
    {
      "cell_type": "markdown",
      "source": [
        "Ans: Python’s re.compile() method is used to compile a regular expression pattern provided as a string into a regex pattern object (re.Pattern)."
      ],
      "metadata": {
        "id": "3X66sEb0d65Q"
      }
    },
    {
      "cell_type": "code",
      "source": [
        "import re\n",
        "regex_pattern = re.compile(r\"\\d{3}\")\n",
        "print(type(regex_pattern))"
      ],
      "metadata": {
        "colab": {
          "base_uri": "https://localhost:8080/"
        },
        "id": "NUcrcjXXkNG5",
        "outputId": "e936f354-bea8-4323-c795-b2ba053cf394"
      },
      "execution_count": 1,
      "outputs": [
        {
          "output_type": "stream",
          "name": "stdout",
          "text": [
            "<class 're.Pattern'>\n"
          ]
        }
      ]
    },
    {
      "cell_type": "markdown",
      "source": [
        "2.Why do raw strings often appear in Regex objects?"
      ],
      "metadata": {
        "id": "olJl6P_md7j3"
      }
    },
    {
      "cell_type": "markdown",
      "source": [
        "Ans: To prevent backslash from escaping."
      ],
      "metadata": {
        "id": "3PSdKuR0d_p3"
      }
    },
    {
      "cell_type": "markdown",
      "source": [
        "3.What is the return value of the search() method?"
      ],
      "metadata": {
        "id": "qd_goBZaeBah"
      }
    },
    {
      "cell_type": "markdown",
      "source": [
        "Ans: If it finds the pattern then it returns match object else none."
      ],
      "metadata": {
        "id": "S_9MQWaEeEZg"
      }
    },
    {
      "cell_type": "code",
      "source": [
        "import re\n",
        "match = re.search(\"data\", \"data science course\", flags=re.IGNORECASE)\n",
        "print(match)\n",
        "match = re.search(\"ok\", \"data science course\", flags=re.IGNORECASE)\n",
        "print(match)"
      ],
      "metadata": {
        "colab": {
          "base_uri": "https://localhost:8080/"
        },
        "id": "jYtwG32Llmcf",
        "outputId": "2e63734c-d39b-439a-9eb2-0056217154e3"
      },
      "execution_count": 5,
      "outputs": [
        {
          "output_type": "stream",
          "name": "stdout",
          "text": [
            "<re.Match object; span=(0, 4), match='data'>\n",
            "None\n"
          ]
        }
      ]
    },
    {
      "cell_type": "markdown",
      "source": [
        "4.From a Match item, how do you get the actual strings that match the pattern?"
      ],
      "metadata": {
        "id": "GQkmtl-4eHCZ"
      }
    },
    {
      "cell_type": "markdown",
      "source": [
        "Ans: group() method returns matched pattern"
      ],
      "metadata": {
        "id": "Pt5DrQEVeIOt"
      }
    },
    {
      "cell_type": "code",
      "source": [
        "import re\n",
        "match = re.search(\"data\", \"data science course\", flags=re.IGNORECASE)\n",
        "print(match.group())"
      ],
      "metadata": {
        "colab": {
          "base_uri": "https://localhost:8080/"
        },
        "id": "d6iVtI25mHkm",
        "outputId": "5df1f442-4577-49c5-ca90-9a9cba666c62"
      },
      "execution_count": 6,
      "outputs": [
        {
          "output_type": "stream",
          "name": "stdout",
          "text": [
            "data\n"
          ]
        }
      ]
    },
    {
      "cell_type": "markdown",
      "source": [
        "5.In the regex which created from the r&#39;(\\d\\d\\d)-(\\d\\d\\d-\\d\\d\\d\\d)&#39;, what does group zero cover?\n",
        "Group 2? Group 1?"
      ],
      "metadata": {
        "id": "zYBj7-QQeJIZ"
      }
    },
    {
      "cell_type": "markdown",
      "source": [
        "Ans: Group 0 cover entire part, group 1 course first group, group 2 cover second group"
      ],
      "metadata": {
        "id": "tP4Hh_tneNAh"
      }
    },
    {
      "cell_type": "code",
      "source": [
        "import re\n",
        "NumRegex = re.compile(r'(\\d\\d\\d)-(\\d\\d\\d-\\d\\d\\d\\d)')\n",
        "s = NumRegex.search('number is 111-555-2222.')\n",
        "print(s.groups()) # Prints all groups in a tuple format\n",
        "print(s.group()) # Always returns the fully matched string \n",
        "print(s.group(1)) # Returns the first group\n",
        "print(s.group(2)) # Returns the second group"
      ],
      "metadata": {
        "colab": {
          "base_uri": "https://localhost:8080/"
        },
        "id": "3HpWnXZImfpa",
        "outputId": "ff9bf3bf-dde6-4c3b-f6d1-5777b19b2b87"
      },
      "execution_count": 7,
      "outputs": [
        {
          "output_type": "stream",
          "name": "stdout",
          "text": [
            "('111', '555-2222')\n",
            "111-555-2222\n",
            "111\n",
            "555-2222\n"
          ]
        }
      ]
    },
    {
      "cell_type": "markdown",
      "source": [
        "6.In standard expression syntax, parentheses and intervals have distinct meanings. How can you tell\n",
        "a regex that you want it to fit real parentheses and periods?"
      ],
      "metadata": {
        "id": "-CCFT26oeOKu"
      }
    },
    {
      "cell_type": "code",
      "source": [
        "import re\n",
        "NumRegex = re.compile(r'(\\(\\d\\d\\d\\)) (\\d\\d\\d-\\d\\d\\d\\d)')\n",
        "s = NumRegex.search('number is (111) 555-2222.')\n",
        "print(s.group()) "
      ],
      "metadata": {
        "colab": {
          "base_uri": "https://localhost:8080/"
        },
        "id": "AgkEif7s6m_i",
        "outputId": "01eec140-b0b9-48bd-eca4-677de66de03a"
      },
      "execution_count": 11,
      "outputs": [
        {
          "output_type": "stream",
          "name": "stdout",
          "text": [
            "(111) 555-2222\n"
          ]
        }
      ]
    },
    {
      "cell_type": "markdown",
      "source": [
        "7.The findall() method returns a string list or a list of string tuples. What causes it to return one of\n",
        "the two options?"
      ],
      "metadata": {
        "id": "KWGnlHcYeSZX"
      }
    },
    {
      "cell_type": "markdown",
      "source": [
        "Ans: If the regex pattern has no groups, a list of strings matched is returned. if the regex pattern has groups, a list of tuple of strings is returned."
      ],
      "metadata": {
        "id": "3yZnMtRPeVpX"
      }
    },
    {
      "cell_type": "code",
      "source": [
        "import re\n",
        "NumRegex = re.compile(r'(\\(\\d\\d\\d\\)) (\\d\\d\\d-\\d\\d\\d\\d)')\n",
        "s = NumRegex.findall('number is (111) 555-2222.')\n",
        "print(s)\n",
        "\n",
        "import re\n",
        "NumRegex = re.compile(r'\\d{3}-\\d{3}-\\d{3}')\n",
        "s = NumRegex.findall('number is 111-555-2222.')\n",
        "print(s) # Prints all groups in a tuple format"
      ],
      "metadata": {
        "colab": {
          "base_uri": "https://localhost:8080/"
        },
        "id": "Q3PQGpJO8PNy",
        "outputId": "1315f151-e762-4791-ec42-b9fff35e0523"
      },
      "execution_count": 14,
      "outputs": [
        {
          "output_type": "stream",
          "name": "stdout",
          "text": [
            "[('(111)', '555-2222')]\n",
            "['111-555-222']\n"
          ]
        }
      ]
    },
    {
      "cell_type": "markdown",
      "source": [
        "8.In standard expressions, what does the | character mean?"
      ],
      "metadata": {
        "id": "K37rqnk7eWaY"
      }
    },
    {
      "cell_type": "markdown",
      "source": [
        "Ans: In Standard Expressions | means OR operator."
      ],
      "metadata": {
        "id": "Jw8qaeLEeY7G"
      }
    },
    {
      "cell_type": "markdown",
      "source": [
        "9.In regular expressions, what does the ? character stand for?"
      ],
      "metadata": {
        "id": "gpVfjxoAeZw3"
      }
    },
    {
      "cell_type": "markdown",
      "source": [
        "Ans: ? characters represents zero or one match of the preceeding group."
      ],
      "metadata": {
        "id": "tnFMcTjOecWM"
      }
    },
    {
      "cell_type": "code",
      "source": [
        "import re\n",
        "s = re.search('ab?c',\"acb\")\n",
        "print(s)"
      ],
      "metadata": {
        "colab": {
          "base_uri": "https://localhost:8080/"
        },
        "id": "H0beaZBp-AJn",
        "outputId": "44d9312a-9448-4fc0-9975-61ad092b8291"
      },
      "execution_count": 27,
      "outputs": [
        {
          "output_type": "stream",
          "name": "stdout",
          "text": [
            "<re.Match object; span=(0, 2), match='ac'>\n"
          ]
        }
      ]
    },
    {
      "cell_type": "markdown",
      "source": [
        "10.In regular expressions, what is the difference between the + and * characters?"
      ],
      "metadata": {
        "id": "Xkeo7H7sedPp"
      }
    },
    {
      "cell_type": "markdown",
      "source": [
        "Ans: * Represents Zero ore more occurances of the preceeding group, whereas + represents one or more occurances of the preceeding group."
      ],
      "metadata": {
        "id": "ILNBm0SdefWU"
      }
    },
    {
      "cell_type": "code",
      "source": [
        "import re\n",
        "s = re.search('ab*',\"ab cd\")\n",
        "print(s)\n",
        "d = re.search('n+',\"ab cd\")\n",
        "print(d)"
      ],
      "metadata": {
        "colab": {
          "base_uri": "https://localhost:8080/"
        },
        "id": "w1t75uYIJG51",
        "outputId": "a2b9b19d-3522-4fdf-9eec-fd0d69a4a55c"
      },
      "execution_count": 32,
      "outputs": [
        {
          "output_type": "stream",
          "name": "stdout",
          "text": [
            "<re.Match object; span=(0, 2), match='ab'>\n",
            "None\n"
          ]
        }
      ]
    },
    {
      "cell_type": "markdown",
      "source": [
        "11.What is the difference between {4} and {4,5} in regular expression?"
      ],
      "metadata": {
        "id": "p7OPyv77egW-"
      }
    },
    {
      "cell_type": "markdown",
      "source": [
        "Ans: {4} means that its preceeding group should repeat 4 times. where as {4,5} means that its preceeding group should repeat mininum 4 times and maximum 5 times inclusively"
      ],
      "metadata": {
        "id": "puNOHxzaei2c"
      }
    },
    {
      "cell_type": "code",
      "source": [
        "import re\n",
        "s = re.compile(r'(data){2}')\n",
        "f = s.search(\"datadata\")\n",
        "print(f.group())"
      ],
      "metadata": {
        "colab": {
          "base_uri": "https://localhost:8080/"
        },
        "id": "lBOw8_7_KlaX",
        "outputId": "c0bdfa96-b4b8-4a03-b9f5-dd408dbf2984"
      },
      "execution_count": 38,
      "outputs": [
        {
          "output_type": "stream",
          "name": "stdout",
          "text": [
            "datadata\n"
          ]
        }
      ]
    },
    {
      "cell_type": "markdown",
      "source": [
        "12.What do you mean by the \\d, \\w, and \\s shorthand character classes signify in regular\n",
        "expressions?"
      ],
      "metadata": {
        "id": "vz_LqXNDekau"
      }
    },
    {
      "cell_type": "markdown",
      "source": [
        "Ans:\n",
        "\n",
        "\\w – Matches a word character equivalent to [a-zA-Z0-9_]\n",
        "\n",
        "\\d – Matches digit character equivalent to [0-9]\n",
        "\n",
        "\\s – Matches whitespace character (space, tab, newline, etc.)"
      ],
      "metadata": {
        "id": "jtKoXuwOenCw"
      }
    },
    {
      "cell_type": "markdown",
      "source": [
        "13.What do means by \\D, \\W, and \\S shorthand character classes signify in regular expressions?"
      ],
      "metadata": {
        "id": "-zdYqvadenuN"
      }
    },
    {
      "cell_type": "markdown",
      "source": [
        "Ans:\n",
        "\n",
        "\\W – Matches any non-alphanumeric character equivalent to [^a-zA-Z0-9_]\n",
        "\n",
        "\\D – Matches any non-digit character, this is equivalent to the set class [^0-9]\n",
        "\n",
        "\\S – Matches any non-whitespace character"
      ],
      "metadata": {
        "id": "uPehcbWWfkeI"
      }
    },
    {
      "cell_type": "markdown",
      "source": [
        "14.What is the difference between .\\*? and .*"
      ],
      "metadata": {
        "id": "w6lcSRM6eqrv"
      }
    },
    {
      "cell_type": "markdown",
      "source": [
        "Ans: .* is a Greedy mode, which returns the longest string that meets the condition. Whereas .*? is a non greedy mode which returns the shortest string that meets the condition."
      ],
      "metadata": {
        "id": "hFMLNRZxfmZ5"
      }
    },
    {
      "cell_type": "markdown",
      "source": [
        "15.What is the syntax for matching both numbers and lowercase letters with a character class?"
      ],
      "metadata": {
        "id": "aYVRNUM8etOe"
      }
    },
    {
      "cell_type": "code",
      "source": [
        "import re\n",
        "s = re.compile('^[a-z0-9]*$')\n",
        "d = s.search('data1223')\n",
        "print(d)"
      ],
      "metadata": {
        "colab": {
          "base_uri": "https://localhost:8080/"
        },
        "id": "hqsH-YUuP11D",
        "outputId": "7d1a1a5d-d99c-46aa-b093-9060398da291"
      },
      "execution_count": 45,
      "outputs": [
        {
          "output_type": "stream",
          "name": "stdout",
          "text": [
            "<re.Match object; span=(0, 8), match='data1223'>\n"
          ]
        }
      ]
    },
    {
      "cell_type": "markdown",
      "source": [
        "16.What is the procedure for making a normal expression in regax case insensitive?"
      ],
      "metadata": {
        "id": "PvCojPmHev1H"
      }
    },
    {
      "cell_type": "markdown",
      "source": [
        "Ans: use re.IGNORECASE"
      ],
      "metadata": {
        "id": "GsQdgyldfqFy"
      }
    },
    {
      "cell_type": "code",
      "source": [
        "re.search('test', 'TeSt', flags=re.IGNORECASE)"
      ],
      "metadata": {
        "colab": {
          "base_uri": "https://localhost:8080/"
        },
        "id": "tGz446hCQwdJ",
        "outputId": "787c77a6-3c46-4389-cd33-3e7aa06cc4a3"
      },
      "execution_count": 47,
      "outputs": [
        {
          "output_type": "execute_result",
          "data": {
            "text/plain": [
              "<re.Match object; span=(0, 4), match='TeSt'>"
            ]
          },
          "metadata": {},
          "execution_count": 47
        }
      ]
    },
    {
      "cell_type": "markdown",
      "source": [
        "17.What does the . character normally match? What does it match if re.DOTALL is passed as 2nd\n",
        "argument in re.compile()?"
      ],
      "metadata": {
        "id": "xf75TNl6ezFV"
      }
    },
    {
      "cell_type": "markdown",
      "source": [
        "Ans: (Dot.) In the default mode, this matches any character except a newline. If the DOTALL flag has been specified, this matches any character including a newline."
      ],
      "metadata": {
        "id": "cEgm_uaKfrZE"
      }
    },
    {
      "cell_type": "markdown",
      "source": [
        "18.If numReg = re.compile(r&#39;\\d+&#39;), what will numRegex.sub(&#39;X&#39;, &#39;11 drummers, 10 pipers, five rings, 4\n",
        "hen&#39;) return?"
      ],
      "metadata": {
        "id": "GzDpFXIbe2OH"
      }
    },
    {
      "cell_type": "code",
      "source": [
        "import re\n",
        "numReg = re.compile(r'\\d+')\n",
        "numReg.sub('X', '11 drummers, 10 pipers, five rings, 4 hen')"
      ],
      "metadata": {
        "colab": {
          "base_uri": "https://localhost:8080/",
          "height": 35
        },
        "id": "dVRLIH4YSGxV",
        "outputId": "d7edd040-f22c-4a32-e4f0-990afcf3a966"
      },
      "execution_count": 49,
      "outputs": [
        {
          "output_type": "execute_result",
          "data": {
            "text/plain": [
              "'X drummers, X pipers, five rings, X hen'"
            ],
            "application/vnd.google.colaboratory.intrinsic+json": {
              "type": "string"
            }
          },
          "metadata": {},
          "execution_count": 49
        }
      ]
    },
    {
      "cell_type": "markdown",
      "source": [
        "19.What does passing re.VERBOSE as the 2nd argument to re.compile() allow to do?"
      ],
      "metadata": {
        "id": "-TqvxOWWe5RO"
      }
    },
    {
      "cell_type": "markdown",
      "source": [
        "Ans: This flag allows you to write regular expressions that look nicer and are more readable by allowing you to visually separate logical sections of the pattern and add comments."
      ],
      "metadata": {
        "id": "e3MD1H_GfuoU"
      }
    },
    {
      "cell_type": "code",
      "source": [
        "regex_email = re.compile(r\"\"\"\n",
        "            ^([a-z0-9_\\.-]+)              # local Part\n",
        "            @                             # single @ sign\n",
        "            ([0-9a-z\\.-]+)                # Domain name\n",
        "            \\.                            # single Dot .\n",
        "            ([a-z]{2,6})$                 # Top level Domain  \n",
        "             \"\"\",re.VERBOSE | re.IGNORECASE)  "
      ],
      "metadata": {
        "id": "GOwBUXK5aH6i"
      },
      "execution_count": 50,
      "outputs": []
    },
    {
      "cell_type": "markdown",
      "source": [
        "20.How would you write a regex that match a number with comma for every three digits? It must\n",
        "match the given following:\n",
        "&#39;42&#39;\n",
        "&#39;1,234&#39;\n",
        "&#39;6,368,745&#39;\n",
        "\n",
        "but not the following:\n",
        "&#39;12,34,567&#39; (which has only two digits between the commas)\n",
        "&#39;1234&#39; (which lacks commas)"
      ],
      "metadata": {
        "id": "DlUmNgHZe8sq"
      }
    },
    {
      "cell_type": "code",
      "source": [
        "import re\n",
        "numReg = re.compile(r'^\\d{1,3}(,\\d{3})*$')\n",
        "for i in ['42','1,234', '6,368,745','12,34,567','1234']:\n",
        "  print(numReg.search(i))"
      ],
      "metadata": {
        "colab": {
          "base_uri": "https://localhost:8080/"
        },
        "id": "XubKhwsOaZNG",
        "outputId": "466fe166-f518-4d03-b793-26f188a59061"
      },
      "execution_count": 52,
      "outputs": [
        {
          "output_type": "stream",
          "name": "stdout",
          "text": [
            "<re.Match object; span=(0, 2), match='42'>\n",
            "<re.Match object; span=(0, 5), match='1,234'>\n",
            "<re.Match object; span=(0, 9), match='6,368,745'>\n",
            "None\n",
            "None\n"
          ]
        }
      ]
    },
    {
      "cell_type": "markdown",
      "source": [
        "21.How would you write a regex that matches the full name of someone whose last name is\n",
        "Watanabe? You can assume that the first name that comes before it will always be one word that\n",
        "begins with a capital letter. The regex must match the following:\n",
        "&#39;Haruto Watanabe&#39;\n",
        "\n",
        "&#39;Alice Watanabe&#39;\n",
        "\n",
        "&#39;RoboCop Watanabe&#39;\n",
        "\n",
        "but not the following:\n",
        "\n",
        "&#39;haruto Watanabe&#39; (where the first name is not capitalized)\n",
        "\n",
        "&#39;Mr. Watanabe&#39; (where the preceding word has a nonletter character)\n",
        "\n",
        "&#39;Watanabe&#39; (which has no first name)\n",
        "\n",
        "&#39;Haruto watanabe&#39; (where Watanabe is not capitalized)"
      ],
      "metadata": {
        "id": "et4UDjtze_o6"
      }
    },
    {
      "cell_type": "code",
      "source": [
        "import re\n",
        "numReg = re.compile(r'[A-Z]{1}[a-z]*\\sWatanabe')\n",
        "for name in ['Haruto Watanabe','Alice Watanabe','RoboCop Watanabe','haruto Watanabe','Mr. Watanabe','Watanabe','Haruto watanabe']:\n",
        "  print(numReg.search(name))"
      ],
      "metadata": {
        "colab": {
          "base_uri": "https://localhost:8080/"
        },
        "id": "Lg356bLnbxbB",
        "outputId": "2380d5e1-6cf7-4f3c-edfb-e854f2d1aafb"
      },
      "execution_count": 54,
      "outputs": [
        {
          "output_type": "stream",
          "name": "stdout",
          "text": [
            "<re.Match object; span=(0, 15), match='Haruto Watanabe'>\n",
            "<re.Match object; span=(0, 14), match='Alice Watanabe'>\n",
            "<re.Match object; span=(4, 16), match='Cop Watanabe'>\n",
            "None\n",
            "None\n",
            "None\n",
            "None\n"
          ]
        }
      ]
    },
    {
      "cell_type": "markdown",
      "source": [
        "22.How would you write a regex that matches a sentence where the first word is either Alice, Bob,\n",
        "or Carol; the second word is either eats, pets, or throws; the third word is apples, cats, or baseballs;\n",
        "and the sentence ends with a period? This regex should be case-insensitive. It must match the\n",
        "following:\n",
        "\n",
        "&#39;Alice eats apples.&#39;\n",
        "\n",
        "&#39;Bob pets cats.&#39;\n",
        "\n",
        "&#39;Carol throws baseballs.&#39;\n",
        "\n",
        "&#39;Alice throws Apples.&#39;\n",
        "\n",
        "&#39;BOB EATS CATS.&#39;\n",
        "\n",
        "but not the following:\n",
        "\n",
        "&#39;RoboCop eats apples.&#39;\n",
        "\n",
        "&#39;ALICE THROWS FOOTBALLS.&#39;\n",
        "\n",
        "&#39;Carol eats 7 cats.&#39;"
      ],
      "metadata": {
        "id": "Ud_Sj9SpfLFH"
      }
    },
    {
      "cell_type": "code",
      "source": [
        "import re\n",
        "reg = re.compile(r'(Alice|Bob|Carol)\\s(eats|pets|throws)\\s(apples|cats|baseballs)\\.')\n",
        "for ele in ['Alice eats apples.','Bob pets cats.','Carol throws baseballs.','Alice throws Apples.','BOB EATS CATS.','RoboCop eats apples.'\n",
        ",'ALICE THROWS FOOTBALLS.','Carol eats 7 cats.']:\n",
        "    print(reg.search(ele))"
      ],
      "metadata": {
        "colab": {
          "base_uri": "https://localhost:8080/"
        },
        "id": "LDmEMGokcpKP",
        "outputId": "20ec4f8f-7c20-47e3-a53e-84c35aa80dd0"
      },
      "execution_count": 55,
      "outputs": [
        {
          "output_type": "stream",
          "name": "stdout",
          "text": [
            "<re.Match object; span=(0, 18), match='Alice eats apples.'>\n",
            "<re.Match object; span=(0, 14), match='Bob pets cats.'>\n",
            "<re.Match object; span=(0, 23), match='Carol throws baseballs.'>\n",
            "None\n",
            "None\n",
            "None\n",
            "None\n",
            "None\n"
          ]
        }
      ]
    }
  ]
}