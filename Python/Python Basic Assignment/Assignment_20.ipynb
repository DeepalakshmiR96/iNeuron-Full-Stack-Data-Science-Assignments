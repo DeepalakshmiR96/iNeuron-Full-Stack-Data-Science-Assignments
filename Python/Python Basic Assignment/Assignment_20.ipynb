{
  "nbformat": 4,
  "nbformat_minor": 0,
  "metadata": {
    "colab": {
      "name": "Assignment_20.ipynb",
      "provenance": []
    },
    "kernelspec": {
      "name": "python3",
      "display_name": "Python 3"
    },
    "language_info": {
      "name": "python"
    }
  },
  "cells": [
    {
      "cell_type": "markdown",
      "source": [
        "**Assignment - 20**"
      ],
      "metadata": {
        "id": "N4pThm60UP03"
      }
    },
    {
      "cell_type": "markdown",
      "source": [
        "1.Set the variable test1 to the string &#39;This is a test of the emergency text system,&#39; and save test1 to a\n",
        "file named test.txt."
      ],
      "metadata": {
        "id": "xuGuZxmQUUkB"
      }
    },
    {
      "cell_type": "code",
      "source": [
        "test1 = 'This is a test of the emergency text system'\n",
        "f = open('test.text','w+')\n",
        "f.write(test1)\n",
        "f.close()"
      ],
      "metadata": {
        "id": "4jNk6QUNcPCh"
      },
      "execution_count": null,
      "outputs": []
    },
    {
      "cell_type": "markdown",
      "source": [
        "2.Read the contents of the file test.txt into the variable test2. Is there a difference between test 1\n",
        "and test 2?"
      ],
      "metadata": {
        "id": "7RrgSUnAbGdd"
      }
    },
    {
      "cell_type": "code",
      "source": [
        "test2 = open('test.text','r')\n",
        "test2 = test2.read()\n",
        "print(test2)\n",
        "print(test1 == test2)"
      ],
      "metadata": {
        "colab": {
          "base_uri": "https://localhost:8080/"
        },
        "id": "dLB07QdXccIv",
        "outputId": "a2b19ecf-92c5-40a0-99ea-9abd11584810"
      },
      "execution_count": null,
      "outputs": [
        {
          "output_type": "stream",
          "name": "stdout",
          "text": [
            "This is a test of the emergency text system\n",
            "True\n"
          ]
        }
      ]
    },
    {
      "cell_type": "markdown",
      "source": [
        "3.Create a CSV file called books.csv by using these lines:\n",
        "title,author,year\n",
        "The Weirdstone of Brisingamen,Alan Garner,1960\n",
        "Perdido Street Station,China Miéville,2000\n",
        "Thud!,Terry Pratchett,2005\n",
        "The Spellman Files,Lisa Lutz,2007\n",
        "Small Gods,Terry Pratchett,1992"
      ],
      "metadata": {
        "id": "i8OPy6hrbLbv"
      }
    },
    {
      "cell_type": "code",
      "source": [
        "import csv\n",
        "header = [\"title\",\"author\",\"year\"]\n",
        "data = [\n",
        "    [\"The Weirdstone of Brisingamen\",\"Alan Garner\",\"1960\"],\n",
        "    [\"Perdido Street Station\",\"China Miéville\",\"2000\"],\n",
        "    [\"Thud!\",\"Terry Pratchett\",\"2005\"],\n",
        "    [\"The Spellman Files\",\"Lisa Lutz\",\"2007\"],\n",
        "    [\"Small Gods\",\"Terry Pratchett\",\"1992\"]\n",
        "]\n",
        "f = open('books.csv', 'w+')\n",
        "c = csv.writer(f, )\n",
        "c.writerow(header)\n",
        "c.writerows(data)\n",
        "f.close()"
      ],
      "metadata": {
        "id": "TbO_sdu0dcns"
      },
      "execution_count": 4,
      "outputs": []
    },
    {
      "cell_type": "markdown",
      "source": [
        "4.Use the sqlite3 module to create a SQLite database called books.db, and a table called books with\n",
        "these fields: title (text), author (text), and year (integer)."
      ],
      "metadata": {
        "id": "b58_pRcAbQ1z"
      }
    },
    {
      "cell_type": "code",
      "source": [
        "import sqlite3\n",
        "con = sqlite3.connect('books.db')\n",
        "csr = con.cursor()\n",
        "csr.execute(\"CREATE TABLE books (title text, author text, year int)\")\n",
        "con.commit()\n",
        "con.close()"
      ],
      "metadata": {
        "id": "2L1KW6IhizdA"
      },
      "execution_count": 2,
      "outputs": []
    },
    {
      "cell_type": "markdown",
      "source": [
        "5.Read books.csv and insert its data into the book table."
      ],
      "metadata": {
        "id": "P2l6tcJabZxJ"
      }
    },
    {
      "cell_type": "code",
      "source": [
        "import csv\n",
        "import sqlite3\n",
        "con = sqlite3.connect('books.db')\n",
        "csr = con.cursor()\n",
        "file = open('books.csv','r')\n",
        "for book in csv.DictReader(file):\n",
        "  csr.execute('INSERT INTO books VALUES (?,?,?)',(book[\"title\"],book['author'],book['year']))\n",
        "con.commit()\n",
        "con.close()"
      ],
      "metadata": {
        "id": "_kGCqz-klK_p"
      },
      "execution_count": 5,
      "outputs": []
    },
    {
      "cell_type": "markdown",
      "source": [
        "6.Select and print the title column from the book table in alphabetical order."
      ],
      "metadata": {
        "id": "nXbZe9Qwbgn2"
      }
    },
    {
      "cell_type": "code",
      "source": [
        "import csv\n",
        "import sqlite3\n",
        "con = sqlite3.connect('books.db')\n",
        "csr = con.cursor()\n",
        "op = csr.execute(\"SELECT title FROM books ORDER BY title ASC\")\n",
        "for i in op:\n",
        "  print(i[0])\n",
        "con.commit()\n",
        "con.close()"
      ],
      "metadata": {
        "colab": {
          "base_uri": "https://localhost:8080/"
        },
        "id": "kpdF_l91qyNc",
        "outputId": "2871a13e-1689-494a-af77-a1472320322d"
      },
      "execution_count": 6,
      "outputs": [
        {
          "output_type": "stream",
          "name": "stdout",
          "text": [
            "Perdido Street Station\n",
            "Small Gods\n",
            "The Spellman Files\n",
            "The Weirdstone of Brisingamen\n",
            "Thud!\n"
          ]
        }
      ]
    },
    {
      "cell_type": "markdown",
      "source": [
        "7.From the book table, select and print all columns in the order of publication."
      ],
      "metadata": {
        "id": "zrmO8O5gbm_y"
      }
    },
    {
      "cell_type": "code",
      "source": [
        "import csv\n",
        "import sqlite3\n",
        "con = sqlite3.connect('books.db')\n",
        "csr = con.cursor()\n",
        "op = csr.execute(\"SELECT * FROM books ORDER BY year ASC\")\n",
        "for i in op:\n",
        "  print(i)\n",
        "con.commit()\n",
        "con.close()"
      ],
      "metadata": {
        "colab": {
          "base_uri": "https://localhost:8080/"
        },
        "id": "XcsprDs7BaI4",
        "outputId": "a2a3de6b-e09f-41e0-c705-45f36a269f0e"
      },
      "execution_count": 8,
      "outputs": [
        {
          "output_type": "stream",
          "name": "stdout",
          "text": [
            "('The Weirdstone of Brisingamen', 'Alan Garner', 1960)\n",
            "('Small Gods', 'Terry Pratchett', 1992)\n",
            "('Perdido Street Station', 'China Miéville', 2000)\n",
            "('Thud!', 'Terry Pratchett', 2005)\n",
            "('The Spellman Files', 'Lisa Lutz', 2007)\n"
          ]
        }
      ]
    },
    {
      "cell_type": "markdown",
      "source": [
        "8.Use the sqlalchemy module to connect to the sqlite3 database books.db that you just made in\n",
        "exercise 6."
      ],
      "metadata": {
        "id": "1jzAITUUbr1m"
      }
    },
    {
      "cell_type": "code",
      "source": [
        "import sqlalchemy as db\n",
        "engine = db.create_engine('sqlite:///books.sqlite')\n",
        "engine"
      ],
      "metadata": {
        "colab": {
          "base_uri": "https://localhost:8080/"
        },
        "id": "NiN8mXApIcBh",
        "outputId": "ad65fe5a-d0c0-4151-db33-a33bdfe45c2d"
      },
      "execution_count": 11,
      "outputs": [
        {
          "output_type": "execute_result",
          "data": {
            "text/plain": [
              "Engine(sqlite:///books.sqlite)"
            ]
          },
          "metadata": {},
          "execution_count": 11
        }
      ]
    },
    {
      "cell_type": "markdown",
      "source": [
        "9.Install the Redis server and the Python redis library (pip install redis) on your computer. Create a\n",
        "Redis hash called test with the fields count (1) and name (&#39;Fester Bestertester&#39;). Print all the fields for\n",
        "test."
      ],
      "metadata": {
        "id": "VWz_3uY0bw4a"
      }
    },
    {
      "cell_type": "code",
      "source": [
        "!pip install redis"
      ],
      "metadata": {
        "colab": {
          "base_uri": "https://localhost:8080/"
        },
        "id": "vUjTKH2ZNJyp",
        "outputId": "98576848-da94-4a42-82fa-d4f1db52561b"
      },
      "execution_count": 26,
      "outputs": [
        {
          "output_type": "stream",
          "name": "stdout",
          "text": [
            "Requirement already satisfied: redis in /usr/local/lib/python3.7/dist-packages (4.2.2)\n",
            "Requirement already satisfied: importlib-metadata>=1.0 in /usr/local/lib/python3.7/dist-packages (from redis) (4.11.3)\n",
            "Requirement already satisfied: deprecated>=1.2.3 in /usr/local/lib/python3.7/dist-packages (from redis) (1.2.13)\n",
            "Requirement already satisfied: typing-extensions in /usr/local/lib/python3.7/dist-packages (from redis) (4.2.0)\n",
            "Requirement already satisfied: packaging>=20.4 in /usr/local/lib/python3.7/dist-packages (from redis) (21.3)\n",
            "Requirement already satisfied: async-timeout>=4.0.2 in /usr/local/lib/python3.7/dist-packages (from redis) (4.0.2)\n",
            "Requirement already satisfied: wrapt<2,>=1.10 in /usr/local/lib/python3.7/dist-packages (from deprecated>=1.2.3->redis) (1.14.0)\n",
            "Requirement already satisfied: zipp>=0.5 in /usr/local/lib/python3.7/dist-packages (from importlib-metadata>=1.0->redis) (3.8.0)\n",
            "Requirement already satisfied: pyparsing!=3.0.5,>=2.0.2 in /usr/local/lib/python3.7/dist-packages (from packaging>=20.4->redis) (3.0.8)\n"
          ]
        }
      ]
    },
    {
      "cell_type": "code",
      "source": [
        "import redis\n",
        "r = redis.Redis()\n",
        "r.hset('test',{\n",
        "    'count':1,\n",
        "    'name': 'Fester Bestertester'\n",
        "})\n",
        "r.hgetall('test')"
      ],
      "metadata": {
        "id": "cHJ3FkUjNULt"
      },
      "execution_count": null,
      "outputs": []
    },
    {
      "cell_type": "markdown",
      "source": [
        "10.Increment the count field of test and print it."
      ],
      "metadata": {
        "id": "XtTZQ0_kb1Ub"
      }
    },
    {
      "cell_type": "code",
      "source": [
        "r = r.hincrby('test','count',1)\n",
        "print(r.hget('test','count'))"
      ],
      "metadata": {
        "id": "Vf8WP4W0R6fY"
      },
      "execution_count": null,
      "outputs": []
    }
  ]
}