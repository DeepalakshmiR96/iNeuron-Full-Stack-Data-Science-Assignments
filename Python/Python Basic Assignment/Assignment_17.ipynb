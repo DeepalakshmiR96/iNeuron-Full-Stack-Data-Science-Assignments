{
  "nbformat": 4,
  "nbformat_minor": 0,
  "metadata": {
    "colab": {
      "name": "Assignment_17.ipynb",
      "provenance": []
    },
    "kernelspec": {
      "name": "python3",
      "display_name": "Python 3"
    },
    "language_info": {
      "name": "python"
    }
  },
  "cells": [
    {
      "cell_type": "markdown",
      "source": [
        "**Assignment - 17**"
      ],
      "metadata": {
        "id": "nq3FYAeI_pCQ"
      }
    },
    {
      "cell_type": "markdown",
      "source": [
        "1.Assign the value 7 to the variable guess_me. Then, write the conditional tests (if, else, and elif) to\n",
        "print the string &#39;too low&#39; if guess_me is less than 7, &#39;too high&#39; if greater than 7, and &#39;just right&#39; if equal\n",
        "to 7."
      ],
      "metadata": {
        "id": "lFQwLOHb_sYD"
      }
    },
    {
      "cell_type": "code",
      "source": [
        "def guess(guess_me):\n",
        "  if guess_me < 7:\n",
        "    print('too low')\n",
        "  elif guess_me > 7:\n",
        "    print('too low')\n",
        "  else: \n",
        "    print('just right')\n",
        "\n",
        "guess_me = 7\n",
        "guess(guess_me)"
      ],
      "metadata": {
        "colab": {
          "base_uri": "https://localhost:8080/"
        },
        "id": "VHi2d3AnAWX5",
        "outputId": "915c2db6-66fc-4d1e-c7aa-749c88d07d4d"
      },
      "execution_count": 3,
      "outputs": [
        {
          "output_type": "stream",
          "name": "stdout",
          "text": [
            "just right\n"
          ]
        }
      ]
    },
    {
      "cell_type": "markdown",
      "source": [
        "2.Assign the value 7 to the variable guess_me and the value 1 to the variable start. Write a while\n",
        "loop that compares start with guess_me. Print too low if start is less than guess me. If start equals\n",
        "guess_me, print &#39;found it!&#39; and exit the loop. If start is greater than guess_me, print &#39;oops&#39; and exit\n",
        "the loop. Increment start at the end of the loop."
      ],
      "metadata": {
        "id": "Q8ZKOgHA_vzg"
      }
    },
    {
      "cell_type": "code",
      "source": [
        "def check(guess_me, start):\n",
        "  while True:\n",
        "    if start < guess_me:\n",
        "      print('too low')\n",
        "    elif guess_me == start:\n",
        "      print('found it!')\n",
        "      break\n",
        "    else:\n",
        "      print('oops')\n",
        "      break\n",
        "    start += 1\n",
        "\n",
        "guess_me = 7\n",
        "start = 1\n",
        "check(guess_me, start)"
      ],
      "metadata": {
        "colab": {
          "base_uri": "https://localhost:8080/"
        },
        "id": "3WAQZe39CvJm",
        "outputId": "3ea8d99f-5949-41fb-ba8f-4dbaa23f39b8"
      },
      "execution_count": 6,
      "outputs": [
        {
          "output_type": "stream",
          "name": "stdout",
          "text": [
            "too low\n",
            "too low\n",
            "too low\n",
            "too low\n",
            "too low\n",
            "too low\n",
            "found it!\n"
          ]
        }
      ]
    },
    {
      "cell_type": "markdown",
      "source": [
        "3.Print the following values of the list [3, 2, 1, 0] using a for loop."
      ],
      "metadata": {
        "id": "OH0GVDDR_yQG"
      }
    },
    {
      "cell_type": "code",
      "source": [
        "l = [3,2,1,0]\n",
        "for i in l:\n",
        "  print(i)"
      ],
      "metadata": {
        "colab": {
          "base_uri": "https://localhost:8080/"
        },
        "id": "4Nc2TA2wEZck",
        "outputId": "858b44da-cb57-43cc-9b2c-cd9b942ab705"
      },
      "execution_count": 8,
      "outputs": [
        {
          "output_type": "stream",
          "name": "stdout",
          "text": [
            "3\n",
            "2\n",
            "1\n",
            "0\n"
          ]
        }
      ]
    },
    {
      "cell_type": "markdown",
      "source": [
        "4.Use a list comprehension to make a list of the even numbers in range(10)"
      ],
      "metadata": {
        "id": "7FBpHgNQ_0tc"
      }
    },
    {
      "cell_type": "code",
      "source": [
        "even = [i for i in range(10) if i%2 ==0]\n",
        "even"
      ],
      "metadata": {
        "colab": {
          "base_uri": "https://localhost:8080/"
        },
        "id": "paLCeU4cFl8o",
        "outputId": "98c5c4b2-75f3-4445-a90e-72d3d3c9b930"
      },
      "execution_count": 9,
      "outputs": [
        {
          "output_type": "execute_result",
          "data": {
            "text/plain": [
              "[0, 2, 4, 6, 8]"
            ]
          },
          "metadata": {},
          "execution_count": 9
        }
      ]
    },
    {
      "cell_type": "markdown",
      "source": [
        "5.Use a dictionary comprehension to create the dictionary squares. Use range(10) to return the\n",
        "keys, and use the square of each key as its value."
      ],
      "metadata": {
        "id": "dUbw2_wE_3D0"
      }
    },
    {
      "cell_type": "code",
      "source": [
        "sq = {i:i*2 for i in range(10)}\n",
        "sq"
      ],
      "metadata": {
        "colab": {
          "base_uri": "https://localhost:8080/"
        },
        "id": "nyKLUaWTF5qS",
        "outputId": "6cee9e57-fadd-4fa9-ac36-56a9d90745e6"
      },
      "execution_count": 10,
      "outputs": [
        {
          "output_type": "execute_result",
          "data": {
            "text/plain": [
              "{0: 0, 1: 2, 2: 4, 3: 6, 4: 8, 5: 10, 6: 12, 7: 14, 8: 16, 9: 18}"
            ]
          },
          "metadata": {},
          "execution_count": 10
        }
      ]
    },
    {
      "cell_type": "markdown",
      "source": [
        "6.Construct the set odd from the odd numbers in the range using a set comprehension (10)."
      ],
      "metadata": {
        "id": "pj1WIgy3_5qV"
      }
    },
    {
      "cell_type": "code",
      "source": [
        "set(i for i in range(10) if i%2 !=0)"
      ],
      "metadata": {
        "colab": {
          "base_uri": "https://localhost:8080/"
        },
        "id": "VRN4I4jWLlF3",
        "outputId": "f9cd3203-39eb-4b21-cb33-b0d23b920613"
      },
      "execution_count": 11,
      "outputs": [
        {
          "output_type": "execute_result",
          "data": {
            "text/plain": [
              "{1, 3, 5, 7, 9}"
            ]
          },
          "metadata": {},
          "execution_count": 11
        }
      ]
    },
    {
      "cell_type": "markdown",
      "source": [
        "7.Use a generator comprehension to return the string &#39;Got &#39; and a number for the numbers in\n",
        "range(10). Iterate through this by using a for loop."
      ],
      "metadata": {
        "id": "O1y3ulRV_8ho"
      }
    },
    {
      "cell_type": "code",
      "source": [
        "gen = ('Got'+str(i) for i in range(10))\n",
        "for i in gen:\n",
        "  print(i, end=' ')"
      ],
      "metadata": {
        "colab": {
          "base_uri": "https://localhost:8080/"
        },
        "id": "qsQuPNNgL2QX",
        "outputId": "45ea9f33-b00c-42ca-f6c0-f9fbcad6166d"
      },
      "execution_count": 14,
      "outputs": [
        {
          "output_type": "stream",
          "name": "stdout",
          "text": [
            "Got0 Got1 Got2 Got3 Got4 Got5 Got6 Got7 Got8 Got9 "
          ]
        }
      ]
    },
    {
      "cell_type": "markdown",
      "source": [
        "8.Define a function called good that returns the list [&#39;Harry&#39;, &#39;Ron&#39;, &#39;Hermione&#39;]."
      ],
      "metadata": {
        "id": "3M0qOq5E__TJ"
      }
    },
    {
      "cell_type": "code",
      "source": [
        "def good():\n",
        "  return ['Harry', 'Ron', 'Hermione']\n",
        "\n",
        "good()"
      ],
      "metadata": {
        "colab": {
          "base_uri": "https://localhost:8080/"
        },
        "id": "1K66KzMaMlWR",
        "outputId": "2bfe67b2-996f-40a8-86d7-6499956c31f3"
      },
      "execution_count": 16,
      "outputs": [
        {
          "output_type": "execute_result",
          "data": {
            "text/plain": [
              "['Harry', 'Ron', 'Hermione']"
            ]
          },
          "metadata": {},
          "execution_count": 16
        }
      ]
    },
    {
      "cell_type": "markdown",
      "source": [
        "9.Define a generator function called get_odds that returns the odd numbers from range(10). Use a\n",
        "for loop to find and print the third value returned."
      ],
      "metadata": {
        "id": "QwVkeRqOABpZ"
      }
    },
    {
      "cell_type": "code",
      "source": [
        "def get_odds():\n",
        "  return (i for i in range(10) if i%2 != 0)\n",
        "\n",
        "flag = 0\n",
        "for i in get_odds():\n",
        "  if flag == 2:\n",
        "    print(i)\n",
        "    break\n",
        "  flag += 1"
      ],
      "metadata": {
        "colab": {
          "base_uri": "https://localhost:8080/"
        },
        "id": "kzp_vXEKM2j3",
        "outputId": "344d03d1-16c2-411f-ccdf-1aaee64bcdf2"
      },
      "execution_count": 22,
      "outputs": [
        {
          "output_type": "stream",
          "name": "stdout",
          "text": [
            "5\n"
          ]
        }
      ]
    },
    {
      "cell_type": "markdown",
      "source": [
        "10.Define an exception called OopsException. Raise this exception to see what happens. Then write\n",
        "the code to catch this exception and print &#39;Caught an oops&#39;."
      ],
      "metadata": {
        "id": "EeSamEYPAEK3"
      }
    },
    {
      "cell_type": "code",
      "source": [
        "class OopsException(Exception):\n",
        "  pass\n",
        "\n",
        "def data(input):\n",
        "  try:\n",
        "    if input < 0:\n",
        "      raise OopsException(input)\n",
        "  except Exception as e:\n",
        "    print('Caught an oops')\n",
        "\n",
        "data(-1)\n",
        "   "
      ],
      "metadata": {
        "colab": {
          "base_uri": "https://localhost:8080/"
        },
        "id": "q_4OFxXUP3qw",
        "outputId": "87f1b1ab-71bb-460a-d83c-2b58ee959128"
      },
      "execution_count": 25,
      "outputs": [
        {
          "output_type": "stream",
          "name": "stdout",
          "text": [
            "Caught an oops\n"
          ]
        }
      ]
    },
    {
      "cell_type": "markdown",
      "source": [
        "11.Use zip() to make a dictionary called movies that pairs these lists: titles = [&#39;Creature of Habit&#39;,\n",
        "&#39;Crewel Fate&#39;] and plots = [&#39;A nun turns into a monster&#39;, &#39;A haunted yarn shop&#39;]."
      ],
      "metadata": {
        "id": "IjcHXL4FAG0w"
      }
    },
    {
      "cell_type": "code",
      "source": [
        "titles = ['Creature of Habit', 'Crewel Fate']\n",
        "plots = ['A nun turns into a monster', 'A haunted yarn shop']\n",
        "x = zip(titles, plots)\n",
        "print(dict(x))"
      ],
      "metadata": {
        "colab": {
          "base_uri": "https://localhost:8080/"
        },
        "id": "o109quEMRGWN",
        "outputId": "bfffebfe-fc6b-4fb2-e371-c43ff8ead922"
      },
      "execution_count": 28,
      "outputs": [
        {
          "output_type": "stream",
          "name": "stdout",
          "text": [
            "{'Creature of Habit': 'A nun turns into a monster', 'Crewel Fate': 'A haunted yarn shop'}\n"
          ]
        }
      ]
    }
  ]
}