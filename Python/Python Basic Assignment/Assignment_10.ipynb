{
  "nbformat": 4,
  "nbformat_minor": 0,
  "metadata": {
    "colab": {
      "name": "Assignment_10.ipynb",
      "provenance": []
    },
    "kernelspec": {
      "name": "python3",
      "display_name": "Python 3"
    },
    "language_info": {
      "name": "python"
    }
  },
  "cells": [
    {
      "cell_type": "markdown",
      "source": [
        "**Assignment - 10**"
      ],
      "metadata": {
        "id": "QORf-hsC-o1B"
      }
    },
    {
      "cell_type": "markdown",
      "source": [
        "1.How do you distinguish between shutil.copy() and shutil.copytree()?"
      ],
      "metadata": {
        "id": "ZxgjfiL8-r05"
      }
    },
    {
      "cell_type": "markdown",
      "source": [
        "Ans: While shutil. copy() will copy a single file, shutil. copytree() will copy an entire folder and every folder and file contained in it."
      ],
      "metadata": {
        "id": "FhS2yaNi-wvW"
      }
    },
    {
      "cell_type": "code",
      "source": [
        "import os, shutil\n",
        "shutil.copytree('sample_data','backup')"
      ],
      "metadata": {
        "colab": {
          "base_uri": "https://localhost:8080/",
          "height": 35
        },
        "id": "wXvup-eqvm7w",
        "outputId": "89c09ee5-f542-46c8-b2c5-d19e73450730"
      },
      "execution_count": null,
      "outputs": [
        {
          "output_type": "execute_result",
          "data": {
            "text/plain": [
              "'backup'"
            ],
            "application/vnd.google.colaboratory.intrinsic+json": {
              "type": "string"
            }
          },
          "metadata": {},
          "execution_count": 8
        }
      ]
    },
    {
      "cell_type": "code",
      "source": [
        "import os, shutil\n",
        "shutil.copy('sample_data/mnist_test.csv','backup')"
      ],
      "metadata": {
        "colab": {
          "base_uri": "https://localhost:8080/",
          "height": 35
        },
        "id": "93e5yn21xnQF",
        "outputId": "f319028f-e074-4b83-d6d1-eae72c2d874d"
      },
      "execution_count": null,
      "outputs": [
        {
          "output_type": "execute_result",
          "data": {
            "text/plain": [
              "'backup/mnist_test.csv'"
            ],
            "application/vnd.google.colaboratory.intrinsic+json": {
              "type": "string"
            }
          },
          "metadata": {},
          "execution_count": 13
        }
      ]
    },
    {
      "cell_type": "markdown",
      "source": [
        "2.What function is used to rename files??"
      ],
      "metadata": {
        "id": "SJhuzBbp-xfU"
      }
    },
    {
      "cell_type": "markdown",
      "source": [
        "Ans: os.rename() function is used to rename files or directories using a python program, this function takes two arguments src and dest, src represents the name file/directory which we want to rename, whereas dest represents the new name of the file/directory."
      ],
      "metadata": {
        "id": "Bd6HAm_S-0El"
      }
    },
    {
      "cell_type": "code",
      "source": [
        "import os\n",
        "os.listdir(os.getcwd())\n",
        "os.rename('backup','backup_sampledata')"
      ],
      "metadata": {
        "id": "NfkODsYvym9B"
      },
      "execution_count": null,
      "outputs": []
    },
    {
      "cell_type": "markdown",
      "source": [
        "3.What is the difference between the delete functions in the send2trash and shutil modules?"
      ],
      "metadata": {
        "id": "U9L8lh9z-0_H"
      }
    },
    {
      "cell_type": "markdown",
      "source": [
        "Ans: The send2trash functions will move a file or folder to the recycle bin, while shutil functions will permanently delete files and folders.\n",
        "\n",
        "send2trash.send2trash() fucntion to delete a file/directory.\n",
        "\n",
        "Other functions with similar functionality os.remove() -> removes a file, os.rmdir() removes a empty directory. but this will delete permanently"
      ],
      "metadata": {
        "id": "dNpkawRc-4G2"
      }
    },
    {
      "cell_type": "code",
      "source": [
        "import shutil\n",
        "shutil.rmtree('backup_sampledata')"
      ],
      "metadata": {
        "id": "a9rjqQsJzH-V"
      },
      "execution_count": null,
      "outputs": []
    },
    {
      "cell_type": "markdown",
      "source": [
        "4.ZipFile objects have a close() method just like File objects’ close() method. What ZipFile method is\n",
        "equivalent to File objects’ open() method?"
      ],
      "metadata": {
        "id": "BWOV16Uq-40c"
      }
    },
    {
      "cell_type": "markdown",
      "source": [
        "Ans: ZipFile is a class of zipfile module for reading and writing zip files. It takes arugments lile filename and mode etc zipfile.ZipFile('filename', mode = 'r') similar to file objects open()"
      ],
      "metadata": {
        "id": "xOMyE5Gd-7Qm"
      }
    },
    {
      "cell_type": "code",
      "source": [
        "import zipfile as zp\n",
        "test = zp.ZipFile('test.zip','w')\n",
        "test.close()"
      ],
      "metadata": {
        "id": "_JtG1j0h6BO-"
      },
      "execution_count": null,
      "outputs": []
    },
    {
      "cell_type": "markdown",
      "source": [
        "5.Create a programme that searches a folder tree for files with a certain file extension (such as .pdf\n",
        "or .jpg). Copy these files from whatever location they are in to a new folder."
      ],
      "metadata": {
        "id": "KmBbURcM-8AE"
      }
    },
    {
      "cell_type": "code",
      "source": [
        "import os,shutil\n",
        "extensions = ['.pdf', '.jpg']\n",
        "src = os.path.abspath('test')\n",
        "dest = os.path.abspath('sample_data')\n",
        "def copy_move(src, dest):\n",
        "  for path, fold, files in os.walk(src):\n",
        "    print(files)\n",
        "    for file in files:\n",
        "      name, ext = os.path.splitext(file)\n",
        "      if ext in extensions:\n",
        "        src = path+os.path.sep+file\n",
        "        shutil.copy(src,dest)\n",
        "        print(f\"copied successfully from {src} to {dest}\" )\n",
        "\n",
        "copy_move(src, dest)"
      ],
      "metadata": {
        "colab": {
          "base_uri": "https://localhost:8080/"
        },
        "id": "HhTNdlneU9Vk",
        "outputId": "aa7a19a7-4856-4f29-e226-a51caf7fecdd"
      },
      "execution_count": 44,
      "outputs": [
        {
          "output_type": "stream",
          "name": "stdout",
          "text": [
            "['DEEPALAKSHMI_R (6).pdf']\n",
            "copied successfully from /content/test/DEEPALAKSHMI_R (6).pdf to /content/sample_data\n",
            "['IMG_20220320_175313.jpg', 'IMG_20220320_143725.jpg']\n",
            "copied successfully from /content/test/sample/IMG_20220320_175313.jpg to /content/sample_data\n",
            "copied successfully from /content/test/sample/IMG_20220320_143725.jpg to /content/sample_data\n",
            "[]\n"
          ]
        }
      ]
    }
  ]
}