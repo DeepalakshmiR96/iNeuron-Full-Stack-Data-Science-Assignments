{
  "nbformat": 4,
  "nbformat_minor": 0,
  "metadata": {
    "colab": {
      "name": "Assignment_5.ipynb",
      "provenance": []
    },
    "kernelspec": {
      "name": "python3",
      "display_name": "Python 3"
    },
    "language_info": {
      "name": "python"
    }
  },
  "cells": [
    {
      "cell_type": "markdown",
      "source": [
        "**Assignment - 5**"
      ],
      "metadata": {
        "id": "kdMd8rUkJPgD"
      }
    },
    {
      "cell_type": "markdown",
      "source": [
        "1.What does an empty dictionary&#39;s code look like?"
      ],
      "metadata": {
        "id": "TC2csojWJTUs"
      }
    },
    {
      "cell_type": "markdown",
      "source": [
        "Ans:"
      ],
      "metadata": {
        "id": "eWDptjN9JWap"
      }
    },
    {
      "cell_type": "code",
      "source": [
        "dict = {}\n",
        "type(dict)"
      ],
      "metadata": {
        "colab": {
          "base_uri": "https://localhost:8080/"
        },
        "id": "HKHoOjmGK8NL",
        "outputId": "22dc4515-157a-4e7b-f064-42c576c8dc37"
      },
      "execution_count": 1,
      "outputs": [
        {
          "output_type": "execute_result",
          "data": {
            "text/plain": [
              "dict"
            ]
          },
          "metadata": {},
          "execution_count": 1
        }
      ]
    },
    {
      "cell_type": "markdown",
      "source": [
        "2.What is the value of a dictionary value with the key &#39;foo&#39; and the value 42?"
      ],
      "metadata": {
        "id": "92gyLEnDJXnd"
      }
    },
    {
      "cell_type": "code",
      "source": [
        "dict = {\n",
        "    \"foo\": 42\n",
        "}\n",
        "dict.values()"
      ],
      "metadata": {
        "colab": {
          "base_uri": "https://localhost:8080/"
        },
        "id": "5Tpo1_r4LCs8",
        "outputId": "50d57fe1-ab2f-438c-9c77-6af6d9706681"
      },
      "execution_count": 4,
      "outputs": [
        {
          "output_type": "execute_result",
          "data": {
            "text/plain": [
              "dict_values([42])"
            ]
          },
          "metadata": {},
          "execution_count": 4
        }
      ]
    },
    {
      "cell_type": "markdown",
      "source": [
        "3.What is the most significant distinction between a dictionary and a list?"
      ],
      "metadata": {
        "id": "Nu8gAVa7JcTH"
      }
    },
    {
      "cell_type": "markdown",
      "source": [
        "Ans: dictionary has a key value pair as one entity whereas there are individual elements in list. Dictionaries are represented by {} where as listed are represented by []"
      ],
      "metadata": {
        "id": "2zHFPIpXJfSs"
      }
    },
    {
      "cell_type": "markdown",
      "source": [
        "4.What happens if you try to access spam[&#39;foo&#39;] if spam is {&#39;bar&#39;: 100}?"
      ],
      "metadata": {
        "id": "kz8pqzr2JgLZ"
      }
    },
    {
      "cell_type": "code",
      "source": [
        "spam = {'bar': 100}\n",
        "spam['foo']  #KeyError"
      ],
      "metadata": {
        "colab": {
          "base_uri": "https://localhost:8080/",
          "height": 182
        },
        "id": "7zTbhPQmMFpf",
        "outputId": "5753288a-460c-44d9-c08e-67651f63971d"
      },
      "execution_count": 5,
      "outputs": [
        {
          "output_type": "error",
          "ename": "KeyError",
          "evalue": "ignored",
          "traceback": [
            "\u001b[0;31m---------------------------------------------------------------------------\u001b[0m",
            "\u001b[0;31mKeyError\u001b[0m                                  Traceback (most recent call last)",
            "\u001b[0;32m<ipython-input-5-0a5e91516b4a>\u001b[0m in \u001b[0;36m<module>\u001b[0;34m()\u001b[0m\n\u001b[1;32m      1\u001b[0m \u001b[0mspam\u001b[0m \u001b[0;34m=\u001b[0m \u001b[0;34m{\u001b[0m\u001b[0;34m'bar'\u001b[0m\u001b[0;34m:\u001b[0m \u001b[0;36m100\u001b[0m\u001b[0;34m}\u001b[0m\u001b[0;34m\u001b[0m\u001b[0;34m\u001b[0m\u001b[0m\n\u001b[0;32m----> 2\u001b[0;31m \u001b[0mspam\u001b[0m\u001b[0;34m[\u001b[0m\u001b[0;34m'foo'\u001b[0m\u001b[0;34m]\u001b[0m  \u001b[0;31m#KeyError\u001b[0m\u001b[0;34m\u001b[0m\u001b[0;34m\u001b[0m\u001b[0m\n\u001b[0m",
            "\u001b[0;31mKeyError\u001b[0m: 'foo'"
          ]
        }
      ]
    },
    {
      "cell_type": "markdown",
      "source": [
        "5.If a dictionary is stored in spam, what is the difference between the expressions &#39;cat&#39; in spam and\n",
        "&#39;cat&#39; in spam.keys()?"
      ],
      "metadata": {
        "id": "zaFEkaSfJj9y"
      }
    },
    {
      "cell_type": "markdown",
      "source": [
        "Ans: It checks whether 'cat' is present in dictionary as a key."
      ],
      "metadata": {
        "id": "4Azfu9bIJm6k"
      }
    },
    {
      "cell_type": "markdown",
      "source": [
        "6.If a dictionary is stored in spam, what is the difference between the expressions &#39;cat&#39; in spam and\n",
        "&#39;cat&#39; in spam.values()?"
      ],
      "metadata": {
        "id": "RYkxsIHcJn89"
      }
    },
    {
      "cell_type": "markdown",
      "source": [
        "Ans: it checks weather 'cat' is present in dictionary as a value for one of the keys in spam.."
      ],
      "metadata": {
        "id": "SvzapmmAJrun"
      }
    },
    {
      "cell_type": "markdown",
      "source": [
        "7.What is a shortcut for the following code?\n",
        "\n",
        "if &#39;color&#39; not in spam:\n",
        "\n",
        "spam[&#39;color&#39;] = &#39;black&#39;"
      ],
      "metadata": {
        "id": "Df89KdkuJs3i"
      }
    },
    {
      "cell_type": "code",
      "source": [
        "spam.setdefault('color','black')\n",
        "spam"
      ],
      "metadata": {
        "colab": {
          "base_uri": "https://localhost:8080/"
        },
        "id": "E9Oj63YuM4Dr",
        "outputId": "92da1fd5-1e50-499e-bb18-0f0f968f1247"
      },
      "execution_count": 15,
      "outputs": [
        {
          "output_type": "execute_result",
          "data": {
            "text/plain": [
              "{'bar': 100, 'color': 'black'}"
            ]
          },
          "metadata": {},
          "execution_count": 15
        }
      ]
    },
    {
      "cell_type": "markdown",
      "source": [
        "8.How do you &quot;pretty print&quot; dictionary values using which module and function?"
      ],
      "metadata": {
        "id": "3s3JDio7Jwmc"
      }
    },
    {
      "cell_type": "markdown",
      "source": [
        "Ans: Use **pprint(), json.dumps(), yaml.dump()** to Pretty Print a Dictionary in Python"
      ],
      "metadata": {
        "id": "ofHQuy2VJ6HK"
      }
    },
    {
      "cell_type": "code",
      "source": [
        "dict = [\n",
        "  {'Name': 'John', 'Age': '23', 'Residence': {'Country':'USA', 'City': 'New York'}},\n",
        "  {'Name': 'Jose', 'Age': '44', 'Residence': {'Country':'Spain', 'City': 'Madrid'}},\n",
        "  {'Name': 'Anne', 'Age': '29', 'Residence': {'Country':'UK', 'City': 'England'}},\n",
        "  {'Name': 'Lee', 'Age': '35', 'Residence': {'Country':'Japan', 'City': 'Osaka'}}\n",
        "]\n",
        "\n",
        "import pprint\n",
        "pprint.pprint(dict)\n",
        "\n",
        "import json\n",
        "dp = json.dumps(dict,sort_keys=False,indent=2)\n",
        "print('Printing using dumps() method\\n', dp)\n",
        "import yaml\n",
        "yl = yaml.dump(dict)\n",
        "print('Printing using dump() method\\n', yl)"
      ],
      "metadata": {
        "colab": {
          "base_uri": "https://localhost:8080/"
        },
        "id": "HGb0A81FNZLe",
        "outputId": "f2b1d7fa-6246-4ea6-f533-bab6cf07e2a9"
      },
      "execution_count": 13,
      "outputs": [
        {
          "output_type": "stream",
          "name": "stdout",
          "text": [
            "[{'Age': '23',\n",
            "  'Name': 'John',\n",
            "  'Residence': {'City': 'New York', 'Country': 'USA'}},\n",
            " {'Age': '44',\n",
            "  'Name': 'Jose',\n",
            "  'Residence': {'City': 'Madrid', 'Country': 'Spain'}},\n",
            " {'Age': '29',\n",
            "  'Name': 'Anne',\n",
            "  'Residence': {'City': 'England', 'Country': 'UK'}},\n",
            " {'Age': '35',\n",
            "  'Name': 'Lee',\n",
            "  'Residence': {'City': 'Osaka', 'Country': 'Japan'}}]\n",
            "Printing using dumps() method\n",
            " [\n",
            "  {\n",
            "    \"Name\": \"John\",\n",
            "    \"Age\": \"23\",\n",
            "    \"Residence\": {\n",
            "      \"Country\": \"USA\",\n",
            "      \"City\": \"New York\"\n",
            "    }\n",
            "  },\n",
            "  {\n",
            "    \"Name\": \"Jose\",\n",
            "    \"Age\": \"44\",\n",
            "    \"Residence\": {\n",
            "      \"Country\": \"Spain\",\n",
            "      \"City\": \"Madrid\"\n",
            "    }\n",
            "  },\n",
            "  {\n",
            "    \"Name\": \"Anne\",\n",
            "    \"Age\": \"29\",\n",
            "    \"Residence\": {\n",
            "      \"Country\": \"UK\",\n",
            "      \"City\": \"England\"\n",
            "    }\n",
            "  },\n",
            "  {\n",
            "    \"Name\": \"Lee\",\n",
            "    \"Age\": \"35\",\n",
            "    \"Residence\": {\n",
            "      \"Country\": \"Japan\",\n",
            "      \"City\": \"Osaka\"\n",
            "    }\n",
            "  }\n",
            "]\n",
            "Printing using dump() method\n",
            " - Age: '23'\n",
            "  Name: John\n",
            "  Residence: {City: New York, Country: USA}\n",
            "- Age: '44'\n",
            "  Name: Jose\n",
            "  Residence: {City: Madrid, Country: Spain}\n",
            "- Age: '29'\n",
            "  Name: Anne\n",
            "  Residence: {City: England, Country: UK}\n",
            "- Age: '35'\n",
            "  Name: Lee\n",
            "  Residence: {City: Osaka, Country: Japan}\n",
            "\n"
          ]
        }
      ]
    }
  ]
}