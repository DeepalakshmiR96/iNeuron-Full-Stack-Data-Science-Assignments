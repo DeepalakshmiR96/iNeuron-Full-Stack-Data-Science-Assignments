{
  "nbformat": 4,
  "nbformat_minor": 0,
  "metadata": {
    "colab": {
      "name": "Assignment_24.ipynb",
      "provenance": []
    },
    "kernelspec": {
      "name": "python3",
      "display_name": "Python 3"
    },
    "language_info": {
      "name": "python"
    }
  },
  "cells": [
    {
      "cell_type": "markdown",
      "source": [
        "**Assignment - 24**"
      ],
      "metadata": {
        "id": "ONViQhGopQID"
      }
    },
    {
      "cell_type": "markdown",
      "source": [
        "1.What is the relationship between def statements and lambda expressions ?"
      ],
      "metadata": {
        "id": "z0U2JDmKpSSv"
      }
    },
    {
      "cell_type": "markdown",
      "source": [
        "Ans: In python, def defined functions are commonly used because of their simplicity. The def defined functions do not return anything if not explicitly returned whereas the lambda function does return an object. A lambda is an expression producing a function. A def is a statement producing a function. lamba expressions are used to create Anonymous functions. which can be assigned to a variable and can be called using the variable later in function."
      ],
      "metadata": {
        "id": "v_740PxI2-HL"
      }
    },
    {
      "cell_type": "markdown",
      "source": [
        "2.What is the benefit of lambda?"
      ],
      "metadata": {
        "id": "_WDQAwuxpWUd"
      }
    },
    {
      "cell_type": "markdown",
      "source": [
        "Ans:\n",
        "\n",
        "1.Lambda functions are anonymous functions(nameless)\n",
        "\n",
        "2.The advantages of using lambda expression in functional programming\n",
        "\n",
        "3.Fuctions created using lambda expressions can be assigned to a variable and can be used by simply calling the variable"
      ],
      "metadata": {
        "id": "FNe4x5gHAS5D"
      }
    },
    {
      "cell_type": "markdown",
      "source": [
        "3.Compare and contrast map, filter, and reduce."
      ],
      "metadata": {
        "id": "g4TPxZ8xpY5S"
      }
    },
    {
      "cell_type": "markdown",
      "source": [
        "Ans:\n",
        "\n",
        "The **map()** function iterates through all items in the given iterable and executes the function we passed as an argument on each of them.\n",
        "\n",
        "**filter()** forms a new list that contains only elements that satisfy a certain condition, i.e. the function we passed returns True.\n",
        "\n",
        "**reduce()** works differently than map() and filter(). It does not return a new list based on the function and iterable we've passed. Instead, it returns a single value."
      ],
      "metadata": {
        "id": "jQ3YTfCDGsBr"
      }
    },
    {
      "cell_type": "code",
      "source": [
        "from functools import reduce\n",
        "fruit = [\"Apple\", \"Banana\", \"Pear\", \"Apricot\", \"Orange\"]\n",
        "obj = map(lambda x : x[0] == 'A', fruit)\n",
        "print(list(obj))\n",
        "\n",
        "fruit = [\"Apple\", \"Banana\", \"Pear\", \"Apricot\", \"Orange\"]\n",
        "f = filter(lambda x : x[0] == 'A', fruit)\n",
        "print(list(f))\n",
        "\n",
        "num = [1,2,3,4,5]\n",
        "r = reduce(lambda x,y : x+y, num)\n",
        "print(r)"
      ],
      "metadata": {
        "colab": {
          "base_uri": "https://localhost:8080/"
        },
        "id": "rzrysOhVH3hO",
        "outputId": "4cc4532c-2185-4972-c54d-92d03e9df0c6"
      },
      "execution_count": 6,
      "outputs": [
        {
          "output_type": "stream",
          "name": "stdout",
          "text": [
            "[True, False, False, True, False]\n",
            "['Apple', 'Apricot']\n",
            "15\n"
          ]
        }
      ]
    },
    {
      "cell_type": "markdown",
      "source": [
        "4.What are function annotations, and how are they used?"
      ],
      "metadata": {
        "id": "RB38hbDapbSy"
      }
    },
    {
      "cell_type": "markdown",
      "source": [
        "Ans: Function annotations provide a way of associating various parts of a function with arbitrary python expressions at compile time.\n",
        "\n",
        "[def foo(a:”int”, b:”float”=5.0)  -> ”int”]"
      ],
      "metadata": {
        "id": "fv1hANqILv0f"
      }
    },
    {
      "cell_type": "markdown",
      "source": [
        "5.What are recursive functions, and how are they used?"
      ],
      "metadata": {
        "id": "YEklCk56pdvT"
      }
    },
    {
      "cell_type": "markdown",
      "source": [
        "Ans: Python also accepts function recursion, which means a defined function can call itself.\n",
        "\n",
        "Recursion is a common mathematical and programming concept. It means that a function calls itself. This has the benefit of meaning that you can loop through data to reach a result."
      ],
      "metadata": {
        "id": "aVuDELzqTuCN"
      }
    },
    {
      "cell_type": "code",
      "source": [
        "def data(k):\n",
        "  if k>0:\n",
        "    r = k + data(k-1)\n",
        "  else:\n",
        "    r = 0\n",
        "  return r\n",
        "data(6)"
      ],
      "metadata": {
        "colab": {
          "base_uri": "https://localhost:8080/"
        },
        "id": "mzSG43TvTzaz",
        "outputId": "f00fc19d-094b-4223-9895-7225b67a4acf"
      },
      "execution_count": 12,
      "outputs": [
        {
          "output_type": "execute_result",
          "data": {
            "text/plain": [
              "21"
            ]
          },
          "metadata": {},
          "execution_count": 12
        }
      ]
    },
    {
      "cell_type": "markdown",
      "source": [
        "6.What are some general design guidelines for coding functions?"
      ],
      "metadata": {
        "id": "gDqEk1qZpgVi"
      }
    },
    {
      "cell_type": "markdown",
      "source": [
        "Ans:\n",
        "1. Use 4-space indentation and no tabs.\n",
        "2. Use docstrings \n",
        "3. Wrap lines so that they don’t exceed 79 characters\n",
        "4. Use of regular and updated comments are valuable to both the coders and users\n",
        "5. Use spaces around operators and after commas, but not directly inside bracketing constructs\n",
        "6. Naming Conventions"
      ],
      "metadata": {
        "id": "WaDHvWY1U1D0"
      }
    },
    {
      "cell_type": "markdown",
      "source": [
        "7.Name three or more ways that functions can communicate results to a caller."
      ],
      "metadata": {
        "id": "fNhrPrcEpjAd"
      }
    },
    {
      "cell_type": "markdown",
      "source": [
        "Ans: print, return, yield"
      ],
      "metadata": {
        "id": "U8g8HZ0QWthC"
      }
    }
  ]
}