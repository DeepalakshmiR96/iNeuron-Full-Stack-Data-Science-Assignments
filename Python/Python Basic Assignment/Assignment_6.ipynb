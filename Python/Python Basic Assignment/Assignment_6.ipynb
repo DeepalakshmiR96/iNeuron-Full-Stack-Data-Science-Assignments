{
  "nbformat": 4,
  "nbformat_minor": 0,
  "metadata": {
    "colab": {
      "name": "Assignment_6.ipynb",
      "provenance": []
    },
    "kernelspec": {
      "name": "python3",
      "display_name": "Python 3"
    },
    "language_info": {
      "name": "python"
    }
  },
  "cells": [
    {
      "cell_type": "markdown",
      "source": [
        "**Assignment-6**"
      ],
      "metadata": {
        "id": "3S09NjdmUHHs"
      }
    },
    {
      "cell_type": "markdown",
      "source": [
        "1.What are escape characters, and how do you use them?"
      ],
      "metadata": {
        "id": "sXwbPo06UJvL"
      }
    },
    {
      "cell_type": "markdown",
      "source": [
        "Ans: To insert characters that are illegal in a string, use an escape character. An escape character is a backslash \\ followed by the character you want to insert. eg: \\n, \\t\n"
      ],
      "metadata": {
        "id": "Gejc9ZZ-UXHM"
      }
    },
    {
      "cell_type": "code",
      "source": [
        "txt = \"Hello\\rWorld!\"\n",
        "print(txt)"
      ],
      "metadata": {
        "colab": {
          "base_uri": "https://localhost:8080/"
        },
        "id": "VfF8sfLob8B0",
        "outputId": "b1d085f8-0937-4af4-de6b-087da69b11af"
      },
      "execution_count": 19,
      "outputs": [
        {
          "output_type": "stream",
          "name": "stdout",
          "text": [
            "Hello\rWorld!\n"
          ]
        }
      ]
    },
    {
      "cell_type": "markdown",
      "source": [
        "2.What do the escape characters n and t stand for?"
      ],
      "metadata": {
        "id": "wIPjwoj0UY0d"
      }
    },
    {
      "cell_type": "markdown",
      "source": [
        "Ans: \n",
        "\n",
        "\\n = new line\n",
        "\n",
        "\\t = new tab"
      ],
      "metadata": {
        "id": "XnZ580ziUbgJ"
      }
    },
    {
      "cell_type": "code",
      "source": [
        "txt = \"Hello\\nWorld!\"\n",
        "txt1 = \"Hello\\tWorld!\"\n",
        "print(txt) \n",
        "print(txt1)"
      ],
      "metadata": {
        "colab": {
          "base_uri": "https://localhost:8080/"
        },
        "id": "4tn6LTvMcFh3",
        "outputId": "9d2c6313-fad2-4b59-f2f8-d702a52d3617"
      },
      "execution_count": 18,
      "outputs": [
        {
          "output_type": "stream",
          "name": "stdout",
          "text": [
            "Hello\n",
            "World!\n",
            "Hello\tWorld!\n"
          ]
        }
      ]
    },
    {
      "cell_type": "markdown",
      "source": [
        "4.The string &quot;Howl&#39;s Moving Castle&quot; is a correct value. Why isn&#39;t the single quote character in the\n",
        "word Howl&#39;s not escaped a problem?"
      ],
      "metadata": {
        "id": "meiUHbVDUcMb"
      }
    },
    {
      "cell_type": "markdown",
      "source": [
        "Ans: The string **\"Howl's Moving Castle\"** escaped the problem because it is wrapped inside double quotes. if its wrapped inside single quotes then we have to use escape character **\\\\'** to show single quote in the final output"
      ],
      "metadata": {
        "id": "DiVvfS9CUemq"
      }
    },
    {
      "cell_type": "markdown",
      "source": [
        "5.How do you write a string of newlines if you don&#39;t want to use the n character?"
      ],
      "metadata": {
        "id": "0NcDeMPoUiI5"
      }
    },
    {
      "cell_type": "markdown",
      "source": [
        "Ans: Multiline string allow you to use newlines in string without the \\n escape character"
      ],
      "metadata": {
        "id": "QBQ9yMNLUldB"
      }
    },
    {
      "cell_type": "code",
      "source": [
        "n = '''multi\n",
        "line \n",
        "string '''\n",
        "print(n)"
      ],
      "metadata": {
        "colab": {
          "base_uri": "https://localhost:8080/"
        },
        "id": "b9Cia1U-YalW",
        "outputId": "71994218-2e0f-4369-f7aa-b816ca018ae2"
      },
      "execution_count": 13,
      "outputs": [
        {
          "output_type": "stream",
          "name": "stdout",
          "text": [
            "multi\n",
            "line \n",
            "string \n"
          ]
        }
      ]
    },
    {
      "cell_type": "markdown",
      "source": [
        "6.What are the values of the given expressions?\n",
        "\n",
        "&#39;Hello, world!&#39;[1]\n",
        "\n",
        "&#39;Hello, world!&#39;[0:5]\n",
        "\n",
        "&#39;Hello, world!&#39;[:5]\n",
        "\n",
        "&#39;Hello, world!&#39;[3:]"
      ],
      "metadata": {
        "id": "v79BUsbOUqsP"
      }
    },
    {
      "cell_type": "code",
      "source": [
        "'Hello, world!'[1]"
      ],
      "metadata": {
        "colab": {
          "base_uri": "https://localhost:8080/",
          "height": 35
        },
        "id": "G4CTUZoUV5Nt",
        "outputId": "8af12fc0-d8be-460b-ab2f-e0d78349f3b5"
      },
      "execution_count": 8,
      "outputs": [
        {
          "output_type": "execute_result",
          "data": {
            "text/plain": [
              "'e'"
            ],
            "application/vnd.google.colaboratory.intrinsic+json": {
              "type": "string"
            }
          },
          "metadata": {},
          "execution_count": 8
        }
      ]
    },
    {
      "cell_type": "code",
      "source": [
        "'Hello, world!'[0:5]"
      ],
      "metadata": {
        "colab": {
          "base_uri": "https://localhost:8080/",
          "height": 35
        },
        "id": "n6TV1e3UWAsN",
        "outputId": "e15404f3-53f8-4985-fa0e-e9a087bb43d6"
      },
      "execution_count": 9,
      "outputs": [
        {
          "output_type": "execute_result",
          "data": {
            "text/plain": [
              "'Hello'"
            ],
            "application/vnd.google.colaboratory.intrinsic+json": {
              "type": "string"
            }
          },
          "metadata": {},
          "execution_count": 9
        }
      ]
    },
    {
      "cell_type": "code",
      "source": [
        "'Hello, world!'[:5]"
      ],
      "metadata": {
        "colab": {
          "base_uri": "https://localhost:8080/",
          "height": 35
        },
        "id": "BKNJbTtKWCOj",
        "outputId": "ea8bb37c-4c12-494c-fd57-f34e1dc735af"
      },
      "execution_count": 10,
      "outputs": [
        {
          "output_type": "execute_result",
          "data": {
            "text/plain": [
              "'Hello'"
            ],
            "application/vnd.google.colaboratory.intrinsic+json": {
              "type": "string"
            }
          },
          "metadata": {},
          "execution_count": 10
        }
      ]
    },
    {
      "cell_type": "code",
      "source": [
        "'Hello, world!'[3:]"
      ],
      "metadata": {
        "colab": {
          "base_uri": "https://localhost:8080/",
          "height": 35
        },
        "id": "jNgcRlEsWCbm",
        "outputId": "4e8727af-d4d9-451d-fde6-0a63eb0f0a64"
      },
      "execution_count": 11,
      "outputs": [
        {
          "output_type": "execute_result",
          "data": {
            "text/plain": [
              "'lo, world!'"
            ],
            "application/vnd.google.colaboratory.intrinsic+json": {
              "type": "string"
            }
          },
          "metadata": {},
          "execution_count": 11
        }
      ]
    },
    {
      "cell_type": "markdown",
      "source": [
        "7.What are the values of the following expressions?\n"
      ],
      "metadata": {
        "id": "vLzpLYHbUuaO"
      }
    },
    {
      "cell_type": "code",
      "source": [
        "'Hello'.upper() "
      ],
      "metadata": {
        "colab": {
          "base_uri": "https://localhost:8080/",
          "height": 35
        },
        "id": "z59ADI2aU-xE",
        "outputId": "260298b9-df07-4481-9cfb-29756c9ad0ac"
      },
      "execution_count": 4,
      "outputs": [
        {
          "output_type": "execute_result",
          "data": {
            "text/plain": [
              "'HELLO'"
            ],
            "application/vnd.google.colaboratory.intrinsic+json": {
              "type": "string"
            }
          },
          "metadata": {},
          "execution_count": 4
        }
      ]
    },
    {
      "cell_type": "code",
      "source": [
        "'Hello'.upper().isupper() "
      ],
      "metadata": {
        "colab": {
          "base_uri": "https://localhost:8080/"
        },
        "id": "kd8BejGlVE2W",
        "outputId": "c1b42bbb-4c52-452e-9577-9934a043dc1b"
      },
      "execution_count": 5,
      "outputs": [
        {
          "output_type": "execute_result",
          "data": {
            "text/plain": [
              "True"
            ]
          },
          "metadata": {},
          "execution_count": 5
        }
      ]
    },
    {
      "cell_type": "code",
      "source": [
        "'Hello'.upper().lower()"
      ],
      "metadata": {
        "colab": {
          "base_uri": "https://localhost:8080/",
          "height": 35
        },
        "id": "mhkbiHo9VHNy",
        "outputId": "c2daa6bc-2e4e-4688-c9a0-aef9481a8a2a"
      },
      "execution_count": 3,
      "outputs": [
        {
          "output_type": "execute_result",
          "data": {
            "text/plain": [
              "'hello'"
            ],
            "application/vnd.google.colaboratory.intrinsic+json": {
              "type": "string"
            }
          },
          "metadata": {},
          "execution_count": 3
        }
      ]
    },
    {
      "cell_type": "markdown",
      "source": [
        "8.What are the values of the following expressions? &#39;Remember, remember, the fifth of July.&#39;.split()\n",
        "&#39;-&#39;.join(&#39;There can only one.&#39;.split())"
      ],
      "metadata": {
        "id": "zb6HjHI4VNi_"
      }
    },
    {
      "cell_type": "code",
      "source": [
        "print('Remember, remember, the fifth of July.'.split())\n",
        "print('-'.join('There can only one.'.split()))"
      ],
      "metadata": {
        "colab": {
          "base_uri": "https://localhost:8080/"
        },
        "id": "sES8OAD3Vcwl",
        "outputId": "ebd867de-91a7-4726-8c93-05559b016a60"
      },
      "execution_count": 7,
      "outputs": [
        {
          "output_type": "stream",
          "name": "stdout",
          "text": [
            "['Remember,', 'remember,', 'the', 'fifth', 'of', 'July.']\n",
            "There-can-only-one.\n"
          ]
        }
      ]
    },
    {
      "cell_type": "markdown",
      "source": [
        "9.What are the methods for right-justifying, left-justifying, and centering a string?"
      ],
      "metadata": {
        "id": "Y27HG2ZWVw3r"
      }
    },
    {
      "cell_type": "markdown",
      "source": [
        "Ans: The rjust(),ljust(),center() string methods, respectively"
      ],
      "metadata": {
        "id": "QoRiAEqWVyF7"
      }
    },
    {
      "cell_type": "code",
      "source": [
        "str = \"Python\"\n",
        "print (str.rjust(40, '-'))\n",
        "print (str.ljust(40, '-'))\n",
        "print (str.center(40), \"\\n\")"
      ],
      "metadata": {
        "colab": {
          "base_uri": "https://localhost:8080/"
        },
        "id": "EyAz1nMMZQvn",
        "outputId": "55b79675-3d51-4d8b-ce21-fd966782d19a"
      },
      "execution_count": 15,
      "outputs": [
        {
          "output_type": "stream",
          "name": "stdout",
          "text": [
            "----------------------------------Python\n",
            "Python----------------------------------\n",
            "                 Python                  \n",
            "\n"
          ]
        }
      ]
    },
    {
      "cell_type": "markdown",
      "source": [
        "10.What is the best way to remove whitespace characters from the start or end?"
      ],
      "metadata": {
        "id": "nGjiPIpqVzLM"
      }
    },
    {
      "cell_type": "markdown",
      "source": [
        "Ans: The **lstrip()** and **rstrip()** methods remove whitesapce characters from the left and right ends of a string respectively"
      ],
      "metadata": {
        "id": "M9vF_WguV2hP"
      }
    }
  ]
}