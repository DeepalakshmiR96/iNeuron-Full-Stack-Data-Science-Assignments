{
  "nbformat": 4,
  "nbformat_minor": 0,
  "metadata": {
    "colab": {
      "name": "Assignment_1",
      "provenance": []
    },
    "kernelspec": {
      "name": "python3",
      "display_name": "Python 3"
    },
    "language_info": {
      "name": "python"
    }
  },
  "cells": [
    {
      "cell_type": "markdown",
      "source": [
        "**Assignment - 1**"
      ],
      "metadata": {
        "id": "kTRvRQ0n305F"
      }
    },
    {
      "cell_type": "markdown",
      "source": [
        "1.In the below elements which of them are values or an expression? eg:- values can be integer or string and expressions will be mathematical operators. * ,'hello',-87.8,- ,/ ,+,6 \n",
        "\n"
      ],
      "metadata": {
        "id": "lyO5maTf4Jc2"
      }
    },
    {
      "cell_type": "markdown",
      "source": [
        "**Ans**: Operators: *,-,/,+ \n",
        "\n",
        "Expressions: 'hello', 87.8, 6"
      ],
      "metadata": {
        "id": "mEMdWvjW4Tgp"
      }
    },
    {
      "cell_type": "markdown",
      "source": [
        "2.What is the difference between string and variable?"
      ],
      "metadata": {
        "id": "WkYdBG2t4oRe"
      }
    },
    {
      "cell_type": "markdown",
      "source": [
        "**Ans:** String is a sequence of group of characters or single characters, created inside a single or double quotes. Variable which can hold information. We can store string in a variable."
      ],
      "metadata": {
        "id": "TWjYF3hx4ujL"
      }
    },
    {
      "cell_type": "code",
      "source": [
        "b = \"abc\" #b is a variable, \"abc\" is a string"
      ],
      "metadata": {
        "id": "7qaEvY3PIz_q"
      },
      "execution_count": 12,
      "outputs": []
    },
    {
      "cell_type": "markdown",
      "source": [
        "3.Describe three different data types."
      ],
      "metadata": {
        "id": "iWkcfEmS6C1X"
      }
    },
    {
      "cell_type": "markdown",
      "source": [
        "**Ans:** int - To represent whole numbers\n",
        "float - to represent decimal point\n",
        "complex - Complex number is represented by complex class. It is specified as (real part) + (imaginary part)j. For example – 2+3j"
      ],
      "metadata": {
        "id": "y8d0DXUL6ICl"
      }
    },
    {
      "cell_type": "code",
      "source": [
        "num = 1\n",
        "print(num, type(num))\n",
        "fp = 1.0\n",
        "print(fp, type(fp))\n",
        "cn = 1+2j\n",
        "print(cn, type(cn))"
      ],
      "metadata": {
        "colab": {
          "base_uri": "https://localhost:8080/"
        },
        "id": "XsjS2HnHIbP_",
        "outputId": "84914fe6-cf1d-4b16-cd29-9e9f8fad3b13"
      },
      "execution_count": 11,
      "outputs": [
        {
          "output_type": "stream",
          "name": "stdout",
          "text": [
            "1 <class 'int'>\n",
            "1.0 <class 'float'>\n",
            "(1+2j) <class 'complex'>\n"
          ]
        }
      ]
    },
    {
      "cell_type": "markdown",
      "source": [
        "4.What is an expression made up of? What do all expressions do?"
      ],
      "metadata": {
        "id": "xwiUw6Ll7JRM"
      }
    },
    {
      "cell_type": "markdown",
      "source": [
        "**Ans:** An expression is a construct made up of variables, operators, and method invocations, that evaluates to a value. eg: 2 + 2"
      ],
      "metadata": {
        "id": "xmsNYRNt7OTg"
      }
    },
    {
      "cell_type": "markdown",
      "source": [
        "5.This assignment statements, like spam = 10. What is the difference between an expression and a statement?"
      ],
      "metadata": {
        "id": "WncNRtpo8N89"
      }
    },
    {
      "cell_type": "markdown",
      "source": [
        "**Ans:** Expressions only contain identifiers, literals and operators, where operators include arithmetic and boolean operators, the function call operator (), the subscription operator [] and similar, and can be reduced to some kind of \"value\"\n",
        "\n",
        "Statements on the other hand, are everything that can make up a line (or several lines) of Python code. Note that expressions are statements as well. \n",
        "**Ex:** x + 2         # an expression,\n",
        "       x = 1         # a statement"
      ],
      "metadata": {
        "id": "ZF74tnxu8Tog"
      }
    },
    {
      "cell_type": "code",
      "source": [
        "2+3 #expression\n",
        "name = \"Deepa\" #statement"
      ],
      "metadata": {
        "id": "E0tAzKM2II2B"
      },
      "execution_count": 10,
      "outputs": []
    },
    {
      "cell_type": "markdown",
      "source": [
        "6.After running the following code, what does the variable bacon contain?\n",
        "\n",
        "bacon = 22\n",
        "\n",
        "bacon + 1"
      ],
      "metadata": {
        "id": "WsOi3iaFCsqV"
      }
    },
    {
      "cell_type": "markdown",
      "source": [
        "**Ans:** bacon contain 22, as it is not reassigned by last expression (bacon + 1)"
      ],
      "metadata": {
        "id": "VmkmJh2fDG5P"
      }
    },
    {
      "cell_type": "code",
      "source": [
        "bacon=22\n",
        "bacon+1  #bacon = bacon+1 for reassigning\n",
        "print(bacon)"
      ],
      "metadata": {
        "colab": {
          "base_uri": "https://localhost:8080/"
        },
        "id": "Y86VVnG_HgFF",
        "outputId": "76c700ee-4751-461f-aa98-1f5bd84780b5"
      },
      "execution_count": 8,
      "outputs": [
        {
          "output_type": "stream",
          "name": "stdout",
          "text": [
            "22\n"
          ]
        }
      ]
    },
    {
      "cell_type": "markdown",
      "source": [
        "7.What should the values of the following two terms be?\n",
        "\n",
        "'spam' + 'spamspam'\n",
        "\n",
        "'spam' * 3"
      ],
      "metadata": {
        "id": "kKVVeDsPDyvP"
      }
    },
    {
      "cell_type": "markdown",
      "source": [
        "**Ans:** Both string concatentation and multipication will evaluate to  'spamspamspam'"
      ],
      "metadata": {
        "id": "_kbUqeUXD7NP"
      }
    },
    {
      "cell_type": "code",
      "source": [
        "print('spam'+'spamspam')\n",
        "print('spam'*3)"
      ],
      "metadata": {
        "colab": {
          "base_uri": "https://localhost:8080/"
        },
        "id": "AcNZKfbgHVVe",
        "outputId": "9ebb2e17-d431-4e2d-b595-d783f2dc71fa"
      },
      "execution_count": 5,
      "outputs": [
        {
          "output_type": "stream",
          "name": "stdout",
          "text": [
            "spamspamspam\n",
            "spamspamspam\n"
          ]
        }
      ]
    },
    {
      "cell_type": "markdown",
      "source": [
        "8.Why is eggs a valid variable name while 100 is invalid?"
      ],
      "metadata": {
        "id": "-2NuXwjNEgdl"
      }
    },
    {
      "cell_type": "markdown",
      "source": [
        "**Ans:** In python, variable can't start with number. "
      ],
      "metadata": {
        "id": "w4fEcM4OEspt"
      }
    },
    {
      "cell_type": "markdown",
      "source": [
        "9.What three functions can be used to get the integer, floating-point number, or string version of a value?"
      ],
      "metadata": {
        "id": "HPIgs9ldFKSI"
      }
    },
    {
      "cell_type": "markdown",
      "source": [
        "**Ans:** The int(),float(),and str() functions will evaluate to the integer,floating-point number,string version of the value passed to them\n",
        "**eg:** \n",
        "\n",
        "int(1.0) ->  1(to integer)\n",
        "\n",
        "float(10) ->  10.0 (to float)\n",
        "\n",
        "str(10) ->  10 (to type string)"
      ],
      "metadata": {
        "id": "C1QcZnviFSjE"
      }
    },
    {
      "cell_type": "code",
      "source": [
        "print(int(1.0))\n",
        "print(float(10))\n",
        "print(str(10))"
      ],
      "metadata": {
        "colab": {
          "base_uri": "https://localhost:8080/"
        },
        "id": "dol6Q4qNHEe4",
        "outputId": "402eea95-9ebb-4f10-8f0d-de82aab7cac1"
      },
      "execution_count": 4,
      "outputs": [
        {
          "output_type": "stream",
          "name": "stdout",
          "text": [
            "1\n",
            "10.0\n",
            "10\n"
          ]
        }
      ]
    },
    {
      "cell_type": "markdown",
      "source": [
        "10.Why does this expression cause an error? How can you fix it?\n",
        "'I have eaten ' + 99 + ' burritos.'"
      ],
      "metadata": {
        "id": "p1icAhzVGMko"
      }
    },
    {
      "cell_type": "markdown",
      "source": [
        "**Ans:** It will throw error because of 99. As it is not string. We can fix it by converting it to string like,\n",
        "'I have eaten ' + str(99) + 'burritos.'"
      ],
      "metadata": {
        "id": "JZROeeWxGWoO"
      }
    },
    {
      "cell_type": "code",
      "source": [
        "print('I have eaten ' + str(99) + ' burritos.')"
      ],
      "metadata": {
        "colab": {
          "base_uri": "https://localhost:8080/"
        },
        "id": "sasK7dkNG5zf",
        "outputId": "7700cf5a-5831-4746-bd90-7de868ad1cc1"
      },
      "execution_count": 3,
      "outputs": [
        {
          "output_type": "stream",
          "name": "stdout",
          "text": [
            "I have eaten 99burritos.\n"
          ]
        }
      ]
    }
  ]
}