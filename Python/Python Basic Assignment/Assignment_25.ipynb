{
  "nbformat": 4,
  "nbformat_minor": 0,
  "metadata": {
    "colab": {
      "name": "Assignment_25.ipynb",
      "provenance": []
    },
    "kernelspec": {
      "name": "python3",
      "display_name": "Python 3"
    },
    "language_info": {
      "name": "python"
    }
  },
  "cells": [
    {
      "cell_type": "markdown",
      "source": [
        "**Assignment - 25**"
      ],
      "metadata": {
        "id": "h4Uz8I4qpqH9"
      }
    },
    {
      "cell_type": "markdown",
      "source": [
        "1)What is the difference between enclosing a list comprehension in square brackets and\n",
        "parentheses?"
      ],
      "metadata": {
        "id": "GfnJwzNYptSO"
      }
    },
    {
      "cell_type": "markdown",
      "source": [
        "Ans: Enclosing a list comprehension in square brackets returns a list.but where as enclosing a list comprehension in parentheses returns a generator object"
      ],
      "metadata": {
        "id": "jsIVsIpMdZwa"
      }
    },
    {
      "cell_type": "code",
      "source": [
        "l = [i for i in range(5)]\n",
        "g = (i for i in range(5))\n",
        "print(type(l), type(g))"
      ],
      "metadata": {
        "colab": {
          "base_uri": "https://localhost:8080/"
        },
        "id": "r1Frip3zdsmP",
        "outputId": "ab37f918-79f5-4f1c-9211-2634b868b243"
      },
      "execution_count": null,
      "outputs": [
        {
          "output_type": "stream",
          "name": "stdout",
          "text": [
            "<class 'list'> <class 'generator'>\n"
          ]
        }
      ]
    },
    {
      "cell_type": "markdown",
      "source": [
        "2)What is the relationship between generators and iterators?"
      ],
      "metadata": {
        "id": "C9RDrrl-pv7Z"
      }
    },
    {
      "cell_type": "markdown",
      "source": [
        "Iterators are used mostly to iterate or convert other objects to an iterator using iter() function.\n",
        "Using an iterator-\n",
        "\n",
        "iter() keyword is used to create an iterator containing an iterable object.\n",
        "next() keyword is used to call the next element in the iterable object.\n",
        "\n",
        "Generators are mostly used in loops to generate an iterator by returning all the values in the loop without affecting the iteration of the loop. Just as iterators, generators also follow lazy evaluation. Here, the yield function returns the data without affecting or exiting the function."
      ],
      "metadata": {
        "id": "Xy6ilw8dzH31"
      }
    },
    {
      "cell_type": "code",
      "source": [
        "# iterator\n",
        "iter_list = iter(['data', 'science'])\n",
        "print(next(iter_list))\n",
        "print(next(iter_list))\n",
        "\n",
        "# generator\n",
        "def sq_numbers(n):\n",
        "\tfor i in range(1, n+1):\n",
        "\t\tyield i*i\n",
        "a = sq_numbers(2)\n",
        "print(\"The square of numbers 1,2 are : \")\n",
        "print(next(a))\n",
        "print(next(a))\n",
        "\n"
      ],
      "metadata": {
        "id": "rHgQYGx_eMad",
        "colab": {
          "base_uri": "https://localhost:8080/"
        },
        "outputId": "3d20d821-8dda-4e90-81f4-c38e50610ee8"
      },
      "execution_count": 2,
      "outputs": [
        {
          "output_type": "stream",
          "name": "stdout",
          "text": [
            "data\n",
            "science\n",
            "The square of numbers 1,2 are : \n",
            "1\n",
            "4\n"
          ]
        }
      ]
    },
    {
      "cell_type": "markdown",
      "source": [
        "3)What are the signs that a function is a generator function?"
      ],
      "metadata": {
        "id": "qq019hvvpyNs"
      }
    },
    {
      "cell_type": "markdown",
      "source": [
        "Ans: A generator function uses a yield statement instead of a return statement. A generator function will always return a iterable object called generator. where as a normal function can return a string/list/tuple/dict/NoneType etc"
      ],
      "metadata": {
        "id": "cCgbXDYH374k"
      }
    },
    {
      "cell_type": "markdown",
      "source": [
        "4) What is the purpose of a yield statement?"
      ],
      "metadata": {
        "id": "TGxj3ag7p00l"
      }
    },
    {
      "cell_type": "markdown",
      "source": [
        "Ans: The yield statement suspends function’s execution and sends a value back to the caller, but retains enough state to enable function to resume where it is left off. When resumed, the function continues execution immediately after the last yield run. This allows its code to produce a series of values over time, rather than computing them at once and sending them back like a list."
      ],
      "metadata": {
        "id": "3EyuznVT3_Wh"
      }
    },
    {
      "cell_type": "markdown",
      "source": [
        "5)What is the relationship between map calls and list comprehensions? Make a comparison and\n",
        "contrast between the two."
      ],
      "metadata": {
        "id": "VF9rqnNx4MaK"
      }
    },
    {
      "cell_type": "markdown",
      "source": [
        "Ans:\n",
        "\n",
        "1.List comprehension is more concise and easier to read as compared to map.\n",
        "\n",
        "2.List comprehension allows filtering. In map, we have no such facility. For example, to print all odd numbers in range of 50, we can write [n for n in range(50) if n%2 != 0]. There is no alternate for it in map\n",
        "\n",
        "3.List comprehension are used when a list of results is required as final output.but map only returns a map object. it needs to be explicitly coverted to desired datatype.\n",
        "\n",
        "4.List comprehension is faster than map when we need to evaluate expressions that are too long or complicated to express\n",
        "\n",
        "5.Map is faster in case of calling an already defined function on a set of values."
      ],
      "metadata": {
        "id": "D68hyxyX4Nuj"
      }
    }
  ]
}