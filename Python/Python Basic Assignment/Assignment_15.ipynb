{
  "nbformat": 4,
  "nbformat_minor": 0,
  "metadata": {
    "colab": {
      "name": "Assignment_15.ipynb",
      "provenance": []
    },
    "kernelspec": {
      "name": "python3",
      "display_name": "Python 3"
    },
    "language_info": {
      "name": "python"
    }
  },
  "cells": [
    {
      "cell_type": "markdown",
      "source": [
        "**Assignment - 15**"
      ],
      "metadata": {
        "id": "tkFhLIJMGYMP"
      }
    },
    {
      "cell_type": "markdown",
      "source": [
        "1.How many seconds are in an hour? Use the interactive interpreter as a calculator and multiply the\n",
        "number of seconds in a minute (60) by the number of minutes in an hour (also 60)."
      ],
      "metadata": {
        "id": "qj0u6DiQGcLe"
      }
    },
    {
      "cell_type": "code",
      "source": [
        "print(60*60)"
      ],
      "metadata": {
        "colab": {
          "base_uri": "https://localhost:8080/"
        },
        "id": "thRL5eANIukG",
        "outputId": "f539c833-521f-4d76-bee3-f81ed817ef2d"
      },
      "execution_count": null,
      "outputs": [
        {
          "output_type": "stream",
          "name": "stdout",
          "text": [
            "3600\n"
          ]
        }
      ]
    },
    {
      "cell_type": "markdown",
      "source": [
        "2.Assign the result from the previous task (seconds in an hour) to a variable called\n",
        "seconds_per_hour."
      ],
      "metadata": {
        "id": "MmmWn8ZVG_Uo"
      }
    },
    {
      "cell_type": "code",
      "source": [
        "seconds_per_hour = 60*60"
      ],
      "metadata": {
        "id": "5lplIaJwIzjU"
      },
      "execution_count": null,
      "outputs": []
    },
    {
      "cell_type": "markdown",
      "source": [
        "3.How many seconds do you think there are in a day? Make use of the variables seconds per hour\n",
        "and minutes per hour."
      ],
      "metadata": {
        "id": "fm1Jy-HMHF8b"
      }
    },
    {
      "cell_type": "code",
      "source": [
        "minutes_per_hour = 60\n",
        "print(24*seconds_per_hour)"
      ],
      "metadata": {
        "colab": {
          "base_uri": "https://localhost:8080/"
        },
        "id": "TpmkzKj9JXCs",
        "outputId": "310229a2-b989-4869-c673-edbc2c0f5814"
      },
      "execution_count": null,
      "outputs": [
        {
          "output_type": "stream",
          "name": "stdout",
          "text": [
            "86400\n"
          ]
        }
      ]
    },
    {
      "cell_type": "markdown",
      "source": [
        "4.Calculate seconds per day again, but this time save the result in a variable called seconds_per_day"
      ],
      "metadata": {
        "id": "iL1USYlTHInO"
      }
    },
    {
      "cell_type": "code",
      "source": [
        "seconds_per_day = 24*seconds_per_hour\n",
        "print(seconds_per_day)"
      ],
      "metadata": {
        "colab": {
          "base_uri": "https://localhost:8080/"
        },
        "id": "_2Yzb191KD6V",
        "outputId": "e31d13e1-3807-4e99-c5f7-4e8ff6d28d8a"
      },
      "execution_count": null,
      "outputs": [
        {
          "output_type": "stream",
          "name": "stdout",
          "text": [
            "86400\n"
          ]
        }
      ]
    },
    {
      "cell_type": "markdown",
      "source": [
        "5.Divide seconds_per_day by seconds_per_hour. Use floating-point (/) division."
      ],
      "metadata": {
        "id": "oUuSymVbHLb6"
      }
    },
    {
      "cell_type": "code",
      "source": [
        "print(seconds_per_day/seconds_per_hour)"
      ],
      "metadata": {
        "colab": {
          "base_uri": "https://localhost:8080/"
        },
        "id": "XQNr4pBVKaIW",
        "outputId": "9c39a6a5-7eb3-473e-d263-2f192fce475c"
      },
      "execution_count": null,
      "outputs": [
        {
          "output_type": "stream",
          "name": "stdout",
          "text": [
            "24.0\n"
          ]
        }
      ]
    },
    {
      "cell_type": "markdown",
      "source": [
        "6.Divide seconds_per_day by seconds_per_hour, using integer (//) division. Did this number agree\n",
        "with the floating-point value from the previous question, aside from the final .0?"
      ],
      "metadata": {
        "id": "YjiTyl_JHN3m"
      }
    },
    {
      "cell_type": "code",
      "source": [
        "print(seconds_per_day//seconds_per_hour, \"yes, it agree with the floating-point value \")"
      ],
      "metadata": {
        "colab": {
          "base_uri": "https://localhost:8080/"
        },
        "id": "fz5T102RKt-H",
        "outputId": "b7ecc454-ebb9-4990-92ad-3a8e360f2779"
      },
      "execution_count": null,
      "outputs": [
        {
          "output_type": "stream",
          "name": "stdout",
          "text": [
            "24\n"
          ]
        }
      ]
    },
    {
      "cell_type": "markdown",
      "source": [
        "7.Write a generator, genPrimes, that returns the sequence of prime numbers on successive calls to\n",
        "its next() method: 2, 3, 5, 7, 11, ..."
      ],
      "metadata": {
        "id": "p9cC3SizHQYC"
      }
    },
    {
      "cell_type": "code",
      "source": [
        "def genPrimes():\n",
        "  prime = []\n",
        "  n = 2\n",
        "  while True:\n",
        "    for i in prime:\n",
        "      if n%i == 0:\n",
        "        break\n",
        "    else:\n",
        "      prime.append(n)\n",
        "      yield n\n",
        "    n += 1\n",
        "generator = genPrimes()"
      ],
      "metadata": {
        "id": "WEeod5wFLBXN"
      },
      "execution_count": 4,
      "outputs": []
    },
    {
      "cell_type": "code",
      "source": [
        "next(generator)"
      ],
      "metadata": {
        "colab": {
          "base_uri": "https://localhost:8080/"
        },
        "id": "NV4m_bPAQ-vi",
        "outputId": "4b1c9951-c0eb-42ca-e921-bfc7b0bcf62d"
      },
      "execution_count": 9,
      "outputs": [
        {
          "output_type": "execute_result",
          "data": {
            "text/plain": [
              "11"
            ]
          },
          "metadata": {},
          "execution_count": 9
        }
      ]
    }
  ]
}