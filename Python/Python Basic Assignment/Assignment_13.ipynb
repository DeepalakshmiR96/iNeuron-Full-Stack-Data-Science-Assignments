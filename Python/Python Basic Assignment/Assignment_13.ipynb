{
  "nbformat": 4,
  "nbformat_minor": 0,
  "metadata": {
    "colab": {
      "name": "Assignment_13.ipynb",
      "provenance": []
    },
    "kernelspec": {
      "name": "python3",
      "display_name": "Python 3"
    },
    "language_info": {
      "name": "python"
    }
  },
  "cells": [
    {
      "cell_type": "markdown",
      "source": [
        "**Assignment - 13**"
      ],
      "metadata": {
        "id": "YhgGguNSJzeV"
      }
    },
    {
      "cell_type": "markdown",
      "source": [
        "1.What advantages do Excel spreadsheets have over CSV spreadsheets?"
      ],
      "metadata": {
        "id": "oZVk-LsAJ3LG"
      }
    },
    {
      "cell_type": "markdown",
      "source": [
        "Ans:\n",
        "1. Excel (XLS and XLSX) file formats are better for storing and analysing complex data.\n",
        "2. An Excel not only stores data but can also do operations on the data using macros, formulas etc\n",
        "3. CSV files are plain-text files, Does not contain formatting, formulas, macros, etc. It is also known as flat files"
      ],
      "metadata": {
        "id": "Lpk6i3QdNmL8"
      }
    },
    {
      "cell_type": "markdown",
      "source": [
        "2.What do you pass to csv.reader() and csv.writer() to create reader and writer objects?"
      ],
      "metadata": {
        "id": "aJHitl5pNVtz"
      }
    },
    {
      "cell_type": "markdown",
      "source": [
        "Ans:\n",
        "The **csv.reader**(csvfile, dialect='excel', **fmtparams) method can be used to extract data from a file that contains CSV-formatted data.\n",
        "It takes the following parameters:\n",
        "\n",
        "**csvfile**: An object that supports the iterator protocol, which in this case is usually a file object for the CSV file\n",
        "\n",
        "**dialect** (optional): The name of the dialect to use \n",
        "\n",
        "**fmtparams** (optional): Formatting parameters that will overwrite those specified in the dialect\n",
        "\n",
        "The **csv.writer**(csvfile, dialect='excel', **fmtparams) method takes following parameter:\n",
        "\n",
        "csvfile: Any object with a write() method, which in this case is usually a file object\n",
        "\n",
        "dialect (optional): The name of the dialect to use\n",
        "\n",
        "fmtparams (optional):Formatting parameters that will overwrite those specified in the dialect\n",
        "\n",
        "\n",
        "Dialect helps in grouping together many specific formatting patterns like delimiter, skipinitialspace, quoting, escapechar into a single dialect name\n"
      ],
      "metadata": {
        "id": "N9eXu6wmNoCY"
      }
    },
    {
      "cell_type": "markdown",
      "source": [
        "3.What modes do File objects for reader and writer objects need to be opened in?"
      ],
      "metadata": {
        "id": "jrDskpX2NYSc"
      }
    },
    {
      "cell_type": "markdown",
      "source": [
        "Ans: For csv.reader(iterable_file_object), the file objects needed to be opened in read mode mode='r' Whereas for csv.writer(iterable_file_object) the file objects needed to be opened in write mode mode='w'"
      ],
      "metadata": {
        "id": "lG5gx4sZNqzA"
      }
    },
    {
      "cell_type": "code",
      "source": [
        "import csv\n",
        "with open('test.csv','w') as file:\n",
        "  w = csv.writer(file, delimiter='\\t')\n",
        "  w.writerow([\"SN\", \"Movie\", \"Protagonist\"])\n",
        "  w.writerow([1, \"Lord of the Rings\", \"Frodo Baggins\"])\n",
        "  w.writerow([2, \"Harry Potter\", \"Harry Potter\"])"
      ],
      "metadata": {
        "id": "WlcNBZ5qTued"
      },
      "execution_count": 4,
      "outputs": []
    },
    {
      "cell_type": "code",
      "source": [
        "import csv\n",
        "with open('test.csv','r') as file:\n",
        "  r = csv.reader(file)\n",
        "  for row in r:\n",
        "    print(row)"
      ],
      "metadata": {
        "colab": {
          "base_uri": "https://localhost:8080/"
        },
        "id": "8JmlgQGVY-D0",
        "outputId": "3b119b4b-d7db-408e-e10c-96e3d7ef8137"
      },
      "execution_count": 8,
      "outputs": [
        {
          "output_type": "stream",
          "name": "stdout",
          "text": [
            "['SN\\tMovie\\tProtagonist']\n",
            "['1\\tLord of the Rings\\tFrodo Baggins']\n",
            "['2\\tHarry Potter\\tHarry Potter']\n"
          ]
        }
      ]
    },
    {
      "cell_type": "markdown",
      "source": [
        "4.What method takes a list argument and writes it to a CSV file?"
      ],
      "metadata": {
        "id": "-SDHUjtTNbMd"
      }
    },
    {
      "cell_type": "markdown",
      "source": [
        "Ans: writerow() and writerows() method takes a list argument and writes it to a CSV file"
      ],
      "metadata": {
        "id": "v8VWK-2INsAv"
      }
    },
    {
      "cell_type": "code",
      "source": [
        "import csv\n",
        "data = [[\"SN\", \"Movie\", \"Protagonist\"], [1, \"Lord of the Rings\", \"Frodo Baggins\"], [2, \"Harry Potter\", \"Harry Potter\"]]\n",
        "with open('test1.csv','w') as file:\n",
        "  w = csv.writer(file, delimiter='\\t')\n",
        "  w.writerow([\"SN\", \"Movie\", \"Protagonist\"])\n",
        "  w.writerows(data)"
      ],
      "metadata": {
        "id": "SsAax1BBeSQ8"
      },
      "execution_count": 9,
      "outputs": []
    },
    {
      "cell_type": "markdown",
      "source": [
        "5.What do the keyword arguments delimiter and line terminator do?"
      ],
      "metadata": {
        "id": "XLF68FqRNdmT"
      }
    },
    {
      "cell_type": "markdown",
      "source": [
        "Ans: The delimiter is the character that appears between cells on a row. By default, the delimiter for a CSV file is a comma. \n",
        "\n",
        "The line terminator is the character that comes at the end of a row. By default, the line terminator is a newline. \n",
        "\n",
        "You can change characters to different values by using the delimiter and lineterminator keyword arguments with csv.writer(). Passing delimeter='\\t' and lineterminator='\\n\\n' changes the character between cells to a tab and the character between rows to two newlines."
      ],
      "metadata": {
        "id": "xI-eUhR8Ntra"
      }
    },
    {
      "cell_type": "markdown",
      "source": [
        "6.What function takes a string of JSON data and returns a Python data structure?"
      ],
      "metadata": {
        "id": "RlbNxSg0NgIa"
      }
    },
    {
      "cell_type": "markdown",
      "source": [
        "Ans: loads() method takes a string of JSON data and returns a Python data structure"
      ],
      "metadata": {
        "id": "X7VA46YZNuf9"
      }
    },
    {
      "cell_type": "code",
      "source": [
        "import json\n",
        "data = '{ \"name\":\"John\", \"age\":30, \"city\":\"New York\"}'\n",
        "j = json.loads(data)\n",
        "print(type(j))"
      ],
      "metadata": {
        "colab": {
          "base_uri": "https://localhost:8080/"
        },
        "id": "RetDyJdEiQmm",
        "outputId": "8b50453b-d62f-4161-e0ee-be107922d6ac"
      },
      "execution_count": 10,
      "outputs": [
        {
          "output_type": "stream",
          "name": "stdout",
          "text": [
            "<class 'dict'>\n"
          ]
        }
      ]
    },
    {
      "cell_type": "markdown",
      "source": [
        "7.What function takes a Python data structure and returns a string of JSON data?"
      ],
      "metadata": {
        "id": "0WmnpzWiNite"
      }
    },
    {
      "cell_type": "markdown",
      "source": [
        "Ans: dumps() method takes a Python data structure and returns a string of JSON data"
      ],
      "metadata": {
        "id": "SDRG5YB_Nv1a"
      }
    },
    {
      "cell_type": "code",
      "source": [
        "import json\n",
        "data = { \"name\":\"John\", \"age\":30, \"city\":\"New York\"}\n",
        "j = json.dumps(data)\n",
        "print(type(j))"
      ],
      "metadata": {
        "colab": {
          "base_uri": "https://localhost:8080/"
        },
        "id": "6-dRU5EUiqQW",
        "outputId": "b1638030-cd1e-4bce-fb00-119d8bc8aac1"
      },
      "execution_count": 11,
      "outputs": [
        {
          "output_type": "stream",
          "name": "stdout",
          "text": [
            "<class 'str'>\n"
          ]
        }
      ]
    }
  ]
}