{
  "nbformat": 4,
  "nbformat_minor": 0,
  "metadata": {
    "colab": {
      "name": "Assignment_14.ipynb",
      "provenance": []
    },
    "kernelspec": {
      "name": "python3",
      "display_name": "Python 3"
    },
    "language_info": {
      "name": "python"
    }
  },
  "cells": [
    {
      "cell_type": "markdown",
      "source": [
        "**Assignment - 14**"
      ],
      "metadata": {
        "id": "zZeEnCLwjM5z"
      }
    },
    {
      "cell_type": "markdown",
      "source": [
        "1.What does RGBA stand for?"
      ],
      "metadata": {
        "id": "E5F3TX6qjQIq"
      }
    },
    {
      "cell_type": "markdown",
      "source": [
        "Ans:\n",
        "RGBA(Red-Green-Blue-Alpha)\n",
        "\n",
        "The RGB color model is extended in this specification to include “alpha” to allow specification of the opacity of a color."
      ],
      "metadata": {
        "id": "UFoNBGl2jl4O"
      }
    },
    {
      "cell_type": "markdown",
      "source": [
        "2.From the Pillow module, how do you get the RGBA value of any images?"
      ],
      "metadata": {
        "id": "opTTqDsTjUJN"
      }
    },
    {
      "cell_type": "markdown",
      "source": [
        "Ans:"
      ],
      "metadata": {
        "id": "RgwH3sE0joH4"
      }
    },
    {
      "cell_type": "code",
      "source": [
        "from PIL import Image, ImageColor\n",
        "ImageColor.getcolor('orange','RGBA')"
      ],
      "metadata": {
        "colab": {
          "base_uri": "https://localhost:8080/"
        },
        "id": "oneFBC9J4ELf",
        "outputId": "eb902446-9f43-4a4b-c828-977fedeac27d"
      },
      "execution_count": 6,
      "outputs": [
        {
          "output_type": "execute_result",
          "data": {
            "text/plain": [
              "(255, 165, 0, 255)"
            ]
          },
          "metadata": {},
          "execution_count": 6
        }
      ]
    },
    {
      "cell_type": "markdown",
      "source": [
        "3.What is a box tuple, and how does it work?"
      ],
      "metadata": {
        "id": "iIZ8xNT2jWjE"
      }
    },
    {
      "cell_type": "markdown",
      "source": [
        "Ans: Many of Pillow's functions and methods take a box tuple argument. This means Pillow is expecting a tuple of four integer coordinates that represent a rectangular region in an image where the left-edge x-coordinate, the top-edge y-coordinate,the width, and the height, respectively."
      ],
      "metadata": {
        "id": "1g5Vpt63jpZd"
      }
    },
    {
      "cell_type": "markdown",
      "source": [
        "4.Use your image and load in notebook then, How can you find out the width and height of an\n",
        "Image object?"
      ],
      "metadata": {
        "id": "_rk27LBMjY1Y"
      }
    },
    {
      "cell_type": "markdown",
      "source": [
        "Ans:"
      ],
      "metadata": {
        "id": "FceZb36AjqTw"
      }
    },
    {
      "cell_type": "code",
      "source": [
        "from PIL import Image\n",
        "pic = Image.open('IMG_20211115_141528.jpg')\n",
        "print(pic.size, pic.width, pic.height)"
      ],
      "metadata": {
        "colab": {
          "base_uri": "https://localhost:8080/"
        },
        "id": "j248YbYq7qsl",
        "outputId": "2b66a546-d93e-4e7d-e2f1-43b500d48b92"
      },
      "execution_count": 8,
      "outputs": [
        {
          "output_type": "stream",
          "name": "stdout",
          "text": [
            "(1318, 1653) 1318 1653\n"
          ]
        }
      ]
    },
    {
      "cell_type": "markdown",
      "source": [
        "5.What method would you call to get Image object for a 100×100 image, excluding the lower-left\n",
        "quarter of it?"
      ],
      "metadata": {
        "id": "vS3bO9XbjbXA"
      }
    },
    {
      "cell_type": "code",
      "source": [
        "from PIL import Image\n",
        "pic = Image.open('IMG_20211115_141528.jpg')\n",
        "new = pic.crop((0,50,50,50))  # (left, upper, right, lower)"
      ],
      "metadata": {
        "id": "2uuijRg09A_a"
      },
      "execution_count": 10,
      "outputs": []
    },
    {
      "cell_type": "markdown",
      "source": [
        "6.After making changes to an Image object, how could you save it as an image file?"
      ],
      "metadata": {
        "id": "kWZNdxkJjdoo"
      }
    },
    {
      "cell_type": "markdown",
      "source": [
        "Ans:"
      ],
      "metadata": {
        "id": "NfrwcD_Ejs0a"
      }
    },
    {
      "cell_type": "code",
      "source": [
        "from PIL import Image\n",
        "p = Image.open('IMG_20211115_141528.jpg')\n",
        "p.save('new.jpg') "
      ],
      "metadata": {
        "id": "VL9K06ry-ISt"
      },
      "execution_count": 13,
      "outputs": []
    },
    {
      "cell_type": "markdown",
      "source": [
        "7.What module contains Pillow’s shape-drawing code?"
      ],
      "metadata": {
        "id": "5GYWc3N4jgvf"
      }
    },
    {
      "cell_type": "markdown",
      "source": [
        "Ans: ImageDraw module"
      ],
      "metadata": {
        "id": "XHqvQ3Nsjul-"
      }
    },
    {
      "cell_type": "markdown",
      "source": [
        "8.Image objects do not have drawing methods. What kind of object does? How do you get this kind\n",
        "of object?"
      ],
      "metadata": {
        "id": "0oUis5dDji7R"
      }
    },
    {
      "cell_type": "markdown",
      "source": [
        "Ans: They have methods such as point(), line(), or rectangle(). Obtaibed by passing the Image object to the ImageDraw.Draw() function."
      ],
      "metadata": {
        "id": "oc-mL096jvVT"
      }
    }
  ]
}