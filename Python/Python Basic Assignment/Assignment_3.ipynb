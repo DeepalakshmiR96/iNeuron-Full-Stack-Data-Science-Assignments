{
  "nbformat": 4,
  "nbformat_minor": 0,
  "metadata": {
    "colab": {
      "name": "Assignment_3.ipynb",
      "provenance": []
    },
    "kernelspec": {
      "name": "python3",
      "display_name": "Python 3"
    },
    "language_info": {
      "name": "python"
    }
  },
  "cells": [
    {
      "cell_type": "markdown",
      "source": [
        "**Assignment-3**"
      ],
      "metadata": {
        "id": "j_hzDUtLzA5D"
      }
    },
    {
      "cell_type": "markdown",
      "source": [
        "1.Why are functions advantageous to have in your programs?"
      ],
      "metadata": {
        "id": "shXkUb1KyGAu"
      }
    },
    {
      "cell_type": "markdown",
      "source": [
        "**Ans:** Functions reduce the need for duplicate code.\n",
        "It helps to divide the large programs into small groups so that we can read the code, and debug the program faster and better. This makes programs shorter, easier to read and easier to update."
      ],
      "metadata": {
        "id": "4dGDQnvCzK6K"
      }
    },
    {
      "cell_type": "markdown",
      "source": [
        "2.When does the code in a function run: when it&#39;s specified or when it&#39;s called?"
      ],
      "metadata": {
        "id": "MgfLYYjFyLCn"
      }
    },
    {
      "cell_type": "markdown",
      "source": [
        "**Ans:** Function will run the code when it's called. "
      ],
      "metadata": {
        "id": "WrhJAk8HzNxp"
      }
    },
    {
      "cell_type": "markdown",
      "source": [
        "3.What statement creates a function?"
      ],
      "metadata": {
        "id": "a-noUb17yOeU"
      }
    },
    {
      "cell_type": "markdown",
      "source": [
        "**Ans:** The def statement defines a function\n",
        "\n",
        "Syntax:\n"
      ],
      "metadata": {
        "id": "zSEHOaZLzQhR"
      }
    },
    {
      "cell_type": "code",
      "source": [
        "def functionname(parameters):\n",
        "    \"\"\"doc string\"\"\"          \n",
        "    -----function body-----\n",
        "    return value"
      ],
      "metadata": {
        "id": "ZUlAe0yHr3xE"
      },
      "execution_count": null,
      "outputs": []
    },
    {
      "cell_type": "markdown",
      "source": [
        "4.What is the difference between a function and a function call?"
      ],
      "metadata": {
        "id": "JR-eDaxeyTWP"
      }
    },
    {
      "cell_type": "markdown",
      "source": [
        "**Ans:** A function is procedure to achieve a particular result, which will only perform if it is called this is where function call comes into picture to achieve the task."
      ],
      "metadata": {
        "id": "ZobVejnOzS94"
      }
    },
    {
      "cell_type": "markdown",
      "source": [
        "5.How many global scopes are there in a Python program? How many local scopes?"
      ],
      "metadata": {
        "id": "pXLODnDYyWkI"
      }
    },
    {
      "cell_type": "markdown",
      "source": [
        "**Ans:** There is only one global scope per python program and remains there untill program is terminated. There can be as many local scopes inside a program because variable created inside a function can only be used in that space"
      ],
      "metadata": {
        "id": "ZKuCaD2rzVni"
      }
    },
    {
      "cell_type": "markdown",
      "source": [
        "6.What happens to variables in a local scope when the function call returns?"
      ],
      "metadata": {
        "id": "i3NZB6FfyZiS"
      }
    },
    {
      "cell_type": "markdown",
      "source": [
        "**Ans:** variable in a local space is confined to that space of function can only be used in that function. When a function returns, the local scope is destroyed, and all the variables in it are forgotten."
      ],
      "metadata": {
        "id": "W8Vj0VRGzZ6p"
      }
    },
    {
      "cell_type": "markdown",
      "source": [
        "7.What is the concept of a return value? Is it possible to have a return value in an expression?"
      ],
      "metadata": {
        "id": "QEMpIkF_ycat"
      }
    },
    {
      "cell_type": "markdown",
      "source": [
        "**Ans:** A return value is the value that a function call evaluates to. Like any value, a return value can be used as part of an expression."
      ],
      "metadata": {
        "id": "tBE-gySDzcbX"
      }
    },
    {
      "cell_type": "markdown",
      "source": [
        "8.If a function does not have a return statement, what is the return value of a call to that function?"
      ],
      "metadata": {
        "id": "qk4WwS8ZyfyO"
      }
    },
    {
      "cell_type": "markdown",
      "source": [
        "**Ans:** its return value is **None**."
      ],
      "metadata": {
        "id": "e1uGi7P1ze24"
      }
    },
    {
      "cell_type": "markdown",
      "source": [
        "9.How do you make a function variable refer to the global variable?\n"
      ],
      "metadata": {
        "id": "MOascPRLyiYU"
      }
    },
    {
      "cell_type": "markdown",
      "source": [
        "**Ans:**Global variable is a variable which is not connected to any particular function. We can use the global keyword to declare which variables are global."
      ],
      "metadata": {
        "id": "YfQI_eREzhNv"
      }
    },
    {
      "cell_type": "markdown",
      "source": [
        "10.What is the data type of None?"
      ],
      "metadata": {
        "id": "Mobao-GcylXI"
      }
    },
    {
      "cell_type": "markdown",
      "source": [
        "**Ans:** The data type of None is NoneType."
      ],
      "metadata": {
        "id": "npBNC1tizkNl"
      }
    },
    {
      "cell_type": "code",
      "source": [
        "type(None)"
      ],
      "metadata": {
        "colab": {
          "base_uri": "https://localhost:8080/"
        },
        "id": "5dyy-dX8p-hi",
        "outputId": "2db89e5b-2b3f-44ed-8e88-4012b71c6941"
      },
      "execution_count": 1,
      "outputs": [
        {
          "output_type": "execute_result",
          "data": {
            "text/plain": [
              "NoneType"
            ]
          },
          "metadata": {},
          "execution_count": 1
        }
      ]
    },
    {
      "cell_type": "markdown",
      "source": [
        "11.What does the sentence import areallyourpetsnamederic do?"
      ],
      "metadata": {
        "id": "AsHhI5o8yoO-"
      }
    },
    {
      "cell_type": "markdown",
      "source": [
        "**Ans:** That import statement imports a module named areallyourpetsnamederic."
      ],
      "metadata": {
        "id": "7dPgCZz9zm_o"
      }
    },
    {
      "cell_type": "markdown",
      "source": [
        "12.If you had a bacon() feature in a spam module, what would you call it after importing spam?"
      ],
      "metadata": {
        "id": "NTGB5rSayqzR"
      }
    },
    {
      "cell_type": "markdown",
      "source": [
        "**Ans:** spam.bacon()"
      ],
      "metadata": {
        "id": "sc8Kv58jzpYX"
      }
    },
    {
      "cell_type": "markdown",
      "source": [
        "13.What can you do to save a programme from crashing if it encounters an error?"
      ],
      "metadata": {
        "id": "jd-dJmCvyv1N"
      }
    },
    {
      "cell_type": "markdown",
      "source": [
        "**Ans:**Moving the line of code that might cause an error in a try clause and use except block to handle the error"
      ],
      "metadata": {
        "id": "JKEsS5XyzsQd"
      }
    },
    {
      "cell_type": "code",
      "source": [
        "try:\n",
        "\tprint(ourVariable)\n",
        "except:\n",
        "\tprint('ourVariable is not defined')"
      ],
      "metadata": {
        "colab": {
          "base_uri": "https://localhost:8080/"
        },
        "id": "5S2c4mCCqwo_",
        "outputId": "369c200b-8f0f-481d-9327-ce8058bdaa1d"
      },
      "execution_count": 2,
      "outputs": [
        {
          "output_type": "stream",
          "name": "stdout",
          "text": [
            "ourVariable is not defined\n"
          ]
        }
      ]
    },
    {
      "cell_type": "markdown",
      "source": [
        "14.What is the purpose of the try clause? What is the purpose of the except clause?"
      ],
      "metadata": {
        "id": "jY6-Y1ZByy1g"
      }
    },
    {
      "cell_type": "markdown",
      "source": [
        "**Ans:** The code that could potentially cause an error goes in the try clause. The code that executes if an error happens goes in the except clause."
      ],
      "metadata": {
        "id": "yGNNJLcZzu67"
      }
    }
  ]
}