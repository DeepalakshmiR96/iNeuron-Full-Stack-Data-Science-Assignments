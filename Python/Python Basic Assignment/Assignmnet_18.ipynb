{
  "nbformat": 4,
  "nbformat_minor": 0,
  "metadata": {
    "colab": {
      "name": "Assignmnet_18.ipynb",
      "provenance": []
    },
    "kernelspec": {
      "name": "python3",
      "display_name": "Python 3"
    },
    "language_info": {
      "name": "python"
    }
  },
  "cells": [
    {
      "cell_type": "markdown",
      "source": [
        "**Assignment - 18**"
      ],
      "metadata": {
        "id": "p6UQu-wljTqh"
      }
    },
    {
      "cell_type": "markdown",
      "source": [
        "1.Create a zoo.py file first. Define the hours() function, which prints the string &#39;Open 9-5 daily&#39;.\n",
        "Then, use the interactive interpreter to import the zoo module and call its hours() function."
      ],
      "metadata": {
        "id": "uYz-I-SXjneq"
      }
    },
    {
      "cell_type": "code",
      "source": [
        "import zoo\n",
        "zoo.hours()"
      ],
      "metadata": {
        "colab": {
          "base_uri": "https://localhost:8080/"
        },
        "id": "nqLj3glgjhlb",
        "outputId": "8f7162a2-1146-4bb4-832b-36255d6b060d"
      },
      "execution_count": 4,
      "outputs": [
        {
          "output_type": "stream",
          "name": "stdout",
          "text": [
            "Open 9-5 daily\n"
          ]
        }
      ]
    },
    {
      "cell_type": "markdown",
      "source": [
        "2.In the interactive interpreter, import the zoo module as menagerie and call its hours() function."
      ],
      "metadata": {
        "id": "-O6aSE3zjiHd"
      }
    },
    {
      "cell_type": "code",
      "source": [
        "import zoo as menagerie\n",
        "menagerie.hours()"
      ],
      "metadata": {
        "colab": {
          "base_uri": "https://localhost:8080/"
        },
        "id": "_hwIcH5WlAmp",
        "outputId": "32945602-e6df-4a3e-92cd-47fdff95785f"
      },
      "execution_count": 5,
      "outputs": [
        {
          "output_type": "stream",
          "name": "stdout",
          "text": [
            "Open 9-5 daily\n"
          ]
        }
      ]
    },
    {
      "cell_type": "markdown",
      "source": [
        "3.Using the interpreter, explicitly import and call the hours() function from zoo."
      ],
      "metadata": {
        "id": "8-O7RbaVjuRF"
      }
    },
    {
      "cell_type": "code",
      "source": [
        "from zoo import hours\n",
        "hours()"
      ],
      "metadata": {
        "colab": {
          "base_uri": "https://localhost:8080/"
        },
        "id": "YwVTlRALlmgH",
        "outputId": "09a17227-dad8-458c-fcdc-315066ce773c"
      },
      "execution_count": 6,
      "outputs": [
        {
          "output_type": "stream",
          "name": "stdout",
          "text": [
            "Open 9-5 daily\n"
          ]
        }
      ]
    },
    {
      "cell_type": "markdown",
      "source": [
        "4.Import the hours() function as info and call it."
      ],
      "metadata": {
        "id": "SP8pUq5wjxta"
      }
    },
    {
      "cell_type": "code",
      "source": [
        "from zoo import hours as info\n",
        "info()"
      ],
      "metadata": {
        "colab": {
          "base_uri": "https://localhost:8080/"
        },
        "id": "WerlB-brlySM",
        "outputId": "0e55e2a5-e46b-4a6c-9164-70ca3994dce6"
      },
      "execution_count": 7,
      "outputs": [
        {
          "output_type": "stream",
          "name": "stdout",
          "text": [
            "Open 9-5 daily\n"
          ]
        }
      ]
    },
    {
      "cell_type": "markdown",
      "source": [
        "5.Create a plain dictionary with the key-value pairs &#39;a&#39;: 1, &#39;b&#39;: 2, and &#39;c&#39;: 3, and print it out."
      ],
      "metadata": {
        "id": "dVFJ2OdPj2Uv"
      }
    },
    {
      "cell_type": "code",
      "source": [
        "dict = {'a':1,'b':2,'c':3}\n",
        "dict"
      ],
      "metadata": {
        "colab": {
          "base_uri": "https://localhost:8080/"
        },
        "id": "GeHDOczvl5By",
        "outputId": "4d18b2ce-2476-4f1d-e39a-890ce1b2d4b7"
      },
      "execution_count": 8,
      "outputs": [
        {
          "output_type": "execute_result",
          "data": {
            "text/plain": [
              "{'a': 1, 'b': 2, 'c': 3}"
            ]
          },
          "metadata": {},
          "execution_count": 8
        }
      ]
    },
    {
      "cell_type": "markdown",
      "source": [
        "6.Make an OrderedDict called fancy from the same pairs listed in 5 and print it. Did it print in the\n",
        "same order as plain?"
      ],
      "metadata": {
        "id": "SdKVvFEhj6HM"
      }
    },
    {
      "cell_type": "code",
      "source": [
        "from collections import OrderedDict\n",
        "fancy = OrderedDict(dict)\n",
        "fancy"
      ],
      "metadata": {
        "colab": {
          "base_uri": "https://localhost:8080/"
        },
        "id": "VTZMT1JamEQ1",
        "outputId": "976cfe4a-a8dd-47cf-b053-2d398c8c5efe"
      },
      "execution_count": 9,
      "outputs": [
        {
          "output_type": "execute_result",
          "data": {
            "text/plain": [
              "OrderedDict([('a', 1), ('b', 2), ('c', 3)])"
            ]
          },
          "metadata": {},
          "execution_count": 9
        }
      ]
    },
    {
      "cell_type": "markdown",
      "source": [
        "7.Make a default dictionary called dict_of_lists and pass it the argument list. Make the list\n",
        "dict_of_lists[&#39;a&#39;] and append the value &#39;something for a&#39; to it in one assignment. Print\n",
        "dict_of_lists[&#39;a&#39;]."
      ],
      "metadata": {
        "id": "h-PMFYpGj8Ns"
      }
    },
    {
      "cell_type": "code",
      "source": [
        "from collections import defaultdict\n",
        "dict_of_lists = defaultdict(list) # values as list\n",
        "dict_of_lists['a'].append('something for a')\n",
        "print(dict_of_lists['a'])"
      ],
      "metadata": {
        "colab": {
          "base_uri": "https://localhost:8080/"
        },
        "id": "y2In7Xssm8v_",
        "outputId": "ac09a2b6-38c9-4cd0-c428-ccc94fd0d330"
      },
      "execution_count": 10,
      "outputs": [
        {
          "output_type": "stream",
          "name": "stdout",
          "text": [
            "['something for a']\n"
          ]
        }
      ]
    }
  ]
}