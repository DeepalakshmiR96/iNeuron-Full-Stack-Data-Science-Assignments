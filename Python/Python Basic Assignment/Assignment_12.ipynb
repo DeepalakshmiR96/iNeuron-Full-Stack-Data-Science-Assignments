{
  "nbformat": 4,
  "nbformat_minor": 0,
  "metadata": {
    "colab": {
      "name": "Assignment_12.ipynb",
      "provenance": []
    },
    "kernelspec": {
      "name": "python3",
      "display_name": "Python 3"
    },
    "language_info": {
      "name": "python"
    }
  },
  "cells": [
    {
      "cell_type": "markdown",
      "source": [
        "**Assignment - 12**"
      ],
      "metadata": {
        "id": "Ai3NpMmU_8rG"
      }
    },
    {
      "cell_type": "markdown",
      "source": [
        "1.In what modes should the PdfFileReader() and PdfFileWriter() File objects will be opened?"
      ],
      "metadata": {
        "id": "QuYQhzGO_1UM"
      }
    },
    {
      "cell_type": "markdown",
      "source": [
        "**Ans:** PdfFileReader() needs to be opened in read-binary mode by passing 'rb' as the second argument to open(). PdfFileWriter() needs to be opened in write-binary mode with 'wb'."
      ],
      "metadata": {
        "id": "0foIjIsa4ovp"
      }
    },
    {
      "cell_type": "markdown",
      "source": [
        "2.From a PdfFileReader object, how do you get a Page object for page 5?"
      ],
      "metadata": {
        "id": "vTrEv-Zx__Di"
      }
    },
    {
      "cell_type": "markdown",
      "source": [
        "**Ans:** use getPage(pageno) method"
      ],
      "metadata": {
        "id": "Y2nc6YGXJJfT"
      }
    },
    {
      "cell_type": "code",
      "source": [
        "import os, PyPDF2\n",
        "pno = 5\n",
        "path = os.path.abspath('Deepalakshmi R.pdf')\n",
        "pdf = PyPDF2.PdfFileReader(path)\n",
        "if pno  <= pdf.getNumPages():\n",
        "  pdf.getPage(pno)"
      ],
      "metadata": {
        "id": "o5eRyGY75GeC"
      },
      "execution_count": 11,
      "outputs": []
    },
    {
      "cell_type": "markdown",
      "source": [
        "3.What PdfFileReader variable stores the number of pages in the PDF document?"
      ],
      "metadata": {
        "id": "JSiWx_d8ABf9"
      }
    },
    {
      "cell_type": "markdown",
      "source": [
        "Ans: getNumPages() method of PdfFileReader class stores the no pages in a PDF document"
      ],
      "metadata": {
        "id": "pT7hjvKV8ugY"
      }
    },
    {
      "cell_type": "code",
      "source": [
        "pdf.getNumPages()"
      ],
      "metadata": {
        "colab": {
          "base_uri": "https://localhost:8080/"
        },
        "id": "Ei1LgKZ7-LWY",
        "outputId": "df7f7739-1e2f-4074-b887-6e67406b0a5d"
      },
      "execution_count": 12,
      "outputs": [
        {
          "output_type": "execute_result",
          "data": {
            "text/plain": [
              "11"
            ]
          },
          "metadata": {},
          "execution_count": 12
        }
      ]
    },
    {
      "cell_type": "markdown",
      "source": [
        "4.If a PdfFileReader object’s PDF is encrypted with the password swordfish, what must you do\n",
        "before you can obtain Page objects from it?"
      ],
      "metadata": {
        "id": "rPFosYYGAD2_"
      }
    },
    {
      "cell_type": "code",
      "source": [
        "p = PyPDF2.PdfFileReader(open(r'Deepalakshmi R.pdf','rb'))\n",
        "if p.isEncrypted:\n",
        "  p.decrypt('swordfish')\n",
        "for page in p.pages:\n",
        "  print(page.extractText())"
      ],
      "metadata": {
        "id": "7wia7ny4ASxL"
      },
      "execution_count": null,
      "outputs": []
    },
    {
      "cell_type": "markdown",
      "source": [
        "5.What methods do you use to rotate a page?"
      ],
      "metadata": {
        "id": "gnFt5RExAGy1"
      }
    },
    {
      "cell_type": "markdown",
      "source": [
        "**Ans: **\n",
        "\n",
        "rotateClockWise() -> For Clockwise rotation\n",
        "\n",
        "rotateCounterClockWise() -> For Counter Clockwise rotation"
      ],
      "metadata": {
        "id": "kKO-ZArvCO1V"
      }
    },
    {
      "cell_type": "code",
      "source": [
        "\n",
        "import PyPDF2\n",
        "\n",
        "with open('Python_Tutorial.pdf', 'rb') as pdf_file:\n",
        "    pdf_reader = PyPDF2.PdfFileReader(pdf_file)\n",
        "\n",
        "    for page_num in range(pdf_reader.numPages):\n",
        "        pdf_page = pdf_reader.getPage(page_num)\n",
        "        pdf_page.rotateClockwise(90)  "
      ],
      "metadata": {
        "id": "-arxbZReBcTf"
      },
      "execution_count": null,
      "outputs": []
    },
    {
      "cell_type": "markdown",
      "source": [
        "6.What is the difference between a Run object and a Paragraph object?"
      ],
      "metadata": {
        "id": "4sryUZh_AJHN"
      }
    },
    {
      "cell_type": "markdown",
      "source": [
        "**Ans:** The Document object contains a list of Paragraph objects for the paragraphs in the document. (A new paragraph begins whenever the user presses ENTER or RETURN while typing in a Word document.) \n",
        "\n",
        "Each of these Paragraph objects contains a list of one or more Run objects. \n",
        "\n",
        "A new Run object is needed whenever the text style changes."
      ],
      "metadata": {
        "id": "QUUJiM-2CTmY"
      }
    },
    {
      "cell_type": "markdown",
      "source": [
        "7.How do you obtain a list of Paragraph objects for a Document object that’s stored in a variable\n",
        "named doc?"
      ],
      "metadata": {
        "id": "lOfF5kZmALZ0"
      }
    },
    {
      "cell_type": "code",
      "source": [
        "!pip install docx\n",
        "import docx\n",
        "doc = docx.Document('Assignment_12.docx')\n",
        "for para in doc.paragraphs:\n",
        "  print(para.text)"
      ],
      "metadata": {
        "id": "011OVm-yFNfX"
      },
      "execution_count": null,
      "outputs": []
    },
    {
      "cell_type": "markdown",
      "source": [
        "8.What type of object has bold, underline, italic, strike, and outline variables?"
      ],
      "metadata": {
        "id": "ElaQ6-9uANuS"
      }
    },
    {
      "cell_type": "markdown",
      "source": [
        "**Ans:** Run object has bold, underline, italic, strike, and outline variables. The text in a Word document is more than just a string. It has font, size, color, and other styling information associated with it."
      ],
      "metadata": {
        "id": "3RD5pq6xFjeE"
      }
    },
    {
      "cell_type": "markdown",
      "source": [
        "9.What is the difference between False, True, and None for the bold variable?"
      ],
      "metadata": {
        "id": "vCDLRaH9AQbg"
      }
    },
    {
      "cell_type": "markdown",
      "source": [
        "**Ans:** True means the property is “on”, False means it is “off”. Conceptually, the None value means “Not applicable”"
      ],
      "metadata": {
        "id": "_UZ5NhdpGLGZ"
      }
    },
    {
      "cell_type": "markdown",
      "source": [
        "10.How do you create a Document object for a new Word document?"
      ],
      "metadata": {
        "id": "-8xabOTPAS5U"
      }
    },
    {
      "cell_type": "code",
      "source": [
        "import docx\n",
        "doc = docx.Document()\n",
        "doc.add_paragraph(\"Assignment  - 12\")\n",
        "doc.save(\"Assignment.docx\")"
      ],
      "metadata": {
        "id": "O5X0eQoBGaKo"
      },
      "execution_count": null,
      "outputs": []
    },
    {
      "cell_type": "markdown",
      "source": [
        "11.How do you add a paragraph with the text &#39;Hello, there!&#39; to a Document object stored in a\n",
        "variable named doc?"
      ],
      "metadata": {
        "id": "in82EapwAVeC"
      }
    },
    {
      "cell_type": "code",
      "source": [
        "import docx\n",
        "doc = docx.Document()\n",
        "doc.add_paragraph('Hello, there!')\n",
        "doc.save('hello.docx')"
      ],
      "metadata": {
        "id": "6xnAPQzXG24O"
      },
      "execution_count": null,
      "outputs": []
    },
    {
      "cell_type": "markdown",
      "source": [
        "12.What integers represent the levels of headings available in Word documents?"
      ],
      "metadata": {
        "id": "fuBD3XZqAaVO"
      }
    },
    {
      "cell_type": "markdown",
      "source": [
        "**Ans:** The arguments to add_heading() are a string of the heading text and an integer from 0 to 4 which is level attribute. The integer 0 makes the heading the Title style, which is used for the top of the document. Integers 1 to 4 are for various heading levels, with 1 being the main heading and 4 the lowest subheading"
      ],
      "metadata": {
        "id": "1RIqSzD1H2bm"
      }
    }
  ]
}